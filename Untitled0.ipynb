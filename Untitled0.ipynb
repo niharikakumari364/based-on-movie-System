{
  "nbformat": 4,
  "nbformat_minor": 0,
  "metadata": {
    "colab": {
      "provenance": [],
      "authorship_tag": "ABX9TyPq3BC/IuUXC6jKZ2xh7pZ5",
      "include_colab_link": true
    },
    "kernelspec": {
      "name": "python3",
      "display_name": "Python 3"
    },
    "language_info": {
      "name": "python"
    }
  },
  "cells": [
    {
      "cell_type": "markdown",
      "metadata": {
        "id": "view-in-github",
        "colab_type": "text"
      },
      "source": [
        "<a href=\"https://colab.research.google.com/github/niharikakumari364/based-on-movie-System/blob/main/Untitled0.ipynb\" target=\"_parent\"><img src=\"https://colab.research.google.com/assets/colab-badge.svg\" alt=\"Open In Colab\"/></a>"
      ]
    },
    {
      "cell_type": "markdown",
      "source": [
        "**Movie Recommendation System**\n",
        "\n",
        "\n",
        "\n"
      ],
      "metadata": {
        "id": "_GnCMGV1iDDd"
      }
    },
    {
      "cell_type": "markdown",
      "source": [
        "**Import Library**"
      ],
      "metadata": {
        "id": "JPqnpeV6i07n"
      }
    },
    {
      "cell_type": "code",
      "source": [
        "import pandas as pd"
      ],
      "metadata": {
        "id": "CG_X-P55iUzX"
      },
      "execution_count": 39,
      "outputs": []
    },
    {
      "cell_type": "code",
      "source": [
        "import numpy as np"
      ],
      "metadata": {
        "id": "woBr4KIBjP1U"
      },
      "execution_count": 40,
      "outputs": []
    },
    {
      "cell_type": "code",
      "source": [
        "df = pd.read_csv(r'https://raw.githubusercontent.com/YBI-Foundation/Dataset/main/Movies%20Recommendation.csv')"
      ],
      "metadata": {
        "id": "BT534BrSjmVH"
      },
      "execution_count": 41,
      "outputs": []
    },
    {
      "cell_type": "code",
      "source": [
        "df.head()"
      ],
      "metadata": {
        "colab": {
          "base_uri": "https://localhost:8080/",
          "height": 672
        },
        "id": "8W-6V-rtkWPj",
        "outputId": "1d01383b-4057-4413-ea5e-276c7f888b7d"
      },
      "execution_count": 42,
      "outputs": [
        {
          "output_type": "execute_result",
          "data": {
            "text/plain": [
              "   Movie_ID      Movie_Title                       Movie_Genre Movie_Language  \\\n",
              "0         1       Four Rooms                      Crime Comedy             en   \n",
              "1         2        Star Wars  Adventure Action Science Fiction             en   \n",
              "2         3     Finding Nemo                  Animation Family             en   \n",
              "3         4     Forrest Gump              Comedy Drama Romance             en   \n",
              "4         5  American Beauty                             Drama             en   \n",
              "\n",
              "   Movie_Budget  Movie_Popularity Movie_Release_Date  Movie_Revenue  \\\n",
              "0       4000000         22.876230         09-12-1995        4300000   \n",
              "1      11000000        126.393695         25-05-1977      775398007   \n",
              "2      94000000         85.688789         30-05-2003      940335536   \n",
              "3      55000000        138.133331         06-07-1994      677945399   \n",
              "4      15000000         80.878605         15-09-1999      356296601   \n",
              "\n",
              "   Movie_Runtime  Movie_Vote  ...  \\\n",
              "0           98.0         6.5  ...   \n",
              "1          121.0         8.1  ...   \n",
              "2          100.0         7.6  ...   \n",
              "3          142.0         8.2  ...   \n",
              "4          122.0         7.9  ...   \n",
              "\n",
              "                                      Movie_Homepage  \\\n",
              "0                                                NaN   \n",
              "1  http://www.starwars.com/films/star-wars-episod...   \n",
              "2              http://movies.disney.com/finding-nemo   \n",
              "3                                                NaN   \n",
              "4                      http://www.dreamworks.com/ab/   \n",
              "\n",
              "                                      Movie_Keywords  \\\n",
              "0          hotel new year's eve witch bet hotel room   \n",
              "1        android galaxy hermit death star lightsaber   \n",
              "2  father son relationship harbor underwater fish...   \n",
              "3  vietnam veteran hippie mentally disabled runni...   \n",
              "4  male nudity female nudity adultery midlife cri...   \n",
              "\n",
              "                                      Movie_Overview  \\\n",
              "0  It's Ted the Bellhop's first night on the job....   \n",
              "1  Princess Leia is captured and held hostage by ...   \n",
              "2  Nemo, an adventurous young clownfish, is unexp...   \n",
              "3  A man with a low IQ has accomplished great thi...   \n",
              "4  Lester Burnham, a depressed suburban father in...   \n",
              "\n",
              "                              Movie_Production_House  \\\n",
              "0  [{\"name\": \"Miramax Films\", \"id\": 14}, {\"name\":...   \n",
              "1  [{\"name\": \"Lucasfilm\", \"id\": 1}, {\"name\": \"Twe...   \n",
              "2     [{\"name\": \"Pixar Animation Studios\", \"id\": 3}]   \n",
              "3          [{\"name\": \"Paramount Pictures\", \"id\": 4}]   \n",
              "4  [{\"name\": \"DreamWorks SKG\", \"id\": 27}, {\"name\"...   \n",
              "\n",
              "                            Movie_Production_Country  \\\n",
              "0  [{\"iso_3166_1\": \"US\", \"name\": \"United States o...   \n",
              "1  [{\"iso_3166_1\": \"US\", \"name\": \"United States o...   \n",
              "2  [{\"iso_3166_1\": \"US\", \"name\": \"United States o...   \n",
              "3  [{\"iso_3166_1\": \"US\", \"name\": \"United States o...   \n",
              "4  [{\"iso_3166_1\": \"US\", \"name\": \"United States o...   \n",
              "\n",
              "                      Movie_Spoken_Language  \\\n",
              "0  [{\"iso_639_1\": \"en\", \"name\": \"English\"}]   \n",
              "1  [{\"iso_639_1\": \"en\", \"name\": \"English\"}]   \n",
              "2  [{\"iso_639_1\": \"en\", \"name\": \"English\"}]   \n",
              "3  [{\"iso_639_1\": \"en\", \"name\": \"English\"}]   \n",
              "4  [{\"iso_639_1\": \"en\", \"name\": \"English\"}]   \n",
              "\n",
              "                                       Movie_Tagline  \\\n",
              "0  Twelve outrageous guests. Four scandalous requ...   \n",
              "1       A long time ago in a galaxy far, far away...   \n",
              "2  There are 3.7 trillion fish in the ocean, they...   \n",
              "3  The world will never be the same, once you've ...   \n",
              "4                                       Look closer.   \n",
              "\n",
              "                                          Movie_Cast  \\\n",
              "0  Tim Roth Antonio Banderas Jennifer Beals Madon...   \n",
              "1  Mark Hamill Harrison Ford Carrie Fisher Peter ...   \n",
              "2  Albert Brooks Ellen DeGeneres Alexander Gould ...   \n",
              "3  Tom Hanks Robin Wright Gary Sinise Mykelti Wil...   \n",
              "4  Kevin Spacey Annette Bening Thora Birch Wes Be...   \n",
              "\n",
              "                                          Movie_Crew   Movie_Director  \n",
              "0  [{'name': 'Allison Anders', 'gender': 1, 'depa...   Allison Anders  \n",
              "1  [{'name': 'George Lucas', 'gender': 2, 'depart...     George Lucas  \n",
              "2  [{'name': 'Andrew Stanton', 'gender': 2, 'depa...   Andrew Stanton  \n",
              "3  [{'name': 'Alan Silvestri', 'gender': 2, 'depa...  Robert Zemeckis  \n",
              "4  [{'name': 'Thomas Newman', 'gender': 2, 'depar...       Sam Mendes  \n",
              "\n",
              "[5 rows x 21 columns]"
            ],
            "text/html": [
              "\n",
              "  <div id=\"df-788d3b33-cd1a-4baa-b364-849263e0c300\" class=\"colab-df-container\">\n",
              "    <div>\n",
              "<style scoped>\n",
              "    .dataframe tbody tr th:only-of-type {\n",
              "        vertical-align: middle;\n",
              "    }\n",
              "\n",
              "    .dataframe tbody tr th {\n",
              "        vertical-align: top;\n",
              "    }\n",
              "\n",
              "    .dataframe thead th {\n",
              "        text-align: right;\n",
              "    }\n",
              "</style>\n",
              "<table border=\"1\" class=\"dataframe\">\n",
              "  <thead>\n",
              "    <tr style=\"text-align: right;\">\n",
              "      <th></th>\n",
              "      <th>Movie_ID</th>\n",
              "      <th>Movie_Title</th>\n",
              "      <th>Movie_Genre</th>\n",
              "      <th>Movie_Language</th>\n",
              "      <th>Movie_Budget</th>\n",
              "      <th>Movie_Popularity</th>\n",
              "      <th>Movie_Release_Date</th>\n",
              "      <th>Movie_Revenue</th>\n",
              "      <th>Movie_Runtime</th>\n",
              "      <th>Movie_Vote</th>\n",
              "      <th>...</th>\n",
              "      <th>Movie_Homepage</th>\n",
              "      <th>Movie_Keywords</th>\n",
              "      <th>Movie_Overview</th>\n",
              "      <th>Movie_Production_House</th>\n",
              "      <th>Movie_Production_Country</th>\n",
              "      <th>Movie_Spoken_Language</th>\n",
              "      <th>Movie_Tagline</th>\n",
              "      <th>Movie_Cast</th>\n",
              "      <th>Movie_Crew</th>\n",
              "      <th>Movie_Director</th>\n",
              "    </tr>\n",
              "  </thead>\n",
              "  <tbody>\n",
              "    <tr>\n",
              "      <th>0</th>\n",
              "      <td>1</td>\n",
              "      <td>Four Rooms</td>\n",
              "      <td>Crime Comedy</td>\n",
              "      <td>en</td>\n",
              "      <td>4000000</td>\n",
              "      <td>22.876230</td>\n",
              "      <td>09-12-1995</td>\n",
              "      <td>4300000</td>\n",
              "      <td>98.0</td>\n",
              "      <td>6.5</td>\n",
              "      <td>...</td>\n",
              "      <td>NaN</td>\n",
              "      <td>hotel new year's eve witch bet hotel room</td>\n",
              "      <td>It's Ted the Bellhop's first night on the job....</td>\n",
              "      <td>[{\"name\": \"Miramax Films\", \"id\": 14}, {\"name\":...</td>\n",
              "      <td>[{\"iso_3166_1\": \"US\", \"name\": \"United States o...</td>\n",
              "      <td>[{\"iso_639_1\": \"en\", \"name\": \"English\"}]</td>\n",
              "      <td>Twelve outrageous guests. Four scandalous requ...</td>\n",
              "      <td>Tim Roth Antonio Banderas Jennifer Beals Madon...</td>\n",
              "      <td>[{'name': 'Allison Anders', 'gender': 1, 'depa...</td>\n",
              "      <td>Allison Anders</td>\n",
              "    </tr>\n",
              "    <tr>\n",
              "      <th>1</th>\n",
              "      <td>2</td>\n",
              "      <td>Star Wars</td>\n",
              "      <td>Adventure Action Science Fiction</td>\n",
              "      <td>en</td>\n",
              "      <td>11000000</td>\n",
              "      <td>126.393695</td>\n",
              "      <td>25-05-1977</td>\n",
              "      <td>775398007</td>\n",
              "      <td>121.0</td>\n",
              "      <td>8.1</td>\n",
              "      <td>...</td>\n",
              "      <td>http://www.starwars.com/films/star-wars-episod...</td>\n",
              "      <td>android galaxy hermit death star lightsaber</td>\n",
              "      <td>Princess Leia is captured and held hostage by ...</td>\n",
              "      <td>[{\"name\": \"Lucasfilm\", \"id\": 1}, {\"name\": \"Twe...</td>\n",
              "      <td>[{\"iso_3166_1\": \"US\", \"name\": \"United States o...</td>\n",
              "      <td>[{\"iso_639_1\": \"en\", \"name\": \"English\"}]</td>\n",
              "      <td>A long time ago in a galaxy far, far away...</td>\n",
              "      <td>Mark Hamill Harrison Ford Carrie Fisher Peter ...</td>\n",
              "      <td>[{'name': 'George Lucas', 'gender': 2, 'depart...</td>\n",
              "      <td>George Lucas</td>\n",
              "    </tr>\n",
              "    <tr>\n",
              "      <th>2</th>\n",
              "      <td>3</td>\n",
              "      <td>Finding Nemo</td>\n",
              "      <td>Animation Family</td>\n",
              "      <td>en</td>\n",
              "      <td>94000000</td>\n",
              "      <td>85.688789</td>\n",
              "      <td>30-05-2003</td>\n",
              "      <td>940335536</td>\n",
              "      <td>100.0</td>\n",
              "      <td>7.6</td>\n",
              "      <td>...</td>\n",
              "      <td>http://movies.disney.com/finding-nemo</td>\n",
              "      <td>father son relationship harbor underwater fish...</td>\n",
              "      <td>Nemo, an adventurous young clownfish, is unexp...</td>\n",
              "      <td>[{\"name\": \"Pixar Animation Studios\", \"id\": 3}]</td>\n",
              "      <td>[{\"iso_3166_1\": \"US\", \"name\": \"United States o...</td>\n",
              "      <td>[{\"iso_639_1\": \"en\", \"name\": \"English\"}]</td>\n",
              "      <td>There are 3.7 trillion fish in the ocean, they...</td>\n",
              "      <td>Albert Brooks Ellen DeGeneres Alexander Gould ...</td>\n",
              "      <td>[{'name': 'Andrew Stanton', 'gender': 2, 'depa...</td>\n",
              "      <td>Andrew Stanton</td>\n",
              "    </tr>\n",
              "    <tr>\n",
              "      <th>3</th>\n",
              "      <td>4</td>\n",
              "      <td>Forrest Gump</td>\n",
              "      <td>Comedy Drama Romance</td>\n",
              "      <td>en</td>\n",
              "      <td>55000000</td>\n",
              "      <td>138.133331</td>\n",
              "      <td>06-07-1994</td>\n",
              "      <td>677945399</td>\n",
              "      <td>142.0</td>\n",
              "      <td>8.2</td>\n",
              "      <td>...</td>\n",
              "      <td>NaN</td>\n",
              "      <td>vietnam veteran hippie mentally disabled runni...</td>\n",
              "      <td>A man with a low IQ has accomplished great thi...</td>\n",
              "      <td>[{\"name\": \"Paramount Pictures\", \"id\": 4}]</td>\n",
              "      <td>[{\"iso_3166_1\": \"US\", \"name\": \"United States o...</td>\n",
              "      <td>[{\"iso_639_1\": \"en\", \"name\": \"English\"}]</td>\n",
              "      <td>The world will never be the same, once you've ...</td>\n",
              "      <td>Tom Hanks Robin Wright Gary Sinise Mykelti Wil...</td>\n",
              "      <td>[{'name': 'Alan Silvestri', 'gender': 2, 'depa...</td>\n",
              "      <td>Robert Zemeckis</td>\n",
              "    </tr>\n",
              "    <tr>\n",
              "      <th>4</th>\n",
              "      <td>5</td>\n",
              "      <td>American Beauty</td>\n",
              "      <td>Drama</td>\n",
              "      <td>en</td>\n",
              "      <td>15000000</td>\n",
              "      <td>80.878605</td>\n",
              "      <td>15-09-1999</td>\n",
              "      <td>356296601</td>\n",
              "      <td>122.0</td>\n",
              "      <td>7.9</td>\n",
              "      <td>...</td>\n",
              "      <td>http://www.dreamworks.com/ab/</td>\n",
              "      <td>male nudity female nudity adultery midlife cri...</td>\n",
              "      <td>Lester Burnham, a depressed suburban father in...</td>\n",
              "      <td>[{\"name\": \"DreamWorks SKG\", \"id\": 27}, {\"name\"...</td>\n",
              "      <td>[{\"iso_3166_1\": \"US\", \"name\": \"United States o...</td>\n",
              "      <td>[{\"iso_639_1\": \"en\", \"name\": \"English\"}]</td>\n",
              "      <td>Look closer.</td>\n",
              "      <td>Kevin Spacey Annette Bening Thora Birch Wes Be...</td>\n",
              "      <td>[{'name': 'Thomas Newman', 'gender': 2, 'depar...</td>\n",
              "      <td>Sam Mendes</td>\n",
              "    </tr>\n",
              "  </tbody>\n",
              "</table>\n",
              "<p>5 rows × 21 columns</p>\n",
              "</div>\n",
              "    <div class=\"colab-df-buttons\">\n",
              "\n",
              "  <div class=\"colab-df-container\">\n",
              "    <button class=\"colab-df-convert\" onclick=\"convertToInteractive('df-788d3b33-cd1a-4baa-b364-849263e0c300')\"\n",
              "            title=\"Convert this dataframe to an interactive table.\"\n",
              "            style=\"display:none;\">\n",
              "\n",
              "  <svg xmlns=\"http://www.w3.org/2000/svg\" height=\"24px\" viewBox=\"0 -960 960 960\">\n",
              "    <path d=\"M120-120v-720h720v720H120Zm60-500h600v-160H180v160Zm220 220h160v-160H400v160Zm0 220h160v-160H400v160ZM180-400h160v-160H180v160Zm440 0h160v-160H620v160ZM180-180h160v-160H180v160Zm440 0h160v-160H620v160Z\"/>\n",
              "  </svg>\n",
              "    </button>\n",
              "\n",
              "  <style>\n",
              "    .colab-df-container {\n",
              "      display:flex;\n",
              "      gap: 12px;\n",
              "    }\n",
              "\n",
              "    .colab-df-convert {\n",
              "      background-color: #E8F0FE;\n",
              "      border: none;\n",
              "      border-radius: 50%;\n",
              "      cursor: pointer;\n",
              "      display: none;\n",
              "      fill: #1967D2;\n",
              "      height: 32px;\n",
              "      padding: 0 0 0 0;\n",
              "      width: 32px;\n",
              "    }\n",
              "\n",
              "    .colab-df-convert:hover {\n",
              "      background-color: #E2EBFA;\n",
              "      box-shadow: 0px 1px 2px rgba(60, 64, 67, 0.3), 0px 1px 3px 1px rgba(60, 64, 67, 0.15);\n",
              "      fill: #174EA6;\n",
              "    }\n",
              "\n",
              "    .colab-df-buttons div {\n",
              "      margin-bottom: 4px;\n",
              "    }\n",
              "\n",
              "    [theme=dark] .colab-df-convert {\n",
              "      background-color: #3B4455;\n",
              "      fill: #D2E3FC;\n",
              "    }\n",
              "\n",
              "    [theme=dark] .colab-df-convert:hover {\n",
              "      background-color: #434B5C;\n",
              "      box-shadow: 0px 1px 3px 1px rgba(0, 0, 0, 0.15);\n",
              "      filter: drop-shadow(0px 1px 2px rgba(0, 0, 0, 0.3));\n",
              "      fill: #FFFFFF;\n",
              "    }\n",
              "  </style>\n",
              "\n",
              "    <script>\n",
              "      const buttonEl =\n",
              "        document.querySelector('#df-788d3b33-cd1a-4baa-b364-849263e0c300 button.colab-df-convert');\n",
              "      buttonEl.style.display =\n",
              "        google.colab.kernel.accessAllowed ? 'block' : 'none';\n",
              "\n",
              "      async function convertToInteractive(key) {\n",
              "        const element = document.querySelector('#df-788d3b33-cd1a-4baa-b364-849263e0c300');\n",
              "        const dataTable =\n",
              "          await google.colab.kernel.invokeFunction('convertToInteractive',\n",
              "                                                    [key], {});\n",
              "        if (!dataTable) return;\n",
              "\n",
              "        const docLinkHtml = 'Like what you see? Visit the ' +\n",
              "          '<a target=\"_blank\" href=https://colab.research.google.com/notebooks/data_table.ipynb>data table notebook</a>'\n",
              "          + ' to learn more about interactive tables.';\n",
              "        element.innerHTML = '';\n",
              "        dataTable['output_type'] = 'display_data';\n",
              "        await google.colab.output.renderOutput(dataTable, element);\n",
              "        const docLink = document.createElement('div');\n",
              "        docLink.innerHTML = docLinkHtml;\n",
              "        element.appendChild(docLink);\n",
              "      }\n",
              "    </script>\n",
              "  </div>\n",
              "\n",
              "\n",
              "<div id=\"df-cab9e039-e11d-446c-81d3-d4b2d6dc711e\">\n",
              "  <button class=\"colab-df-quickchart\" onclick=\"quickchart('df-cab9e039-e11d-446c-81d3-d4b2d6dc711e')\"\n",
              "            title=\"Suggest charts.\"\n",
              "            style=\"display:none;\">\n",
              "\n",
              "<svg xmlns=\"http://www.w3.org/2000/svg\" height=\"24px\"viewBox=\"0 0 24 24\"\n",
              "     width=\"24px\">\n",
              "    <g>\n",
              "        <path d=\"M19 3H5c-1.1 0-2 .9-2 2v14c0 1.1.9 2 2 2h14c1.1 0 2-.9 2-2V5c0-1.1-.9-2-2-2zM9 17H7v-7h2v7zm4 0h-2V7h2v10zm4 0h-2v-4h2v4z\"/>\n",
              "    </g>\n",
              "</svg>\n",
              "  </button>\n",
              "\n",
              "<style>\n",
              "  .colab-df-quickchart {\n",
              "    background-color: #E8F0FE;\n",
              "    border: none;\n",
              "    border-radius: 50%;\n",
              "    cursor: pointer;\n",
              "    display: none;\n",
              "    fill: #1967D2;\n",
              "    height: 32px;\n",
              "    padding: 0 0 0 0;\n",
              "    width: 32px;\n",
              "  }\n",
              "\n",
              "  .colab-df-quickchart:hover {\n",
              "    background-color: #E2EBFA;\n",
              "    box-shadow: 0px 1px 2px rgba(60, 64, 67, 0.3), 0px 1px 3px 1px rgba(60, 64, 67, 0.15);\n",
              "    fill: #174EA6;\n",
              "  }\n",
              "\n",
              "  [theme=dark] .colab-df-quickchart {\n",
              "    background-color: #3B4455;\n",
              "    fill: #D2E3FC;\n",
              "  }\n",
              "\n",
              "  [theme=dark] .colab-df-quickchart:hover {\n",
              "    background-color: #434B5C;\n",
              "    box-shadow: 0px 1px 3px 1px rgba(0, 0, 0, 0.15);\n",
              "    filter: drop-shadow(0px 1px 2px rgba(0, 0, 0, 0.3));\n",
              "    fill: #FFFFFF;\n",
              "  }\n",
              "</style>\n",
              "\n",
              "  <script>\n",
              "    async function quickchart(key) {\n",
              "      const charts = await google.colab.kernel.invokeFunction(\n",
              "          'suggestCharts', [key], {});\n",
              "    }\n",
              "    (() => {\n",
              "      let quickchartButtonEl =\n",
              "        document.querySelector('#df-cab9e039-e11d-446c-81d3-d4b2d6dc711e button');\n",
              "      quickchartButtonEl.style.display =\n",
              "        google.colab.kernel.accessAllowed ? 'block' : 'none';\n",
              "    })();\n",
              "  </script>\n",
              "</div>\n",
              "    </div>\n",
              "  </div>\n"
            ]
          },
          "metadata": {},
          "execution_count": 42
        }
      ]
    },
    {
      "cell_type": "code",
      "source": [
        "df.info()"
      ],
      "metadata": {
        "colab": {
          "base_uri": "https://localhost:8080/"
        },
        "id": "YIP23kNmkpYv",
        "outputId": "e1a8c446-2d0c-474a-b2d2-4aafa8d1cd4a"
      },
      "execution_count": 43,
      "outputs": [
        {
          "output_type": "stream",
          "name": "stdout",
          "text": [
            "<class 'pandas.core.frame.DataFrame'>\n",
            "RangeIndex: 4760 entries, 0 to 4759\n",
            "Data columns (total 21 columns):\n",
            " #   Column                    Non-Null Count  Dtype  \n",
            "---  ------                    --------------  -----  \n",
            " 0   Movie_ID                  4760 non-null   int64  \n",
            " 1   Movie_Title               4760 non-null   object \n",
            " 2   Movie_Genre               4760 non-null   object \n",
            " 3   Movie_Language            4760 non-null   object \n",
            " 4   Movie_Budget              4760 non-null   int64  \n",
            " 5   Movie_Popularity          4760 non-null   float64\n",
            " 6   Movie_Release_Date        4760 non-null   object \n",
            " 7   Movie_Revenue             4760 non-null   int64  \n",
            " 8   Movie_Runtime             4758 non-null   float64\n",
            " 9   Movie_Vote                4760 non-null   float64\n",
            " 10  Movie_Vote_Count          4760 non-null   int64  \n",
            " 11  Movie_Homepage            1699 non-null   object \n",
            " 12  Movie_Keywords            4373 non-null   object \n",
            " 13  Movie_Overview            4757 non-null   object \n",
            " 14  Movie_Production_House    4760 non-null   object \n",
            " 15  Movie_Production_Country  4760 non-null   object \n",
            " 16  Movie_Spoken_Language     4760 non-null   object \n",
            " 17  Movie_Tagline             3942 non-null   object \n",
            " 18  Movie_Cast                4733 non-null   object \n",
            " 19  Movie_Crew                4760 non-null   object \n",
            " 20  Movie_Director            4738 non-null   object \n",
            "dtypes: float64(3), int64(4), object(14)\n",
            "memory usage: 781.1+ KB\n"
          ]
        }
      ]
    },
    {
      "cell_type": "code",
      "source": [
        "df.shape"
      ],
      "metadata": {
        "colab": {
          "base_uri": "https://localhost:8080/"
        },
        "id": "03vNlLzblLek",
        "outputId": "8853a4e4-99eb-4728-93a0-56af5795db59"
      },
      "execution_count": 44,
      "outputs": [
        {
          "output_type": "execute_result",
          "data": {
            "text/plain": [
              "(4760, 21)"
            ]
          },
          "metadata": {},
          "execution_count": 44
        }
      ]
    },
    {
      "cell_type": "code",
      "source": [
        "df.columns"
      ],
      "metadata": {
        "colab": {
          "base_uri": "https://localhost:8080/"
        },
        "id": "q-EG48lDlZq-",
        "outputId": "1ee7b3d8-79a8-45b7-afca-6ed25da7d8f6"
      },
      "execution_count": 45,
      "outputs": [
        {
          "output_type": "execute_result",
          "data": {
            "text/plain": [
              "Index(['Movie_ID', 'Movie_Title', 'Movie_Genre', 'Movie_Language',\n",
              "       'Movie_Budget', 'Movie_Popularity', 'Movie_Release_Date',\n",
              "       'Movie_Revenue', 'Movie_Runtime', 'Movie_Vote', 'Movie_Vote_Count',\n",
              "       'Movie_Homepage', 'Movie_Keywords', 'Movie_Overview',\n",
              "       'Movie_Production_House', 'Movie_Production_Country',\n",
              "       'Movie_Spoken_Language', 'Movie_Tagline', 'Movie_Cast', 'Movie_Crew',\n",
              "       'Movie_Director'],\n",
              "      dtype='object')"
            ]
          },
          "metadata": {},
          "execution_count": 45
        }
      ]
    },
    {
      "cell_type": "markdown",
      "source": [
        "**Get Feature Selection**"
      ],
      "metadata": {
        "id": "n7XirF9Nlj75"
      }
    },
    {
      "cell_type": "code",
      "source": [
        "df_features = df[['Movie_Genre','Movie_Keywords','Movie_Tagline','Movie_Cast','Movie_Director']].fillna('')"
      ],
      "metadata": {
        "id": "0VkP7u8GlaN4"
      },
      "execution_count": 46,
      "outputs": []
    },
    {
      "cell_type": "code",
      "source": [
        "df_features.shape"
      ],
      "metadata": {
        "colab": {
          "base_uri": "https://localhost:8080/"
        },
        "id": "XJf-_L2TnHRk",
        "outputId": "1da20775-d067-429a-ff68-9770aeb738d4"
      },
      "execution_count": 47,
      "outputs": [
        {
          "output_type": "execute_result",
          "data": {
            "text/plain": [
              "(4760, 5)"
            ]
          },
          "metadata": {},
          "execution_count": 47
        }
      ]
    },
    {
      "cell_type": "code",
      "source": [
        "df_features"
      ],
      "metadata": {
        "colab": {
          "base_uri": "https://localhost:8080/",
          "height": 493
        },
        "id": "I4PmFZ7um4Hb",
        "outputId": "bcbce4b3-ca8b-4f70-ba9c-6dfef226c56e"
      },
      "execution_count": 48,
      "outputs": [
        {
          "output_type": "execute_result",
          "data": {
            "text/plain": [
              "                           Movie_Genre  \\\n",
              "0                         Crime Comedy   \n",
              "1     Adventure Action Science Fiction   \n",
              "2                     Animation Family   \n",
              "3                 Comedy Drama Romance   \n",
              "4                                Drama   \n",
              "...                                ...   \n",
              "4755                            Horror   \n",
              "4756               Comedy Family Drama   \n",
              "4757                    Thriller Drama   \n",
              "4758                            Family   \n",
              "4759                       Documentary   \n",
              "\n",
              "                                         Movie_Keywords  \\\n",
              "0             hotel new year's eve witch bet hotel room   \n",
              "1           android galaxy hermit death star lightsaber   \n",
              "2     father son relationship harbor underwater fish...   \n",
              "3     vietnam veteran hippie mentally disabled runni...   \n",
              "4     male nudity female nudity adultery midlife cri...   \n",
              "...                                                 ...   \n",
              "4755                                                      \n",
              "4756                                                      \n",
              "4757                     christian film sex trafficking   \n",
              "4758                                                      \n",
              "4759  music actors legendary perfomer classic hollyw...   \n",
              "\n",
              "                                          Movie_Tagline  \\\n",
              "0     Twelve outrageous guests. Four scandalous requ...   \n",
              "1          A long time ago in a galaxy far, far away...   \n",
              "2     There are 3.7 trillion fish in the ocean, they...   \n",
              "3     The world will never be the same, once you've ...   \n",
              "4                                          Look closer.   \n",
              "...                                                 ...   \n",
              "4755                The hot spot where Satan's waitin'.   \n",
              "4756           It’s better to stand out than to fit in.   \n",
              "4757           She never knew it could happen to her...   \n",
              "4758                                                      \n",
              "4759                                                      \n",
              "\n",
              "                                             Movie_Cast     Movie_Director  \n",
              "0     Tim Roth Antonio Banderas Jennifer Beals Madon...     Allison Anders  \n",
              "1     Mark Hamill Harrison Ford Carrie Fisher Peter ...       George Lucas  \n",
              "2     Albert Brooks Ellen DeGeneres Alexander Gould ...     Andrew Stanton  \n",
              "3     Tom Hanks Robin Wright Gary Sinise Mykelti Wil...    Robert Zemeckis  \n",
              "4     Kevin Spacey Annette Bening Thora Birch Wes Be...         Sam Mendes  \n",
              "...                                                 ...                ...  \n",
              "4755  Lisa Hart Carroll Michael Des Barres Paul Drak...         Pece Dingo  \n",
              "4756  Roni Akurati Brighton Sharbino Jason Lee Anjul...       Frank Lotito  \n",
              "4757  Nicole Smolen Kim Baldwin Ariana Stephens Brys...       Jaco Booyens  \n",
              "4758                                                                        \n",
              "4759                                    Tony Oppedisano  Simon Napier-Bell  \n",
              "\n",
              "[4760 rows x 5 columns]"
            ],
            "text/html": [
              "\n",
              "  <div id=\"df-aba4fbce-6d1e-479a-8fc1-dbcefbb2f267\" class=\"colab-df-container\">\n",
              "    <div>\n",
              "<style scoped>\n",
              "    .dataframe tbody tr th:only-of-type {\n",
              "        vertical-align: middle;\n",
              "    }\n",
              "\n",
              "    .dataframe tbody tr th {\n",
              "        vertical-align: top;\n",
              "    }\n",
              "\n",
              "    .dataframe thead th {\n",
              "        text-align: right;\n",
              "    }\n",
              "</style>\n",
              "<table border=\"1\" class=\"dataframe\">\n",
              "  <thead>\n",
              "    <tr style=\"text-align: right;\">\n",
              "      <th></th>\n",
              "      <th>Movie_Genre</th>\n",
              "      <th>Movie_Keywords</th>\n",
              "      <th>Movie_Tagline</th>\n",
              "      <th>Movie_Cast</th>\n",
              "      <th>Movie_Director</th>\n",
              "    </tr>\n",
              "  </thead>\n",
              "  <tbody>\n",
              "    <tr>\n",
              "      <th>0</th>\n",
              "      <td>Crime Comedy</td>\n",
              "      <td>hotel new year's eve witch bet hotel room</td>\n",
              "      <td>Twelve outrageous guests. Four scandalous requ...</td>\n",
              "      <td>Tim Roth Antonio Banderas Jennifer Beals Madon...</td>\n",
              "      <td>Allison Anders</td>\n",
              "    </tr>\n",
              "    <tr>\n",
              "      <th>1</th>\n",
              "      <td>Adventure Action Science Fiction</td>\n",
              "      <td>android galaxy hermit death star lightsaber</td>\n",
              "      <td>A long time ago in a galaxy far, far away...</td>\n",
              "      <td>Mark Hamill Harrison Ford Carrie Fisher Peter ...</td>\n",
              "      <td>George Lucas</td>\n",
              "    </tr>\n",
              "    <tr>\n",
              "      <th>2</th>\n",
              "      <td>Animation Family</td>\n",
              "      <td>father son relationship harbor underwater fish...</td>\n",
              "      <td>There are 3.7 trillion fish in the ocean, they...</td>\n",
              "      <td>Albert Brooks Ellen DeGeneres Alexander Gould ...</td>\n",
              "      <td>Andrew Stanton</td>\n",
              "    </tr>\n",
              "    <tr>\n",
              "      <th>3</th>\n",
              "      <td>Comedy Drama Romance</td>\n",
              "      <td>vietnam veteran hippie mentally disabled runni...</td>\n",
              "      <td>The world will never be the same, once you've ...</td>\n",
              "      <td>Tom Hanks Robin Wright Gary Sinise Mykelti Wil...</td>\n",
              "      <td>Robert Zemeckis</td>\n",
              "    </tr>\n",
              "    <tr>\n",
              "      <th>4</th>\n",
              "      <td>Drama</td>\n",
              "      <td>male nudity female nudity adultery midlife cri...</td>\n",
              "      <td>Look closer.</td>\n",
              "      <td>Kevin Spacey Annette Bening Thora Birch Wes Be...</td>\n",
              "      <td>Sam Mendes</td>\n",
              "    </tr>\n",
              "    <tr>\n",
              "      <th>...</th>\n",
              "      <td>...</td>\n",
              "      <td>...</td>\n",
              "      <td>...</td>\n",
              "      <td>...</td>\n",
              "      <td>...</td>\n",
              "    </tr>\n",
              "    <tr>\n",
              "      <th>4755</th>\n",
              "      <td>Horror</td>\n",
              "      <td></td>\n",
              "      <td>The hot spot where Satan's waitin'.</td>\n",
              "      <td>Lisa Hart Carroll Michael Des Barres Paul Drak...</td>\n",
              "      <td>Pece Dingo</td>\n",
              "    </tr>\n",
              "    <tr>\n",
              "      <th>4756</th>\n",
              "      <td>Comedy Family Drama</td>\n",
              "      <td></td>\n",
              "      <td>It’s better to stand out than to fit in.</td>\n",
              "      <td>Roni Akurati Brighton Sharbino Jason Lee Anjul...</td>\n",
              "      <td>Frank Lotito</td>\n",
              "    </tr>\n",
              "    <tr>\n",
              "      <th>4757</th>\n",
              "      <td>Thriller Drama</td>\n",
              "      <td>christian film sex trafficking</td>\n",
              "      <td>She never knew it could happen to her...</td>\n",
              "      <td>Nicole Smolen Kim Baldwin Ariana Stephens Brys...</td>\n",
              "      <td>Jaco Booyens</td>\n",
              "    </tr>\n",
              "    <tr>\n",
              "      <th>4758</th>\n",
              "      <td>Family</td>\n",
              "      <td></td>\n",
              "      <td></td>\n",
              "      <td></td>\n",
              "      <td></td>\n",
              "    </tr>\n",
              "    <tr>\n",
              "      <th>4759</th>\n",
              "      <td>Documentary</td>\n",
              "      <td>music actors legendary perfomer classic hollyw...</td>\n",
              "      <td></td>\n",
              "      <td>Tony Oppedisano</td>\n",
              "      <td>Simon Napier-Bell</td>\n",
              "    </tr>\n",
              "  </tbody>\n",
              "</table>\n",
              "<p>4760 rows × 5 columns</p>\n",
              "</div>\n",
              "    <div class=\"colab-df-buttons\">\n",
              "\n",
              "  <div class=\"colab-df-container\">\n",
              "    <button class=\"colab-df-convert\" onclick=\"convertToInteractive('df-aba4fbce-6d1e-479a-8fc1-dbcefbb2f267')\"\n",
              "            title=\"Convert this dataframe to an interactive table.\"\n",
              "            style=\"display:none;\">\n",
              "\n",
              "  <svg xmlns=\"http://www.w3.org/2000/svg\" height=\"24px\" viewBox=\"0 -960 960 960\">\n",
              "    <path d=\"M120-120v-720h720v720H120Zm60-500h600v-160H180v160Zm220 220h160v-160H400v160Zm0 220h160v-160H400v160ZM180-400h160v-160H180v160Zm440 0h160v-160H620v160ZM180-180h160v-160H180v160Zm440 0h160v-160H620v160Z\"/>\n",
              "  </svg>\n",
              "    </button>\n",
              "\n",
              "  <style>\n",
              "    .colab-df-container {\n",
              "      display:flex;\n",
              "      gap: 12px;\n",
              "    }\n",
              "\n",
              "    .colab-df-convert {\n",
              "      background-color: #E8F0FE;\n",
              "      border: none;\n",
              "      border-radius: 50%;\n",
              "      cursor: pointer;\n",
              "      display: none;\n",
              "      fill: #1967D2;\n",
              "      height: 32px;\n",
              "      padding: 0 0 0 0;\n",
              "      width: 32px;\n",
              "    }\n",
              "\n",
              "    .colab-df-convert:hover {\n",
              "      background-color: #E2EBFA;\n",
              "      box-shadow: 0px 1px 2px rgba(60, 64, 67, 0.3), 0px 1px 3px 1px rgba(60, 64, 67, 0.15);\n",
              "      fill: #174EA6;\n",
              "    }\n",
              "\n",
              "    .colab-df-buttons div {\n",
              "      margin-bottom: 4px;\n",
              "    }\n",
              "\n",
              "    [theme=dark] .colab-df-convert {\n",
              "      background-color: #3B4455;\n",
              "      fill: #D2E3FC;\n",
              "    }\n",
              "\n",
              "    [theme=dark] .colab-df-convert:hover {\n",
              "      background-color: #434B5C;\n",
              "      box-shadow: 0px 1px 3px 1px rgba(0, 0, 0, 0.15);\n",
              "      filter: drop-shadow(0px 1px 2px rgba(0, 0, 0, 0.3));\n",
              "      fill: #FFFFFF;\n",
              "    }\n",
              "  </style>\n",
              "\n",
              "    <script>\n",
              "      const buttonEl =\n",
              "        document.querySelector('#df-aba4fbce-6d1e-479a-8fc1-dbcefbb2f267 button.colab-df-convert');\n",
              "      buttonEl.style.display =\n",
              "        google.colab.kernel.accessAllowed ? 'block' : 'none';\n",
              "\n",
              "      async function convertToInteractive(key) {\n",
              "        const element = document.querySelector('#df-aba4fbce-6d1e-479a-8fc1-dbcefbb2f267');\n",
              "        const dataTable =\n",
              "          await google.colab.kernel.invokeFunction('convertToInteractive',\n",
              "                                                    [key], {});\n",
              "        if (!dataTable) return;\n",
              "\n",
              "        const docLinkHtml = 'Like what you see? Visit the ' +\n",
              "          '<a target=\"_blank\" href=https://colab.research.google.com/notebooks/data_table.ipynb>data table notebook</a>'\n",
              "          + ' to learn more about interactive tables.';\n",
              "        element.innerHTML = '';\n",
              "        dataTable['output_type'] = 'display_data';\n",
              "        await google.colab.output.renderOutput(dataTable, element);\n",
              "        const docLink = document.createElement('div');\n",
              "        docLink.innerHTML = docLinkHtml;\n",
              "        element.appendChild(docLink);\n",
              "      }\n",
              "    </script>\n",
              "  </div>\n",
              "\n",
              "\n",
              "<div id=\"df-759969e1-a685-4bc9-ba05-1d0ddb04b303\">\n",
              "  <button class=\"colab-df-quickchart\" onclick=\"quickchart('df-759969e1-a685-4bc9-ba05-1d0ddb04b303')\"\n",
              "            title=\"Suggest charts.\"\n",
              "            style=\"display:none;\">\n",
              "\n",
              "<svg xmlns=\"http://www.w3.org/2000/svg\" height=\"24px\"viewBox=\"0 0 24 24\"\n",
              "     width=\"24px\">\n",
              "    <g>\n",
              "        <path d=\"M19 3H5c-1.1 0-2 .9-2 2v14c0 1.1.9 2 2 2h14c1.1 0 2-.9 2-2V5c0-1.1-.9-2-2-2zM9 17H7v-7h2v7zm4 0h-2V7h2v10zm4 0h-2v-4h2v4z\"/>\n",
              "    </g>\n",
              "</svg>\n",
              "  </button>\n",
              "\n",
              "<style>\n",
              "  .colab-df-quickchart {\n",
              "    background-color: #E8F0FE;\n",
              "    border: none;\n",
              "    border-radius: 50%;\n",
              "    cursor: pointer;\n",
              "    display: none;\n",
              "    fill: #1967D2;\n",
              "    height: 32px;\n",
              "    padding: 0 0 0 0;\n",
              "    width: 32px;\n",
              "  }\n",
              "\n",
              "  .colab-df-quickchart:hover {\n",
              "    background-color: #E2EBFA;\n",
              "    box-shadow: 0px 1px 2px rgba(60, 64, 67, 0.3), 0px 1px 3px 1px rgba(60, 64, 67, 0.15);\n",
              "    fill: #174EA6;\n",
              "  }\n",
              "\n",
              "  [theme=dark] .colab-df-quickchart {\n",
              "    background-color: #3B4455;\n",
              "    fill: #D2E3FC;\n",
              "  }\n",
              "\n",
              "  [theme=dark] .colab-df-quickchart:hover {\n",
              "    background-color: #434B5C;\n",
              "    box-shadow: 0px 1px 3px 1px rgba(0, 0, 0, 0.15);\n",
              "    filter: drop-shadow(0px 1px 2px rgba(0, 0, 0, 0.3));\n",
              "    fill: #FFFFFF;\n",
              "  }\n",
              "</style>\n",
              "\n",
              "  <script>\n",
              "    async function quickchart(key) {\n",
              "      const charts = await google.colab.kernel.invokeFunction(\n",
              "          'suggestCharts', [key], {});\n",
              "    }\n",
              "    (() => {\n",
              "      let quickchartButtonEl =\n",
              "        document.querySelector('#df-759969e1-a685-4bc9-ba05-1d0ddb04b303 button');\n",
              "      quickchartButtonEl.style.display =\n",
              "        google.colab.kernel.accessAllowed ? 'block' : 'none';\n",
              "    })();\n",
              "  </script>\n",
              "</div>\n",
              "    </div>\n",
              "  </div>\n"
            ]
          },
          "metadata": {},
          "execution_count": 48
        }
      ]
    },
    {
      "cell_type": "code",
      "source": [
        "X = df_features['Movie_Genre'] + ' '+ df_features['Movie_Keywords']+ ' ' + df_features['Movie_Tagline'] + ' ' + df_features['Movie_Cast'] + ' ' + df_features['Movie_Director']"
      ],
      "metadata": {
        "id": "IiXS8S6nnkBN"
      },
      "execution_count": 49,
      "outputs": []
    },
    {
      "cell_type": "code",
      "source": [
        "X"
      ],
      "metadata": {
        "colab": {
          "base_uri": "https://localhost:8080/"
        },
        "id": "RNLTnYYyrzak",
        "outputId": "b89c51e8-2553-4748-b773-7b4db95831f6"
      },
      "execution_count": 50,
      "outputs": [
        {
          "output_type": "execute_result",
          "data": {
            "text/plain": [
              "0       Crime Comedy hotel new year's eve witch bet ho...\n",
              "1       Adventure Action Science Fiction android galax...\n",
              "2       Animation Family father son relationship harbo...\n",
              "3       Comedy Drama Romance vietnam veteran hippie me...\n",
              "4       Drama male nudity female nudity adultery midli...\n",
              "                              ...                        \n",
              "4755    Horror  The hot spot where Satan's waitin'. Li...\n",
              "4756    Comedy Family Drama  It’s better to stand out ...\n",
              "4757    Thriller Drama christian film sex trafficking ...\n",
              "4758                                           Family    \n",
              "4759    Documentary music actors legendary perfomer cl...\n",
              "Length: 4760, dtype: object"
            ]
          },
          "metadata": {},
          "execution_count": 50
        }
      ]
    },
    {
      "cell_type": "code",
      "source": [
        "X.shape"
      ],
      "metadata": {
        "colab": {
          "base_uri": "https://localhost:8080/"
        },
        "id": "_tNHnAqdnlW0",
        "outputId": "4713eddf-0fb8-4e39-805f-7ccd571c9540"
      },
      "execution_count": 51,
      "outputs": [
        {
          "output_type": "execute_result",
          "data": {
            "text/plain": [
              "(4760,)"
            ]
          },
          "metadata": {},
          "execution_count": 51
        }
      ]
    },
    {
      "cell_type": "markdown",
      "source": [
        "**Get Feature Text Conversion to Tokens**"
      ],
      "metadata": {
        "id": "geytKAb5pZZ2"
      }
    },
    {
      "cell_type": "code",
      "source": [
        "from sklearn.feature_extraction.text import TfidfVectorizer"
      ],
      "metadata": {
        "id": "o23_jRfTpjET"
      },
      "execution_count": 52,
      "outputs": []
    },
    {
      "cell_type": "code",
      "source": [
        "tfidf = TfidfVectorizer()"
      ],
      "metadata": {
        "id": "duQZSakeqHQM"
      },
      "execution_count": 55,
      "outputs": []
    },
    {
      "cell_type": "code",
      "source": [
        "X = tfidf.fit_transform(X)"
      ],
      "metadata": {
        "id": "Gu_is5cXqHnp"
      },
      "execution_count": 56,
      "outputs": []
    },
    {
      "cell_type": "code",
      "source": [
        "X.shape"
      ],
      "metadata": {
        "colab": {
          "base_uri": "https://localhost:8080/"
        },
        "id": "7kgcHPbIs8jK",
        "outputId": "fbf1e64e-042e-4a4e-deb3-422a9e06ef6a"
      },
      "execution_count": 57,
      "outputs": [
        {
          "output_type": "execute_result",
          "data": {
            "text/plain": [
              "(4760, 17258)"
            ]
          },
          "metadata": {},
          "execution_count": 57
        }
      ]
    },
    {
      "cell_type": "code",
      "source": [
        "print(X)"
      ],
      "metadata": {
        "colab": {
          "base_uri": "https://localhost:8080/"
        },
        "id": "klUioMsJtFXC",
        "outputId": "ec6c7046-1619-4edc-bc0e-661176fad2a2"
      },
      "execution_count": 58,
      "outputs": [
        {
          "output_type": "stream",
          "name": "stdout",
          "text": [
            "  (0, 617)\t0.1633382144407513\n",
            "  (0, 492)\t0.1432591540388685\n",
            "  (0, 15413)\t0.1465525095337543\n",
            "  (0, 9675)\t0.14226057295252661\n",
            "  (0, 9465)\t0.1659841367820977\n",
            "  (0, 1390)\t0.16898383612799558\n",
            "  (0, 7825)\t0.09799561597509843\n",
            "  (0, 1214)\t0.13865857545144072\n",
            "  (0, 729)\t0.13415063359531618\n",
            "  (0, 13093)\t0.1432591540388685\n",
            "  (0, 15355)\t0.10477815972666779\n",
            "  (0, 9048)\t0.0866842116160778\n",
            "  (0, 11161)\t0.06250380151644369\n",
            "  (0, 16773)\t0.17654247479915475\n",
            "  (0, 5612)\t0.08603537588547631\n",
            "  (0, 16735)\t0.10690083751525419\n",
            "  (0, 7904)\t0.13348000542112332\n",
            "  (0, 15219)\t0.09800472886453934\n",
            "  (0, 11242)\t0.07277788238484746\n",
            "  (0, 3878)\t0.11998399582562203\n",
            "  (0, 5499)\t0.11454057510303811\n",
            "  (0, 7071)\t0.19822417598406614\n",
            "  (0, 7454)\t0.14745635785412262\n",
            "  (0, 1495)\t0.19712637387361423\n",
            "  (0, 9206)\t0.15186283580984414\n",
            "  :\t:\n",
            "  (4757, 5455)\t0.12491480594769522\n",
            "  (4757, 2967)\t0.16273475835631626\n",
            "  (4757, 8464)\t0.23522565554066333\n",
            "  (4757, 6938)\t0.17088173678136628\n",
            "  (4757, 8379)\t0.17480603856721913\n",
            "  (4757, 15303)\t0.07654356007668191\n",
            "  (4757, 15384)\t0.09754322497537371\n",
            "  (4757, 7649)\t0.11479421494340192\n",
            "  (4757, 10896)\t0.14546473055066447\n",
            "  (4757, 4494)\t0.05675298448720501\n",
            "  (4758, 5238)\t1.0\n",
            "  (4759, 11264)\t0.33947721804318337\n",
            "  (4759, 11708)\t0.33947721804318337\n",
            "  (4759, 205)\t0.3237911628497312\n",
            "  (4759, 8902)\t0.3040290704566037\n",
            "  (4759, 14062)\t0.3237911628497312\n",
            "  (4759, 3058)\t0.2812896191863103\n",
            "  (4759, 7130)\t0.26419662449963793\n",
            "  (4759, 10761)\t0.3126617295732147\n",
            "  (4759, 4358)\t0.18306542312175342\n",
            "  (4759, 14051)\t0.20084315377640435\n",
            "  (4759, 5690)\t0.19534291014627303\n",
            "  (4759, 15431)\t0.19628653185946862\n",
            "  (4759, 1490)\t0.21197258705292082\n",
            "  (4759, 10666)\t0.15888268987343043\n"
          ]
        }
      ]
    },
    {
      "cell_type": "markdown",
      "source": [
        "**Get Similarity Score using Cosine Similarity**"
      ],
      "metadata": {
        "id": "6CZlLW7btUyE"
      }
    },
    {
      "cell_type": "code",
      "source": [
        "from sklearn.metrics.pairwise import cosine_similarity"
      ],
      "metadata": {
        "id": "-FBpn7jxtFrY"
      },
      "execution_count": 59,
      "outputs": []
    },
    {
      "cell_type": "code",
      "source": [
        "Similarity_Score = cosine_similarity(X)"
      ],
      "metadata": {
        "id": "Tl0F6jbjt2EE"
      },
      "execution_count": 61,
      "outputs": []
    },
    {
      "cell_type": "code",
      "source": [
        "Similarity_Score"
      ],
      "metadata": {
        "colab": {
          "base_uri": "https://localhost:8080/"
        },
        "id": "MUNuJuXmt2c_",
        "outputId": "d583391a-1a69-49cb-d23e-047528370728"
      },
      "execution_count": 62,
      "outputs": [
        {
          "output_type": "execute_result",
          "data": {
            "text/plain": [
              "array([[1.        , 0.01351235, 0.03570468, ..., 0.        , 0.        ,\n",
              "        0.        ],\n",
              "       [0.01351235, 1.        , 0.00806674, ..., 0.        , 0.        ,\n",
              "        0.        ],\n",
              "       [0.03570468, 0.00806674, 1.        , ..., 0.        , 0.08014876,\n",
              "        0.        ],\n",
              "       ...,\n",
              "       [0.        , 0.        , 0.        , ..., 1.        , 0.        ,\n",
              "        0.        ],\n",
              "       [0.        , 0.        , 0.08014876, ..., 0.        , 1.        ,\n",
              "        0.        ],\n",
              "       [0.        , 0.        , 0.        , ..., 0.        , 0.        ,\n",
              "        1.        ]])"
            ]
          },
          "metadata": {},
          "execution_count": 62
        }
      ]
    },
    {
      "cell_type": "code",
      "source": [
        "Similarity_Score.shape"
      ],
      "metadata": {
        "colab": {
          "base_uri": "https://localhost:8080/"
        },
        "id": "rWAYzTfruaBo",
        "outputId": "ee61f99d-8347-4f60-e47f-b7110d23c301"
      },
      "execution_count": 63,
      "outputs": [
        {
          "output_type": "execute_result",
          "data": {
            "text/plain": [
              "(4760, 4760)"
            ]
          },
          "metadata": {},
          "execution_count": 63
        }
      ]
    },
    {
      "cell_type": "markdown",
      "source": [
        "**Get Movie Name as Input from User and Validate for closest Spelling**"
      ],
      "metadata": {
        "id": "9bND97kZug4q"
      }
    },
    {
      "cell_type": "code",
      "source": [
        "Favourite_Movie_Name = input('Enter your favourite movie name :')"
      ],
      "metadata": {
        "colab": {
          "base_uri": "https://localhost:8080/"
        },
        "id": "PhaMe3A4uy_S",
        "outputId": "63e3cecf-8658-4d46-e9b3-d4ff4947bc81"
      },
      "execution_count": 64,
      "outputs": [
        {
          "name": "stdout",
          "output_type": "stream",
          "text": [
            "Enter your favourite movie name :krishna\n"
          ]
        }
      ]
    },
    {
      "cell_type": "code",
      "source": [
        "All_Movies_Title_List = df['Movie_Title'].tolist()"
      ],
      "metadata": {
        "id": "jy8P90iVufwY"
      },
      "execution_count": 73,
      "outputs": []
    },
    {
      "cell_type": "code",
      "source": [
        "import difflib"
      ],
      "metadata": {
        "id": "Fq-x-ZQzvuIE"
      },
      "execution_count": 74,
      "outputs": []
    },
    {
      "cell_type": "code",
      "source": [
        "Movie_Recommendation = difflib.get_close_matches(Favourite_Movie_Name, All_Movies_Title_List)\n",
        "print(Movie_Recommendation)"
      ],
      "metadata": {
        "colab": {
          "base_uri": "https://localhost:8080/"
        },
        "id": "EtIBIy8Lv6OD",
        "outputId": "65b704f0-988b-4bdd-e01d-b2b2723a7686"
      },
      "execution_count": 75,
      "outputs": [
        {
          "output_type": "stream",
          "name": "stdout",
          "text": [
            "['Prison', 'Krrish']\n"
          ]
        }
      ]
    },
    {
      "cell_type": "code",
      "source": [
        "Close_Match = Movie_Recommendation[0]\n",
        "print(Close_Match)"
      ],
      "metadata": {
        "colab": {
          "base_uri": "https://localhost:8080/"
        },
        "id": "E0M_2S5YyLnj",
        "outputId": "8a64a841-fa3a-4548-fb73-79220cda15b7"
      },
      "execution_count": 76,
      "outputs": [
        {
          "output_type": "stream",
          "name": "stdout",
          "text": [
            "Prison\n"
          ]
        }
      ]
    },
    {
      "cell_type": "code",
      "source": [
        "Index_of_Close_Match_Movie = df[df.Movie_Title == Close_Match]['Movie_ID'].values[0]\n",
        "print(Index_of_Close_Match_Movie)"
      ],
      "metadata": {
        "colab": {
          "base_uri": "https://localhost:8080/"
        },
        "id": "15vGEW6KyMzo",
        "outputId": "adcc7881-e480-485b-aae7-9029d99a3022"
      },
      "execution_count": 77,
      "outputs": [
        {
          "output_type": "stream",
          "name": "stdout",
          "text": [
            "3439\n"
          ]
        }
      ]
    },
    {
      "cell_type": "code",
      "source": [
        "#getting a list of similar movies\n",
        "Recommendation_score = list(enumerate(Similarity_Score[Index_of_Close_Match_Movie]))\n",
        "print(Recommendation_score)"
      ],
      "metadata": {
        "colab": {
          "base_uri": "https://localhost:8080/"
        },
        "id": "8B0kc_eIzszz",
        "outputId": "f258b21a-3171-49dd-f5c4-a49d6640e2a5"
      },
      "execution_count": 78,
      "outputs": [
        {
          "output_type": "stream",
          "name": "stdout",
          "text": [
            "[(0, 0.0036989697472991443), (1, 0.008709009259655363), (2, 0.0), (3, 0.004524905752087829), (4, 0.0), (5, 0.015105607964784707), (6, 0.01049067715449321), (7, 0.0), (8, 0.0), (9, 0.009023037578824796), (10, 0.01604994177430572), (11, 0.0), (12, 0.0), (13, 0.0), (14, 0.018491423675792103), (15, 0.0), (16, 0.0), (17, 0.010357461991128317), (18, 0.01444161559564082), (19, 0.018814803418693307), (20, 0.0), (21, 0.0), (22, 0.005110712532964869), (23, 0.0), (24, 0.0), (25, 0.00425772010017354), (26, 0.0), (27, 0.010128434115017813), (28, 0.005225947413630885), (29, 0.0), (30, 0.0), (31, 0.0), (32, 0.008550492284905857), (33, 0.0), (34, 0.0), (35, 0.008996927920832445), (36, 0.017820518158770816), (37, 0.008900960561434211), (38, 0.005882205333485617), (39, 0.00979039328762783), (40, 0.005773832702930319), (41, 0.04366548906053817), (42, 0.005264840743775824), (43, 0.0), (44, 0.0), (45, 0.01413884025793483), (46, 0.009062450270740633), (47, 0.0), (48, 0.0), (49, 0.004989082589516706), (50, 0.005083085792191176), (51, 0.0), (52, 0.0), (53, 0.02838821266367727), (54, 0.009901955547138354), (55, 0.010188103135301036), (56, 0.009927256515099077), (57, 0.008041416093810493), (58, 0.008175566356440874), (59, 0.015348806052721483), (60, 0.004403015036383648), (61, 0.0), (62, 0.031102997446771665), (63, 0.007759996264131135), (64, 0.0), (65, 0.019338083880351364), (66, 0.0), (67, 0.008841562462359377), (68, 0.0), (69, 0.010705935088768463), (70, 0.0), (71, 0.0), (72, 0.0), (73, 0.01289758367988343), (74, 0.0), (75, 0.008189464308600866), (76, 0.0), (77, 0.00984594302335506), (78, 0.016392035329777305), (79, 0.009719968903669125), (80, 0.00893397065313385), (81, 0.012943739861912365), (82, 0.025284045861870982), (83, 0.04406287843047917), (84, 0.0), (85, 0.0), (86, 0.004426591837916272), (87, 0.0), (88, 0.0), (89, 0.0), (90, 0.024262112583069245), (91, 0.013188730041680129), (92, 0.0), (93, 0.009338804151055584), (94, 0.008953998438018229), (95, 0.010029816236636355), (96, 0.013939138860020194), (97, 0.0), (98, 0.027585414260447118), (99, 0.011298343651338305), (100, 0.014287984892508982), (101, 0.021621927821561374), (102, 0.0), (103, 0.004458173435392245), (104, 0.0), (105, 0.0), (106, 0.0), (107, 0.0), (108, 0.0), (109, 0.0), (110, 0.005260511015871546), (111, 0.0), (112, 0.0), (113, 0.008465303992177865), (114, 0.0051520488222600285), (115, 0.00526307563582195), (116, 0.0), (117, 0.0), (118, 0.01000451270835826), (119, 0.009565998906658475), (120, 0.0), (121, 0.0), (122, 0.0), (123, 0.0), (124, 0.011928880667049424), (125, 0.0), (126, 0.0), (127, 0.0), (128, 0.0), (129, 0.00359425557607651), (130, 0.01770352203723916), (131, 0.0), (132, 0.0), (133, 0.014863503218195934), (134, 0.0052580304858106065), (135, 0.01504784328656276), (136, 0.0), (137, 0.0), (138, 0.0), (139, 0.005774989100717497), (140, 0.0), (141, 0.05386163969078889), (142, 0.0), (143, 0.0), (144, 0.0), (145, 0.028718942913551593), (146, 0.00555207701635232), (147, 0.03761917090172974), (148, 0.025522219735994778), (149, 0.0), (150, 0.01908924104346928), (151, 0.010072123426732804), (152, 0.009468795726783205), (153, 0.03521051422322631), (154, 0.04119773309595258), (155, 0.0), (156, 0.004181325837182226), (157, 0.004902109175946963), (158, 0.0), (159, 0.0), (160, 0.011974373423597766), (161, 0.057614601542795574), (162, 0.0), (163, 0.010604058047806472), (164, 0.0), (165, 0.008428820426098688), (166, 0.0), (167, 0.0), (168, 0.0), (169, 0.005057049061938951), (170, 0.013645965231027922), (171, 0.009255393955418925), (172, 0.0), (173, 0.029525287917321702), (174, 0.0050840990025557324), (175, 0.004346278823308487), (176, 0.015475592090865986), (177, 0.01283905956786559), (178, 0.040300870467463765), (179, 0.00937207378275699), (180, 0.0), (181, 0.0), (182, 0.015016318512370525), (183, 0.0), (184, 0.03373534552051679), (185, 0.014084119787904916), (186, 0.0), (187, 0.013210542919527005), (188, 0.020076034920717897), (189, 0.010096912297968136), (190, 0.0), (191, 0.011655989661166604), (192, 0.0), (193, 0.031181325924237727), (194, 0.0), (195, 0.004326348665406914), (196, 0.0), (197, 0.004859994462040668), (198, 0.0), (199, 0.03964776167775464), (200, 0.0), (201, 0.010172867909246873), (202, 0.0033774204205169207), (203, 0.026655838276941575), (204, 0.0053773676104615295), (205, 0.005450284560150629), (206, 0.01597623380270789), (207, 0.04911386971189001), (208, 0.04166187931829547), (209, 0.0), (210, 0.0), (211, 0.010760124731778713), (212, 0.00481694466230272), (213, 0.0), (214, 0.0046413650439465345), (215, 0.005056697454546461), (216, 0.0), (217, 0.00501685477830756), (218, 0.008901639000655638), (219, 0.01515756566198364), (220, 0.0), (221, 0.0), (222, 0.011498388846918041), (223, 0.0), (224, 0.0), (225, 0.011839185193794326), (226, 0.0), (227, 0.0), (228, 0.011406350045584384), (229, 0.014041079955072446), (230, 0.0), (231, 0.010224489652081612), (232, 0.010497984340036893), (233, 0.0), (234, 0.008391647741227607), (235, 0.0), (236, 0.0), (237, 0.007910267260690135), (238, 0.005249732950943174), (239, 0.024199114322937143), (240, 0.01209203769076931), (241, 0.00972641910335015), (242, 0.00844190966946715), (243, 0.0), (244, 0.0), (245, 0.005279639015568728), (246, 0.01094773049048902), (247, 0.01928136144916845), (248, 0.012085629557929953), (249, 0.0), (250, 0.0), (251, 0.024145930955904085), (252, 0.00863672186625588), (253, 0.005627494238362209), (254, 0.0), (255, 0.0), (256, 0.0), (257, 0.008512960083704729), (258, 0.009816900118523356), (259, 0.0), (260, 0.009248140746884336), (261, 0.00940724168621458), (262, 0.0), (263, 0.014097912251790273), (264, 0.014918029681942183), (265, 0.04133261814265278), (266, 0.0), (267, 0.0), (268, 0.0), (269, 0.0), (270, 0.030843588289324684), (271, 0.0), (272, 0.0), (273, 0.012677394818747514), (274, 0.0), (275, 0.013815060602744492), (276, 0.04062641922354593), (277, 0.008570750405692192), (278, 0.004433055123585261), (279, 0.0048185526674340675), (280, 0.0), (281, 0.0), (282, 0.0), (283, 0.018156868669582167), (284, 0.009298730831728167), (285, 0.0), (286, 0.008366978872528623), (287, 0.0), (288, 0.008280397779660564), (289, 0.007825646880140256), (290, 0.007956464368396756), (291, 0.03878985793426599), (292, 0.009459961661882338), (293, 0.0), (294, 0.007763461012460074), (295, 0.007951558194819968), (296, 0.0), (297, 0.010315410024779242), (298, 0.010185331146966292), (299, 0.024807164817860633), (300, 0.009289204237179105), (301, 0.026245522118307416), (302, 0.03481967846386683), (303, 0.014176219488872066), (304, 0.0), (305, 0.009740909350977841), (306, 0.008983569745557703), (307, 0.0), (308, 0.048623224849069946), (309, 0.0), (310, 0.009367978537632743), (311, 0.031229360571459877), (312, 0.005182768295731883), (313, 0.027077697371981534), (314, 0.008173469716713875), (315, 0.009780360195288978), (316, 0.009036599248069911), (317, 0.0), (318, 0.005624976643553537), (319, 0.004217412942521518), (320, 0.0102218462007388), (321, 0.05206372990538999), (322, 0.009601316533176203), (323, 0.04798157807581718), (324, 0.0), (325, 0.004863889120275546), (326, 0.0), (327, 0.008746642964767603), (328, 0.0), (329, 0.02732863833246616), (330, 0.0), (331, 0.0231992963410158), (332, 0.0), (333, 0.0), (334, 0.011755267425317588), (335, 0.013923446576174378), (336, 0.010684313137937993), (337, 0.0516924870496059), (338, 0.016614918740205785), (339, 0.0176231322353466), (340, 0.026658025061292938), (341, 0.014066424151109607), (342, 0.0), (343, 0.0), (344, 0.010826990176924792), (345, 0.0144385329579263), (346, 0.005114546435244999), (347, 0.0), (348, 0.037923871655651205), (349, 0.0), (350, 0.005603502109497539), (351, 0.02542015137266849), (352, 0.011873588474324142), (353, 0.0), (354, 0.025737809896068775), (355, 0.0), (356, 0.0), (357, 0.028752002447073204), (358, 0.0), (359, 0.011988881415834927), (360, 0.014290790442774027), (361, 0.015813968609270278), (362, 0.016448139949656895), (363, 0.01627888870272277), (364, 0.008388295919634484), (365, 0.04782781024153851), (366, 0.0041975342222250545), (367, 0.004930853637119812), (368, 0.017882086852211213), (369, 0.003939244381929782), (370, 0.0), (371, 0.0), (372, 0.03569532647465237), (373, 0.0), (374, 0.014859377048864272), (375, 0.0), (376, 0.02443104533377021), (377, 0.03432971102268101), (378, 0.0), (379, 0.022849269369807017), (380, 0.017301911080907423), (381, 0.007963664109140579), (382, 0.022820483472992016), (383, 0.004587331410281228), (384, 0.04065340166310851), (385, 0.06953160665784137), (386, 0.0), (387, 0.03613104777462713), (388, 0.0), (389, 0.0), (390, 0.009384469292720963), (391, 0.006592159999754849), (392, 0.005467504662343634), (393, 0.004558132157197264), (394, 0.0), (395, 0.0), (396, 0.0), (397, 0.00891499252724114), (398, 0.0051829455324567415), (399, 0.0), (400, 0.0), (401, 0.04365118161879767), (402, 0.0), (403, 0.03247137791614057), (404, 0.004995058337301945), (405, 0.005517992454127397), (406, 0.0), (407, 0.01208427866162167), (408, 0.0), (409, 0.013715588589652918), (410, 0.02743737358202678), (411, 0.011990999814264491), (412, 0.0), (413, 0.010992524945475392), (414, 0.013675602017763858), (415, 0.01923518353550361), (416, 0.009433425910710202), (417, 0.013837870720774456), (418, 0.01575790803407905), (419, 0.027943906228129912), (420, 0.01404772218689423), (421, 0.0115215680598958), (422, 0.004863216847760499), (423, 0.014948193958909353), (424, 0.011070900845362563), (425, 0.011061295607563856), (426, 0.009119902584532233), (427, 0.00493706001223788), (428, 0.02240038056072751), (429, 0.0), (430, 0.030271459946708386), (431, 0.023831731569084504), (432, 0.0), (433, 0.01231963969609296), (434, 0.0), (435, 0.0), (436, 0.0), (437, 0.0), (438, 0.0), (439, 0.05727741062431959), (440, 0.023892950998907446), (441, 0.0), (442, 0.0), (443, 0.0), (444, 0.0), (445, 0.0), (446, 0.0), (447, 0.0), (448, 0.0), (449, 0.0), (450, 0.014334943564365082), (451, 0.013120401351921135), (452, 0.03619771741594634), (453, 0.009989590781889227), (454, 0.04476586865187319), (455, 0.0), (456, 0.010906675754475091), (457, 0.008948990085921931), (458, 0.01680492319646598), (459, 0.005042606147019006), (460, 0.0), (461, 0.017641882141972345), (462, 0.05616354381038428), (463, 0.0), (464, 0.0), (465, 0.0), (466, 0.0), (467, 0.009611491080198568), (468, 0.009124043589327242), (469, 0.008057839458494092), (470, 0.0), (471, 0.0048066981959629905), (472, 0.010038037274892168), (473, 0.004656671647709393), (474, 0.0054083693220512786), (475, 0.0), (476, 0.0), (477, 0.01555524070191953), (478, 0.0), (479, 0.00514107562549898), (480, 0.0), (481, 0.0), (482, 0.0), (483, 0.0159016985498526), (484, 0.0), (485, 0.0), (486, 0.0), (487, 0.014417375188819923), (488, 0.0), (489, 0.0), (490, 0.0), (491, 0.011398806226261155), (492, 0.0), (493, 0.0), (494, 0.005170780997581956), (495, 0.0), (496, 0.008324377685440948), (497, 0.026659591691189123), (498, 0.014202501034483643), (499, 0.0), (500, 0.0), (501, 0.008755583615710482), (502, 0.0), (503, 0.019657595810595344), (504, 0.005178259644492729), (505, 0.0048896962430961645), (506, 0.014757916175455311), (507, 0.004833033013232242), (508, 0.0059183474456674014), (509, 0.01339736085344083), (510, 0.004114318117749668), (511, 0.02379570901853981), (512, 0.0), (513, 0.0), (514, 0.0), (515, 0.004639579064260427), (516, 0.01361740049081431), (517, 0.013576133707069121), (518, 0.0), (519, 0.008609062398336304), (520, 0.004497323819902458), (521, 0.004955682147095308), (522, 0.0), (523, 0.015831914400752746), (524, 0.0), (525, 0.0051195962256619975), (526, 0.0), (527, 0.030328850202737737), (528, 0.04385396930381606), (529, 0.005178966433358487), (530, 0.04320432634637515), (531, 0.06585131473407219), (532, 0.0047795584329670725), (533, 0.0), (534, 0.0), (535, 0.005078720754802223), (536, 0.00547775204125583), (537, 0.011098723578093498), (538, 0.004245856631435488), (539, 0.009541231013422871), (540, 0.00899894995763962), (541, 0.0), (542, 0.0), (543, 0.0), (544, 0.0), (545, 0.013086941268105858), (546, 0.01437376123006758), (547, 0.0), (548, 0.009143356386793318), (549, 0.0), (550, 0.010769759145634753), (551, 0.0), (552, 0.028240565741820343), (553, 0.0069340050167932075), (554, 0.0), (555, 0.0), (556, 0.01262831663306868), (557, 0.012730513864315255), (558, 0.012046522258331258), (559, 0.011638742216688102), (560, 0.0), (561, 0.0), (562, 0.0), (563, 0.03920883889142934), (564, 0.0), (565, 0.009106915544568156), (566, 0.0), (567, 0.009508175700927254), (568, 0.00904318139863551), (569, 0.008933955864015016), (570, 0.013317630864342666), (571, 0.0), (572, 0.04926937394191911), (573, 0.0), (574, 0.0), (575, 0.0), (576, 0.04901686329407331), (577, 0.0046098879509242924), (578, 0.0), (579, 0.005217670334390188), (580, 0.013651322774120412), (581, 0.0), (582, 0.00606376529454706), (583, 0.009332353437364608), (584, 0.0), (585, 0.004951502119075721), (586, 0.015518359811738972), (587, 0.0), (588, 0.0), (589, 0.004770233197743542), (590, 0.0), (591, 0.010707796316491453), (592, 0.009903148161156386), (593, 0.0), (594, 0.013315663256504434), (595, 0.0), (596, 0.0), (597, 0.0), (598, 0.0), (599, 0.05015326925952929), (600, 0.03990303851514273), (601, 0.008317861726213585), (602, 0.007960846899957531), (603, 0.01037071104214771), (604, 0.02712327232180363), (605, 0.01778133880342368), (606, 0.030453845773289447), (607, 0.029520474045098163), (608, 0.008838438757390018), (609, 0.004083931049908858), (610, 0.03901661038573915), (611, 0.0), (612, 0.0), (613, 0.009610699316916778), (614, 0.0), (615, 0.010100249176920232), (616, 0.023476631423995826), (617, 0.011029783960771634), (618, 0.0), (619, 0.027994418838717013), (620, 0.0), (621, 0.0), (622, 0.01600337646259307), (623, 0.0), (624, 0.0), (625, 0.0), (626, 0.012763343030017273), (627, 0.013202813238118609), (628, 0.0), (629, 0.00444464040657567), (630, 0.01840074737141472), (631, 0.010025223881870271), (632, 0.004651941055457604), (633, 0.012798292530248407), (634, 0.012833544210671732), (635, 0.010645240327217793), (636, 0.0), (637, 0.0), (638, 0.01388095572711115), (639, 0.00823339001712666), (640, 0.008162567445720836), (641, 0.006982223335855904), (642, 0.0), (643, 0.0), (644, 0.0), (645, 0.0), (646, 0.0), (647, 0.0), (648, 0.004810307567072912), (649, 0.004878116417373761), (650, 0.009129099522490294), (651, 0.0), (652, 0.0), (653, 0.0), (654, 0.04625862278198797), (655, 0.0), (656, 0.0), (657, 0.0), (658, 0.0), (659, 0.03103613676187485), (660, 0.0), (661, 0.01829345902693122), (662, 0.004990506797260907), (663, 0.0), (664, 0.0046138607314570555), (665, 0.05496925527798278), (666, 0.01097191566065037), (667, 0.005411486295557271), (668, 0.02333203531664075), (669, 0.0), (670, 0.0), (671, 0.005314870602202972), (672, 0.004589722087459838), (673, 0.016435269579800748), (674, 0.009665319347862486), (675, 0.0), (676, 0.0), (677, 0.010685622260578523), (678, 0.005611260010872945), (679, 0.005931975842282448), (680, 0.0), (681, 0.022077783316365215), (682, 0.0), (683, 0.0), (684, 0.0), (685, 0.0), (686, 0.010776206325952524), (687, 0.022419989134845157), (688, 0.032670052752654694), (689, 0.04364925159544405), (690, 0.004788944512139254), (691, 0.00416003767574533), (692, 0.034461135693995115), (693, 0.0), (694, 0.0), (695, 0.013871963014898502), (696, 0.0), (697, 0.005168670091166134), (698, 0.0), (699, 0.008768365916254408), (700, 0.01069754248434888), (701, 0.0), (702, 0.031172796944948268), (703, 0.004572096058434367), (704, 0.01628491197211589), (705, 0.0), (706, 0.0), (707, 0.028024453213241988), (708, 0.005310483386034659), (709, 0.004310077681924659), (710, 0.004781716419699752), (711, 0.0060459437359831674), (712, 0.04332398097582371), (713, 0.018565783942061362), (714, 0.00986570771252123), (715, 0.010759456539868824), (716, 0.041150707434715245), (717, 0.0), (718, 0.0), (719, 0.0), (720, 0.014328019263785977), (721, 0.050288597365175026), (722, 0.03871558621710759), (723, 0.05672252545749262), (724, 0.00968313664887954), (725, 0.008294439180056484), (726, 0.012456639040386349), (727, 0.0), (728, 0.0), (729, 0.01679448557472052), (730, 0.005299883218005308), (731, 0.0), (732, 0.0), (733, 0.0), (734, 0.0), (735, 0.007028446259436655), (736, 0.005181665726869832), (737, 0.028597858593775696), (738, 0.0), (739, 0.014907172884224282), (740, 0.0034529204333802895), (741, 0.014662226693418694), (742, 0.055030299229116245), (743, 0.015476345436483772), (744, 0.012081373688580834), (745, 0.01377393615491424), (746, 0.012757325515132324), (747, 0.0), (748, 0.04375602756250316), (749, 0.0), (750, 0.0), (751, 0.017977022119584667), (752, 0.010772560673175438), (753, 0.0), (754, 0.005514395807591672), (755, 0.005002147290588067), (756, 0.017123880759031776), (757, 0.004111469496596885), (758, 0.005187080556900418), (759, 0.00468633064272354), (760, 0.02318216022329225), (761, 0.0), (762, 0.013054381531517256), (763, 0.014218384436317143), (764, 0.029492342873675303), (765, 0.0), (766, 0.0), (767, 0.0), (768, 0.010501719776755793), (769, 0.0), (770, 0.016820478266562935), (771, 0.005545288701395301), (772, 0.03196401533100506), (773, 0.004979243408015885), (774, 0.0), (775, 0.0074593734844037455), (776, 0.021319309157725383), (777, 0.01810139444923147), (778, 0.010594088666095883), (779, 0.0), (780, 0.004897128720992057), (781, 0.005420628868061703), (782, 0.0), (783, 0.0), (784, 0.005336927165491113), (785, 0.0051502033890177545), (786, 0.004311018443481914), (787, 0.003148363958695179), (788, 0.004725929584474333), (789, 0.0), (790, 0.029194815821923917), (791, 0.0), (792, 0.0), (793, 0.06021919151076502), (794, 0.016276177400685276), (795, 0.006083618451120444), (796, 0.0), (797, 0.005371787074465296), (798, 0.014372525981951212), (799, 0.0), (800, 0.0344344728357515), (801, 0.0), (802, 0.04802381290501858), (803, 0.0), (804, 0.04800305972623721), (805, 0.0), (806, 0.0), (807, 0.008173390189654609), (808, 0.0), (809, 0.0), (810, 0.012205538469766132), (811, 0.013244594622805876), (812, 0.0), (813, 0.0), (814, 0.005287367162290259), (815, 0.034226131895898876), (816, 0.0), (817, 0.014574594375659009), (818, 0.0), (819, 0.0), (820, 0.004546679416780844), (821, 0.013643705028993458), (822, 0.005168931714963446), (823, 0.07815199815634619), (824, 0.003584309252064814), (825, 0.0), (826, 0.010398686572270733), (827, 0.0), (828, 0.0), (829, 0.0), (830, 0.015831815072409553), (831, 0.0), (832, 0.0), (833, 0.026321283013841304), (834, 0.02789578360393765), (835, 0.026591935623912683), (836, 0.004537608353284827), (837, 0.015533983302774826), (838, 0.0), (839, 0.037591105878374664), (840, 0.019564611896843172), (841, 0.005651742669056372), (842, 0.018215948857614978), (843, 0.0), (844, 0.0), (845, 0.0), (846, 0.0052704600866996945), (847, 0.005902408195925547), (848, 0.0), (849, 0.01488769892657683), (850, 0.015332432233816421), (851, 0.004509092979546904), (852, 0.009326968135911627), (853, 0.021781632308341015), (854, 0.0), (855, 0.03211334726932083), (856, 0.00870333354201399), (857, 0.0), (858, 0.0), (859, 0.004865403476836466), (860, 0.017450028478871924), (861, 0.0), (862, 0.004484095988803238), (863, 0.0), (864, 0.0), (865, 0.0), (866, 0.0), (867, 0.005072752255321759), (868, 0.0), (869, 0.005277347774439252), (870, 0.04213144212293019), (871, 0.010018326063868974), (872, 0.015948658034124187), (873, 0.0055117849232267915), (874, 0.0), (875, 0.010701491364689421), (876, 0.0), (877, 0.0), (878, 0.027855312271414825), (879, 0.005369943298163402), (880, 0.014844526672860705), (881, 0.0), (882, 0.008643069924345898), (883, 0.004916822191091133), (884, 0.005355131845710677), (885, 0.018125586114858747), (886, 0.0048254884973584706), (887, 0.0), (888, 0.0), (889, 0.03625592307005256), (890, 0.005368143906202896), (891, 0.0), (892, 0.004459083366474163), (893, 0.011780116175029854), (894, 0.029214680462037554), (895, 0.0), (896, 0.0), (897, 0.0), (898, 0.01640530758564218), (899, 0.05315490794133571), (900, 0.0), (901, 0.0), (902, 0.010001961337266824), (903, 0.013964464200234318), (904, 0.006058975844089493), (905, 0.005954149279217471), (906, 0.029368510402768805), (907, 0.004733379679590866), (908, 0.005258280522618759), (909, 0.009854763201918772), (910, 0.0), (911, 0.009237343015239222), (912, 0.004526071153209945), (913, 0.0), (914, 0.012072542226255369), (915, 0.009382349269216852), (916, 0.004769337595942848), (917, 0.0), (918, 0.010090388948006483), (919, 0.009908640241984668), (920, 0.013676170915686889), (921, 0.009074512640981827), (922, 0.0), (923, 0.004956823438660223), (924, 0.0), (925, 0.020939740958461472), (926, 0.011619382958847806), (927, 0.0), (928, 0.0), (929, 0.0), (930, 0.0), (931, 0.005143599864713937), (932, 0.011678230111983403), (933, 0.0052566669525821366), (934, 0.034915133247664015), (935, 0.04951304415843813), (936, 0.008773080987938874), (937, 0.050801402824446874), (938, 0.00515935536434279), (939, 0.04586787594090627), (940, 0.0036022694894815533), (941, 0.004820820709300301), (942, 0.0), (943, 0.03339862389561312), (944, 0.0), (945, 0.03033466200411547), (946, 0.02981233584352986), (947, 0.020315967496626872), (948, 0.006480894017281308), (949, 0.0), (950, 0.015263210767034073), (951, 0.01257631235679855), (952, 0.01412200046587724), (953, 0.01051853199806987), (954, 0.008714313591593999), (955, 0.02382664826850788), (956, 0.0651347968216465), (957, 0.004699961719623564), (958, 0.004704592036022541), (959, 0.0), (960, 0.013864787379100905), (961, 0.02090788273309155), (962, 0.0), (963, 0.012211628437697668), (964, 0.015181628770652152), (965, 0.014864947751163553), (966, 0.009206075160628187), (967, 0.0), (968, 0.02366804069260951), (969, 0.005253609380905384), (970, 0.015386367636612015), (971, 0.005298007546790314), (972, 0.003942533845265962), (973, 0.005071050965849132), (974, 0.0), (975, 0.0), (976, 0.0), (977, 0.031906607992443804), (978, 0.009521730249921697), (979, 0.011551927875185514), (980, 0.0), (981, 0.0), (982, 0.005662081423448207), (983, 0.0050553055778497094), (984, 0.0048960024524851), (985, 0.005887962039715485), (986, 0.0), (987, 0.05535716955501592), (988, 0.0), (989, 0.0), (990, 0.05947338168765897), (991, 0.014023213665876085), (992, 0.016112357528201136), (993, 0.0), (994, 0.0), (995, 0.005042339959710499), (996, 0.007263119155329328), (997, 0.0), (998, 0.0058349785025378735), (999, 0.005830202979309097), (1000, 0.0), (1001, 0.009292854007105117), (1002, 0.009808370776207465), (1003, 0.01335327900886904), (1004, 0.0), (1005, 0.0), (1006, 0.005377461163658), (1007, 0.025948105217113267), (1008, 0.004410531939979184), (1009, 0.0), (1010, 0.004353413645761742), (1011, 0.02202309337167677), (1012, 0.009659050538384836), (1013, 0.015741238978614465), (1014, 0.0), (1015, 0.0), (1016, 0.008758189972023817), (1017, 0.0), (1018, 0.0), (1019, 0.0), (1020, 0.0), (1021, 0.005126993628656031), (1022, 0.014829388701616996), (1023, 0.0), (1024, 0.005360925610068532), (1025, 0.004586791222427042), (1026, 0.0), (1027, 0.0), (1028, 0.005079966887831466), (1029, 0.019122876836042794), (1030, 0.0), (1031, 0.04524617013398587), (1032, 0.0), (1033, 0.0), (1034, 0.02884611590796514), (1035, 0.014631190511791103), (1036, 0.0), (1037, 0.0), (1038, 0.018455872817297395), (1039, 0.0), (1040, 0.004020147779265749), (1041, 0.012262820527570674), (1042, 0.0), (1043, 0.0), (1044, 0.0563291794110066), (1045, 0.04023892683031446), (1046, 0.0), (1047, 0.005362741787053615), (1048, 0.0), (1049, 0.006103341951692286), (1050, 0.00830658384209221), (1051, 0.011924630017649752), (1052, 0.013942957942333693), (1053, 0.017714424258681208), (1054, 0.0), (1055, 0.0), (1056, 0.030600092834451052), (1057, 0.014017723993833598), (1058, 0.0), (1059, 0.0), (1060, 0.0), (1061, 0.004633816457346966), (1062, 0.004303753836993575), (1063, 0.009420815365733247), (1064, 0.0), (1065, 0.0), (1066, 0.0), (1067, 0.00929953935333199), (1068, 0.0), (1069, 0.010909110174592168), (1070, 0.004399267099530646), (1071, 0.01607218895247176), (1072, 0.0), (1073, 0.004893485188416509), (1074, 0.04838249199597316), (1075, 0.0), (1076, 0.0), (1077, 0.0), (1078, 0.0042864608128473), (1079, 0.013699668477609268), (1080, 0.0), (1081, 0.02587549681409989), (1082, 0.027622020133705773), (1083, 0.0), (1084, 0.005043539270807747), (1085, 0.015187357156001734), (1086, 0.0), (1087, 0.009912736178909299), (1088, 0.004399990956654492), (1089, 0.0056589410049244435), (1090, 0.008554076193875236), (1091, 0.010674471579289071), (1092, 0.02510644603999291), (1093, 0.004652130604840585), (1094, 0.0050371886931301095), (1095, 0.023349815993292226), (1096, 0.0), (1097, 0.012811944116435256), (1098, 0.0), (1099, 0.01579696008055816), (1100, 0.005061967913479019), (1101, 0.0), (1102, 0.0), (1103, 0.021775694681224943), (1104, 0.013750440288010644), (1105, 0.005223579335591651), (1106, 0.009725077351289038), (1107, 0.0), (1108, 0.015200514305376316), (1109, 0.011414878702781276), (1110, 0.0), (1111, 0.009963760230736661), (1112, 0.005126572809016074), (1113, 0.01438150427965175), (1114, 0.008980706461554883), (1115, 0.01197045825055823), (1116, 0.013839891815562149), (1117, 0.03327600489348547), (1118, 0.03770491224690138), (1119, 0.013947963944535305), (1120, 0.0), (1121, 0.0), (1122, 0.0), (1123, 0.0), (1124, 0.005336297178694701), (1125, 0.004946148496814612), (1126, 0.01471068087157125), (1127, 0.0), (1128, 0.0), (1129, 0.0), (1130, 0.019801625499290473), (1131, 0.08206540628066701), (1132, 0.0), (1133, 0.005136085073623236), (1134, 0.00878891516094497), (1135, 0.02117101756711709), (1136, 0.0), (1137, 0.0), (1138, 0.0), (1139, 0.004841319165916752), (1140, 0.01612596311852548), (1141, 0.0), (1142, 0.005392267107965092), (1143, 0.017350259592084194), (1144, 0.0), (1145, 0.0), (1146, 0.012631571203063052), (1147, 0.0), (1148, 0.0), (1149, 0.004745033828079706), (1150, 0.042326048984839874), (1151, 0.009776872062624248), (1152, 0.0047719283843158855), (1153, 0.023328245317599958), (1154, 0.03912044954311856), (1155, 0.0053384153913852055), (1156, 0.004225385451244617), (1157, 0.004722678595190111), (1158, 0.014595625010427873), (1159, 0.04303209721303483), (1160, 0.036362733537506076), (1161, 0.0), (1162, 0.0), (1163, 0.013040945966571023), (1164, 0.0), (1165, 0.015431622133154441), (1166, 0.005246738423343213), (1167, 0.014312369629487684), (1168, 0.03382927356207169), (1169, 0.05691394689909363), (1170, 0.005152936450103766), (1171, 0.0), (1172, 0.0), (1173, 0.01348172433274571), (1174, 0.0), (1175, 0.009840073857688808), (1176, 0.07314195759607568), (1177, 0.012306298709656336), (1178, 0.004372487300336651), (1179, 0.009749019954000128), (1180, 0.00958866158379223), (1181, 0.040566044400233106), (1182, 0.0), (1183, 0.0), (1184, 0.05007099010117071), (1185, 0.026139748286673294), (1186, 0.0), (1187, 0.0060474134557562025), (1188, 0.0), (1189, 0.013732877075454522), (1190, 0.004893583251153912), (1191, 0.029608034107392496), (1192, 0.01368746476003727), (1193, 0.005393559474739296), (1194, 0.013015998297462684), (1195, 0.02571860337161825), (1196, 0.020076042339044434), (1197, 0.012011557172085307), (1198, 0.014746563043561898), (1199, 0.0045405351560178315), (1200, 0.004678440350198833), (1201, 0.04356364565685651), (1202, 0.023856063557803404), (1203, 0.004832742818291556), (1204, 0.005222295851475488), (1205, 0.03327723790839232), (1206, 0.018229570548055615), (1207, 0.021795572791430656), (1208, 0.006562156643030542), (1209, 0.0), (1210, 0.007090070061600053), (1211, 0.01725603025275671), (1212, 0.004440393624688764), (1213, 0.004521457448294085), (1214, 0.0043159841884790025), (1215, 0.03279214100683243), (1216, 0.004667433779183147), (1217, 0.0044685668264209805), (1218, 0.01246276630117401), (1219, 0.008747100697193878), (1220, 0.01179109448816766), (1221, 0.008106227096104793), (1222, 0.004314882365459255), (1223, 0.013114500705552616), (1224, 0.005372952720178889), (1225, 0.010286084647434163), (1226, 0.0), (1227, 0.0051419305552869565), (1228, 0.010463169045035907), (1229, 0.06020021045923002), (1230, 0.028307226172756488), (1231, 0.014275584859566882), (1232, 0.03357577341694422), (1233, 0.013688022923504085), (1234, 0.005450486453478303), (1235, 0.004998918379127606), (1236, 0.0), (1237, 0.0), (1238, 0.014795970944496415), (1239, 0.012945296975088741), (1240, 0.010806089308918057), (1241, 0.031493965549150876), (1242, 0.013628392731479262), (1243, 0.00561412326650506), (1244, 0.01536652109534805), (1245, 0.0), (1246, 0.005560478845870051), (1247, 0.0), (1248, 0.0), (1249, 0.004462388608327534), (1250, 0.028665560164195657), (1251, 0.004554691588037968), (1252, 0.042689187309011625), (1253, 0.0), (1254, 0.0541523966051099), (1255, 0.0), (1256, 0.0048598590943534), (1257, 0.0), (1258, 0.04747249555233653), (1259, 0.0), (1260, 0.005741612367367162), (1261, 0.019565325159984433), (1262, 0.009724382788671614), (1263, 0.009615180562378303), (1264, 0.0), (1265, 0.01419858143212196), (1266, 0.019895008996888452), (1267, 0.004975750761213471), (1268, 0.004120646806922238), (1269, 0.009734648289674576), (1270, 0.03780322814357405), (1271, 0.029508536334477274), (1272, 0.022478938609474565), (1273, 0.037347412411180385), (1274, 0.012406643691104335), (1275, 0.0), (1276, 0.0), (1277, 0.003849067341568629), (1278, 0.003836924309230499), (1279, 0.01099905201547823), (1280, 0.01038264384422155), (1281, 0.0), (1282, 0.005502714865528931), (1283, 0.008574615770709972), (1284, 0.005010503705718587), (1285, 0.0), (1286, 0.005046010014987564), (1287, 0.02198062716921157), (1288, 0.013554698319533869), (1289, 0.004228752139074705), (1290, 0.0), (1291, 0.004767801785633302), (1292, 0.005061575441382123), (1293, 0.014319097492069154), (1294, 0.0), (1295, 0.027849072764996895), (1296, 0.02423928758854373), (1297, 0.010302927821981169), (1298, 0.005118637641248654), (1299, 0.005403198364692068), (1300, 0.004352297006323289), (1301, 0.008518404350649482), (1302, 0.005220447267933454), (1303, 0.0), (1304, 0.00514886367257469), (1305, 0.0), (1306, 0.0), (1307, 0.00917569500633467), (1308, 0.013667892638642421), (1309, 0.01715528358175332), (1310, 0.013445772607240145), (1311, 0.005774353886382986), (1312, 0.00434367088355418), (1313, 0.005072039716404127), (1314, 0.0), (1315, 0.049593363917124066), (1316, 0.0), (1317, 0.0041703577959437), (1318, 0.004590441320497523), (1319, 0.0), (1320, 0.004040523940310635), (1321, 0.01714548606845602), (1322, 0.0052396541070623935), (1323, 0.0044223869871939), (1324, 0.010400774474199598), (1325, 0.0), (1326, 0.012161339433981233), (1327, 0.014166444622012683), (1328, 0.010282134718838558), (1329, 0.010158567607404077), (1330, 0.032707386261275624), (1331, 0.018522170191560997), (1332, 0.0), (1333, 0.015886589615653035), (1334, 0.0), (1335, 0.0), (1336, 0.005404506646037639), (1337, 0.005252701252506866), (1338, 0.0), (1339, 0.0), (1340, 0.004371185874817362), (1341, 0.012227065114153505), (1342, 0.010909078015276304), (1343, 0.01552998354333594), (1344, 0.004162096312322824), (1345, 0.005135743134422586), (1346, 0.009806075225557749), (1347, 0.012618482815517541), (1348, 0.004483420593949132), (1349, 0.0), (1350, 0.009497713473551259), (1351, 0.00963431371201248), (1352, 0.021075547731518433), (1353, 0.004785819617150731), (1354, 0.02288806735546474), (1355, 0.0), (1356, 0.0), (1357, 0.0), (1358, 0.00960954933778821), (1359, 0.011061759306341405), (1360, 0.0), (1361, 0.03384502721933172), (1362, 0.0038249676823225087), (1363, 0.004884864924232649), (1364, 0.005344584506317332), (1365, 0.03638465011806947), (1366, 0.008795263614306234), (1367, 0.004298343201669986), (1368, 0.014373721827954766), (1369, 0.0), (1370, 0.0044381151916832225), (1371, 0.0057176000708742845), (1372, 0.004828342911185097), (1373, 0.014432699817449901), (1374, 0.019514840339927755), (1375, 0.055266470058089684), (1376, 0.004887506447204668), (1377, 0.0), (1378, 0.01305287600714088), (1379, 0.03847458693292983), (1380, 0.010283064145777532), (1381, 0.011189120697244797), (1382, 0.005312811436577364), (1383, 0.0), (1384, 0.0), (1385, 0.009762634803414596), (1386, 0.009912800846039547), (1387, 0.022398094812753983), (1388, 0.014962393527370495), (1389, 0.015687548485015877), (1390, 0.005537635230193572), (1391, 0.06264458379792007), (1392, 0.009152661615096964), (1393, 0.0), (1394, 0.01790380949882854), (1395, 0.010515763997382042), (1396, 0.01019673102838102), (1397, 0.012882855442679395), (1398, 0.028721831509393565), (1399, 0.0), (1400, 0.0), (1401, 0.03163451470632855), (1402, 0.0), (1403, 0.003954631466927771), (1404, 0.0), (1405, 0.00452511510638704), (1406, 0.0), (1407, 0.01388313436390136), (1408, 0.024005312975761767), (1409, 0.0055065412374254484), (1410, 0.005202160836985907), (1411, 0.0050862515895370875), (1412, 0.009280565915670629), (1413, 0.0), (1414, 0.0), (1415, 0.0), (1416, 0.0), (1417, 0.0), (1418, 0.00749474699361807), (1419, 0.0), (1420, 0.01813699585031856), (1421, 0.0), (1422, 0.010023094095408691), (1423, 0.0), (1424, 0.0058763797571263435), (1425, 0.005236152535961825), (1426, 0.07418154689198278), (1427, 0.02839483066762736), (1428, 0.012383837290670809), (1429, 0.018105727881797037), (1430, 0.012147408514242104), (1431, 0.013377298722890247), (1432, 0.005361537527396932), (1433, 0.0), (1434, 0.0), (1435, 0.0), (1436, 0.026251936264015903), (1437, 0.06615218682743068), (1438, 0.0), (1439, 0.0), (1440, 0.009900895235288299), (1441, 0.005548721880628214), (1442, 0.0), (1443, 0.0), (1444, 0.048795363898274574), (1445, 0.005377915823608727), (1446, 0.004932510996182665), (1447, 0.005076855198446243), (1448, 0.026030757182158092), (1449, 0.013753196378169312), (1450, 0.0), (1451, 0.012271162749787783), (1452, 0.01380845794684237), (1453, 0.004141401423597391), (1454, 0.0), (1455, 0.0), (1456, 0.0), (1457, 0.004793417775976283), (1458, 0.02099951707050253), (1459, 0.0095975091144832), (1460, 0.010794179295157564), (1461, 0.0648151295967035), (1462, 0.0), (1463, 0.0), (1464, 0.0), (1465, 0.004462477971966488), (1466, 0.011366650331352786), (1467, 0.022162381899585845), (1468, 0.013204986245150669), (1469, 0.018852927637940057), (1470, 0.03925216370583735), (1471, 0.0), (1472, 0.0), (1473, 0.033748032908060735), (1474, 0.010873729202128198), (1475, 0.010164586909383332), (1476, 0.005214758422225886), (1477, 0.004747523608766712), (1478, 0.0), (1479, 0.03799148575641953), (1480, 0.012142696104733503), (1481, 0.0), (1482, 0.0044990436379515365), (1483, 0.0), (1484, 0.0), (1485, 0.004643818819265722), (1486, 0.005668493689037321), (1487, 0.0048800943009561105), (1488, 0.01032018929091093), (1489, 0.037439096827683975), (1490, 0.014233954668768999), (1491, 0.005609155710699831), (1492, 0.017487766619821134), (1493, 0.012594849666500891), (1494, 0.005302550160705572), (1495, 0.015156452185008754), (1496, 0.004836745426528589), (1497, 0.0), (1498, 0.01452387057689338), (1499, 0.0), (1500, 0.0), (1501, 0.005140637634496914), (1502, 0.0), (1503, 0.0343826222706207), (1504, 0.0), (1505, 0.033415197158888334), (1506, 0.003524837728351066), (1507, 0.005894269724752253), (1508, 0.024970016026006576), (1509, 0.0), (1510, 0.013188554670617478), (1511, 0.06097359233204064), (1512, 0.0), (1513, 0.005361803874381217), (1514, 0.15390704355002538), (1515, 0.022962999063356727), (1516, 0.005300858057137384), (1517, 0.020119105814222105), (1518, 0.005543491332120012), (1519, 0.0), (1520, 0.005525370862480464), (1521, 0.025873977003636663), (1522, 0.009846020862490795), (1523, 0.004397351123349375), (1524, 0.004714041244937335), (1525, 0.005277380866123784), (1526, 0.004918657138934347), (1527, 0.0), (1528, 0.03203397037782137), (1529, 0.017804258071412237), (1530, 0.007985003560921725), (1531, 0.013803318564135542), (1532, 0.017286479782781684), (1533, 0.00522118162217341), (1534, 0.013595993569234027), (1535, 0.010985249098682297), (1536, 0.013584944564372528), (1537, 0.005510701484643767), (1538, 0.0), (1539, 0.009179310391787867), (1540, 0.0), (1541, 0.0146957802488499), (1542, 0.0053291043898261664), (1543, 0.004742147323467328), (1544, 0.004940976863971209), (1545, 0.004935786996233727), (1546, 0.012956466230367693), (1547, 0.011356173950142557), (1548, 0.0), (1549, 0.005077241489115474), (1550, 0.0), (1551, 0.01283978822222859), (1552, 0.014243525856296926), (1553, 0.0), (1554, 0.04320564726469313), (1555, 0.012161601383145584), (1556, 0.012235980680189624), (1557, 0.005289009776410523), (1558, 0.014000197575106241), (1559, 0.01130634159606559), (1560, 0.02052171716883463), (1561, 0.004947386318994572), (1562, 0.03941737016952693), (1563, 0.011184049870554456), (1564, 0.005271547197635801), (1565, 0.02233318274542609), (1566, 0.024831090165948068), (1567, 0.01349492512627929), (1568, 0.01192164411215757), (1569, 0.044028850554741455), (1570, 0.050543994107249024), (1571, 0.004255476875446192), (1572, 0.01585162910508571), (1573, 0.012870054122743068), (1574, 0.0), (1575, 0.016125815812230108), (1576, 0.0), (1577, 0.015027575682867732), (1578, 0.0054211078845208885), (1579, 0.009165046542305311), (1580, 0.04798098519661848), (1581, 0.007373321382359663), (1582, 0.0049414816089593545), (1583, 0.005639061253644461), (1584, 0.0), (1585, 0.010534205644594799), (1586, 0.00411214300426617), (1587, 0.015164407895151858), (1588, 0.01365009173395943), (1589, 0.01979495559863994), (1590, 0.011390147185957988), (1591, 0.0), (1592, 0.0194403605587761), (1593, 0.0), (1594, 0.005762873730234188), (1595, 0.011822503998861514), (1596, 0.00546752307929594), (1597, 0.00495819994746036), (1598, 0.014706013964334462), (1599, 0.020460117798024025), (1600, 0.021042364571026907), (1601, 0.013223463585859137), (1602, 0.0053403461663367275), (1603, 0.010232267342083089), (1604, 0.009667248923398455), (1605, 0.0), (1606, 0.014010529620192847), (1607, 0.009495235984358358), (1608, 0.0), (1609, 0.005492672817616414), (1610, 0.03207064739126866), (1611, 0.015055339705773533), (1612, 0.0), (1613, 0.005353842919895136), (1614, 0.03559367460574134), (1615, 0.06913420027531618), (1616, 0.004523270360332347), (1617, 0.0), (1618, 0.0049839231600043955), (1619, 0.0), (1620, 0.0), (1621, 0.0), (1622, 0.027646667524965546), (1623, 0.012097259684247918), (1624, 0.0), (1625, 0.0), (1626, 0.004663851818055202), (1627, 0.011167185540349808), (1628, 0.0), (1629, 0.0), (1630, 0.01239574437181377), (1631, 0.01239450264974971), (1632, 0.012525565358597801), (1633, 0.039401334963130176), (1634, 0.06665115587253667), (1635, 0.012812012631444158), (1636, 0.05785416962984392), (1637, 0.035739737327607365), (1638, 0.005127190117045945), (1639, 0.004357395193306787), (1640, 0.016090303582029727), (1641, 0.0), (1642, 0.018702738457316875), (1643, 0.07560517146872621), (1644, 0.005141334774498873), (1645, 0.009419438142538235), (1646, 0.004141441457793648), (1647, 0.012349104520289167), (1648, 0.0), (1649, 0.021262116159307235), (1650, 0.01808267808181657), (1651, 0.0), (1652, 0.00456554194293871), (1653, 0.0), (1654, 0.004913141425523405), (1655, 0.0), (1656, 0.049823463778016004), (1657, 0.0), (1658, 0.04811316719947421), (1659, 0.0), (1660, 0.005377908215852653), (1661, 0.06133156401133968), (1662, 0.012175845217223397), (1663, 0.004848993154484956), (1664, 0.009234511462704762), (1665, 0.0), (1666, 0.0), (1667, 0.03921964304778467), (1668, 0.004955803301402924), (1669, 0.0), (1670, 0.0), (1671, 0.0), (1672, 0.0), (1673, 0.004791784599430281), (1674, 0.0), (1675, 0.008882559912928537), (1676, 0.004109760744239156), (1677, 0.004049464669264652), (1678, 0.0), (1679, 0.005576975591619881), (1680, 0.0), (1681, 0.0), (1682, 0.0), (1683, 0.005507921710116233), (1684, 0.004508678163802754), (1685, 0.0), (1686, 0.009968287510960521), (1687, 0.0), (1688, 0.005248607951027319), (1689, 0.005400249762082773), (1690, 0.08386034347708772), (1691, 0.0), (1692, 0.0), (1693, 0.004832738740819383), (1694, 0.004569966638602611), (1695, 0.004166104982750795), (1696, 0.0), (1697, 0.025370892373101236), (1698, 0.004445953715197563), (1699, 0.01130286168818372), (1700, 0.02349022340458536), (1701, 0.01189269178690145), (1702, 0.005349746903257736), (1703, 0.0), (1704, 0.015352412206856686), (1705, 0.010441037626495689), (1706, 0.09827707921593413), (1707, 0.0), (1708, 0.0), (1709, 0.004825265391430088), (1710, 0.0), (1711, 0.0), (1712, 0.0), (1713, 0.011071820260367553), (1714, 0.00470592229399116), (1715, 0.009219759437350141), (1716, 0.0), (1717, 0.0), (1718, 0.005395173352360374), (1719, 0.03007000032588559), (1720, 0.0), (1721, 0.00481643543368339), (1722, 0.005197715650962627), (1723, 0.012263896229077394), (1724, 0.014066332611927516), (1725, 0.010779305399867462), (1726, 0.005281827789597293), (1727, 0.03601495559603205), (1728, 0.0), (1729, 0.00468801017917112), (1730, 0.034926968333856515), (1731, 0.015971872687982624), (1732, 0.0055012307347700835), (1733, 0.005643644459444529), (1734, 0.005393255346379957), (1735, 0.0053080857514788025), (1736, 0.0), (1737, 0.005490493755721696), (1738, 0.02844022590282471), (1739, 0.0), (1740, 0.0), (1741, 0.005188798578978986), (1742, 0.0), (1743, 0.0), (1744, 0.08388459843962522), (1745, 0.019527301759718417), (1746, 0.004803769962868032), (1747, 0.0), (1748, 0.0), (1749, 0.0), (1750, 0.004599968745328035), (1751, 0.005207645655110616), (1752, 0.004255586515958536), (1753, 0.011229376085862252), (1754, 0.0), (1755, 0.009278321681055359), (1756, 0.012319400864781142), (1757, 0.005070486220513057), (1758, 0.017226840973659632), (1759, 0.051196531982695026), (1760, 0.0), (1761, 0.0), (1762, 0.0), (1763, 0.0), (1764, 0.008451737714750293), (1765, 0.00532351367385778), (1766, 0.005679913096273508), (1767, 0.00494448029352542), (1768, 0.0), (1769, 0.005201392863896947), (1770, 0.0), (1771, 0.005018148826975552), (1772, 0.021530235418500424), (1773, 0.012799564902061234), (1774, 0.0), (1775, 0.0), (1776, 0.0), (1777, 0.005287954323390926), (1778, 0.004794243944420391), (1779, 0.0), (1780, 0.0), (1781, 0.004379528701328805), (1782, 0.0), (1783, 0.004843031838177659), (1784, 0.004673856948267377), (1785, 0.032776868203410046), (1786, 0.005661001513362756), (1787, 0.004875042773049418), (1788, 0.023177495644631438), (1789, 0.009003625802347865), (1790, 0.006135884318866469), (1791, 0.005479635167064348), (1792, 0.051069968077784945), (1793, 0.0), (1794, 0.016663757625157996), (1795, 0.011812542267923488), (1796, 0.0), (1797, 0.013060591125657064), (1798, 0.0209347527155489), (1799, 0.0), (1800, 0.0), (1801, 0.0), (1802, 0.008304716128848812), (1803, 0.011242334086728681), (1804, 0.0051627758903927045), (1805, 0.0), (1806, 0.022061649853481025), (1807, 0.0), (1808, 0.0), (1809, 0.008811882197787654), (1810, 0.009321876646368667), (1811, 0.0), (1812, 0.010415747064386076), (1813, 0.025366229291556422), (1814, 0.0), (1815, 0.0), (1816, 0.009279601043983437), (1817, 0.02523981862952222), (1818, 0.004877566234537008), (1819, 0.0121709123326964), (1820, 0.0), (1821, 0.005401254622790743), (1822, 0.005433444559740389), (1823, 0.013934617092152109), (1824, 0.01711815873289437), (1825, 0.012496625482318708), (1826, 0.0), (1827, 0.004654477050143334), (1828, 0.0), (1829, 0.0), (1830, 0.004560705936155359), (1831, 0.042993057532532), (1832, 0.0), (1833, 0.025652948169090174), (1834, 0.005102721386678923), (1835, 0.029509687038615107), (1836, 0.022437039459367293), (1837, 0.005096634615198187), (1838, 0.02423749833530889), (1839, 0.004915376480975817), (1840, 0.01188630782560711), (1841, 0.010141129696509947), (1842, 0.005036095855145376), (1843, 0.0), (1844, 0.016355820840931987), (1845, 0.0), (1846, 0.009498361643851084), (1847, 0.005314264680593463), (1848, 0.005540861899939165), (1849, 0.005067126396033941), (1850, 0.012849539008522906), (1851, 0.0053586223011092915), (1852, 0.012882781845205027), (1853, 0.0), (1854, 0.0), (1855, 0.013934267906677948), (1856, 0.005473837128942445), (1857, 0.025721944152500908), (1858, 0.0), (1859, 0.013775369467470834), (1860, 0.0), (1861, 0.0078029923560147575), (1862, 0.016867477227406804), (1863, 0.011282604602380376), (1864, 0.012565178288357431), (1865, 0.0), (1866, 0.0), (1867, 0.01995721170637518), (1868, 0.009641073292630888), (1869, 0.013636042625569606), (1870, 0.0046004191537986705), (1871, 0.004096700311861916), (1872, 0.0), (1873, 0.01307690121190591), (1874, 0.0), (1875, 0.0), (1876, 0.02966114358959348), (1877, 0.004911629552890222), (1878, 0.004887177410910328), (1879, 0.005207266448002889), (1880, 0.005018366122595404), (1881, 0.0053836062831301825), (1882, 0.012799901438695055), (1883, 0.012282181331027008), (1884, 0.0), (1885, 0.0), (1886, 0.038199595035659915), (1887, 0.017067461361523345), (1888, 0.010112417794097932), (1889, 0.015124660046205059), (1890, 0.0), (1891, 0.012950619273722987), (1892, 0.0), (1893, 0.0108576890520883), (1894, 0.01056586697541534), (1895, 0.01403375168795578), (1896, 0.04064158408256964), (1897, 0.0), (1898, 0.01393004048572418), (1899, 0.016977232008565737), (1900, 0.004955499790022132), (1901, 0.009992778813150211), (1902, 0.005410192178908439), (1903, 0.004814902914768396), (1904, 0.02412718894540891), (1905, 0.005611584730331778), (1906, 0.005164614971902097), (1907, 0.01960245357970109), (1908, 0.009802190524397314), (1909, 0.0), (1910, 0.0), (1911, 0.015470647663590215), (1912, 0.07031273547617882), (1913, 0.00507943412551175), (1914, 0.017115239343473355), (1915, 0.04132837123891033), (1916, 0.01376674760168929), (1917, 0.005283572417018186), (1918, 0.015908409689819505), (1919, 0.0035975488853226567), (1920, 0.01392541480012009), (1921, 0.0), (1922, 0.0), (1923, 0.005716400020287443), (1924, 0.032184431230883145), (1925, 0.02455184468388981), (1926, 0.029711749601553587), (1927, 0.012869915868720501), (1928, 0.005819052930595732), (1929, 0.033022020909123345), (1930, 0.026412720519433195), (1931, 0.009962123872131105), (1932, 0.010124584129918611), (1933, 0.012734232427499369), (1934, 0.017412214929512358), (1935, 0.009344170117016147), (1936, 0.0099652988979265), (1937, 0.0), (1938, 0.0042914394266985725), (1939, 0.019770720855664118), (1940, 0.015268630926844948), (1941, 0.006160519883254607), (1942, 0.0681701005168748), (1943, 0.017589108667105842), (1944, 0.004274968095821221), (1945, 0.009824387405650817), (1946, 0.0), (1947, 0.0059751588672107515), (1948, 0.00668113941769436), (1949, 0.00533615939689135), (1950, 0.0), (1951, 0.010922016239080398), (1952, 0.0), (1953, 0.012693415602100336), (1954, 0.004559487046106132), (1955, 0.015648362665691626), (1956, 0.049187914722842174), (1957, 0.004324198776928895), (1958, 0.0), (1959, 0.0), (1960, 0.0), (1961, 0.04572906230680743), (1962, 0.014553529140007163), (1963, 0.004164436455137413), (1964, 0.0), (1965, 0.015560747093339995), (1966, 0.02732853925064889), (1967, 0.0), (1968, 0.03302881984084988), (1969, 0.0), (1970, 0.013310444385403002), (1971, 0.0), (1972, 0.0), (1973, 0.00484200294653603), (1974, 0.004703873067871195), (1975, 0.027520493384737377), (1976, 0.0), (1977, 0.0), (1978, 0.004587565285721305), (1979, 0.013857804558455637), (1980, 0.0298845559731261), (1981, 0.016875873168724763), (1982, 0.027440216187934515), (1983, 0.0), (1984, 0.004730794067102254), (1985, 0.013200769328167468), (1986, 0.005090401444064459), (1987, 0.013674911027512416), (1988, 0.0), (1989, 0.007831370101721528), (1990, 0.011902022166756279), (1991, 0.0), (1992, 0.017013452993662453), (1993, 0.02685285063130264), (1994, 0.004579726202316217), (1995, 0.0), (1996, 0.027023785115918048), (1997, 0.04681274603540794), (1998, 0.013221602994450776), (1999, 0.03384093437965531), (2000, 0.0), (2001, 0.004432187611581668), (2002, 0.005387195651200283), (2003, 0.004972643864529019), (2004, 0.04049641309149492), (2005, 0.004628262179925103), (2006, 0.01270489740881199), (2007, 0.03041235518934012), (2008, 0.0), (2009, 0.02393403914325982), (2010, 0.007700009768511171), (2011, 0.0), (2012, 0.0059193374068147375), (2013, 0.007768568522016619), (2014, 0.014817033544032064), (2015, 0.010181280736362246), (2016, 0.01012211018463646), (2017, 0.05812436066564748), (2018, 0.004198318453907194), (2019, 0.029752839684824145), (2020, 0.0), (2021, 0.005571458801524163), (2022, 0.0), (2023, 0.1474237752428417), (2024, 0.0), (2025, 0.004245959913651522), (2026, 0.005143061725106893), (2027, 0.0), (2028, 0.007919643633918519), (2029, 0.0), (2030, 0.0), (2031, 0.011788688683195336), (2032, 0.012063221484285387), (2033, 0.004681898161208259), (2034, 0.00803306916758495), (2035, 0.0), (2036, 0.004685491874016183), (2037, 0.0), (2038, 0.0), (2039, 0.0), (2040, 0.0), (2041, 0.005220031774506301), (2042, 0.0053710060147938036), (2043, 0.004661015053348124), (2044, 0.015997659379307926), (2045, 0.00990909819662731), (2046, 0.005140736966134101), (2047, 0.0), (2048, 0.010035620403431686), (2049, 0.0056744541962155965), (2050, 0.014205180971292955), (2051, 0.0), (2052, 0.004800221668269318), (2053, 0.0), (2054, 0.0), (2055, 0.02651104773348741), (2056, 0.0320620910215233), (2057, 0.05587590830492288), (2058, 0.004644882159698228), (2059, 0.015882576519594335), (2060, 0.0050948881667942526), (2061, 0.0), (2062, 0.01264967971669082), (2063, 0.00466636393438858), (2064, 0.014884382484531616), (2065, 0.008759934319971066), (2066, 0.010968690956602281), (2067, 0.039478029576369894), (2068, 0.004890999992299623), (2069, 0.043122640894405116), (2070, 0.0), (2071, 0.00478843663347955), (2072, 0.0), (2073, 0.01331436152307161), (2074, 0.0495710327423983), (2075, 0.09088724047010892), (2076, 0.004341104740539048), (2077, 0.0062772617464306535), (2078, 0.0), (2079, 0.023068588676965374), (2080, 0.0), (2081, 0.005152597928536814), (2082, 0.005583918240098878), (2083, 0.04009220805281797), (2084, 0.0), (2085, 0.030726702590010445), (2086, 0.005482005143740398), (2087, 0.0050342782870019705), (2088, 0.03089867181717894), (2089, 0.0), (2090, 0.00537193008186417), (2091, 0.0), (2092, 0.0052875107463239085), (2093, 0.0410535630699831), (2094, 0.012362411869744662), (2095, 0.06044570382243451), (2096, 0.0), (2097, 0.0), (2098, 0.004402806896018511), (2099, 0.00481093512572674), (2100, 0.009375799709985951), (2101, 0.03422477773702594), (2102, 0.027540838612183965), (2103, 0.024159302032124713), (2104, 0.0), (2105, 0.0), (2106, 0.010641888852704432), (2107, 0.004902822249608121), (2108, 0.005712948447665326), (2109, 0.0), (2110, 0.011986361861028054), (2111, 0.010083698214710226), (2112, 0.0), (2113, 0.004027820717802703), (2114, 0.0), (2115, 0.014596487633429378), (2116, 0.00555523370098678), (2117, 0.009352687049183805), (2118, 0.0), (2119, 0.0), (2120, 0.0), (2121, 0.0), (2122, 0.005196181061525214), (2123, 0.0), (2124, 0.005516154169434699), (2125, 0.01362508052377379), (2126, 0.0), (2127, 0.008185377401915332), (2128, 0.0050615017087949), (2129, 0.01395542763863728), (2130, 0.025080279078138333), (2131, 0.004944560348367211), (2132, 0.0), (2133, 0.0), (2134, 0.042851547686826516), (2135, 0.0), (2136, 0.010567324902621177), (2137, 0.007295188011597155), (2138, 0.005833742374035702), (2139, 0.02141206796514166), (2140, 0.004894154585909258), (2141, 0.0), (2142, 0.0), (2143, 0.004921160654393498), (2144, 0.0), (2145, 0.009142603446433526), (2146, 0.004398727365143088), (2147, 0.005463363136774799), (2148, 0.010669987365805468), (2149, 0.0), (2150, 0.014426503196568585), (2151, 0.010975659389243917), (2152, 0.011109240983721392), (2153, 0.030122068499841337), (2154, 0.0), (2155, 0.0), (2156, 0.004583277425407684), (2157, 0.0043280456298599185), (2158, 0.0060013373922825665), (2159, 0.0), (2160, 0.00484340716618702), (2161, 0.004583118721298955), (2162, 0.0), (2163, 0.0), (2164, 0.016674725342055347), (2165, 0.0), (2166, 0.004847499845463508), (2167, 0.004946033033980764), (2168, 0.004404565905957941), (2169, 0.0), (2170, 0.018897829981214195), (2171, 0.010533452932333749), (2172, 0.009985101978465976), (2173, 0.0), (2174, 0.0), (2175, 0.0), (2176, 0.049182371622157176), (2177, 0.008382428153277362), (2178, 0.012707044601499354), (2179, 0.004835345908621601), (2180, 0.014933364220024616), (2181, 0.0), (2182, 0.0), (2183, 0.03993871990659725), (2184, 0.0), (2185, 0.013345967953532635), (2186, 0.005834153114302459), (2187, 0.0382396157780737), (2188, 0.0), (2189, 0.0), (2190, 0.0), (2191, 0.0), (2192, 0.00518346141453132), (2193, 0.005193975204391665), (2194, 0.018887683302077227), (2195, 0.015021084799182714), (2196, 0.0), (2197, 0.0), (2198, 0.019537897950698768), (2199, 0.00670014892519034), (2200, 0.005259867054605641), (2201, 0.004788119555879011), (2202, 0.009698096495864141), (2203, 0.03048803439151675), (2204, 0.01713040838112602), (2205, 0.0), (2206, 0.0), (2207, 0.004712267482099), (2208, 0.015789565291619914), (2209, 0.00573029218338378), (2210, 0.0), (2211, 0.0043128744521415815), (2212, 0.0), (2213, 0.0), (2214, 0.0), (2215, 0.01896778411887877), (2216, 0.0), (2217, 0.021155275602443777), (2218, 0.0649025187321721), (2219, 0.03588818627528777), (2220, 0.0), (2221, 0.012520635544342072), (2222, 0.005316524481177576), (2223, 0.005852353224529129), (2224, 0.0), (2225, 0.004714435624644133), (2226, 0.0), (2227, 0.004277019422584502), (2228, 0.006661756242813651), (2229, 0.014276735540076737), (2230, 0.01546721680629785), (2231, 0.0), (2232, 0.014713914655599764), (2233, 0.010700101699948273), (2234, 0.01057291906422824), (2235, 0.0), (2236, 0.004670678530340217), (2237, 0.008555797294178939), (2238, 0.0), (2239, 0.04202940760954141), (2240, 0.004516883973038392), (2241, 0.005352388526243403), (2242, 0.004892353879539586), (2243, 0.0), (2244, 0.0), (2245, 0.012618065528582707), (2246, 0.01303942348217359), (2247, 0.0), (2248, 0.0), (2249, 0.0155795499156397), (2250, 0.0), (2251, 0.0), (2252, 0.0), (2253, 0.0), (2254, 0.0), (2255, 0.016854719052415777), (2256, 0.0), (2257, 0.0), (2258, 0.005581389777789991), (2259, 0.02027244578914853), (2260, 0.005506131306740229), (2261, 0.0059662166896324855), (2262, 0.004637121348608769), (2263, 0.0), (2264, 0.0045727849598068485), (2265, 0.004672690702547267), (2266, 0.0), (2267, 0.0), (2268, 0.0), (2269, 0.03422851031444762), (2270, 0.004447232454250586), (2271, 0.019124312818646166), (2272, 0.004780930621397335), (2273, 0.03319555689872282), (2274, 0.004736001109628919), (2275, 0.0), (2276, 0.0), (2277, 0.009883830853744145), (2278, 0.013253389080913095), (2279, 0.02744889666078064), (2280, 0.00509877230893861), (2281, 0.04420360068981742), (2282, 0.00661309468726839), (2283, 0.01039072829930493), (2284, 0.04663297938410856), (2285, 0.01754718285271834), (2286, 0.056089569909905844), (2287, 0.01626927066627209), (2288, 0.0), (2289, 0.0), (2290, 0.005252469005128028), (2291, 0.0), (2292, 0.005242338933800612), (2293, 0.0), (2294, 0.03309620098336339), (2295, 0.013271674841012767), (2296, 0.01251440936379819), (2297, 0.019807670324066835), (2298, 0.014700827188926468), (2299, 0.0), (2300, 0.0), (2301, 0.0), (2302, 0.005846261400109632), (2303, 0.004854456981696593), (2304, 0.01150195061005912), (2305, 0.005886879424189098), (2306, 0.0), (2307, 0.005279597326441196), (2308, 0.006441501371805832), (2309, 0.004916841351057845), (2310, 0.0), (2311, 0.004841840641514552), (2312, 0.007410359418284043), (2313, 0.015290790612873743), (2314, 0.01437125935774824), (2315, 0.004744244070513748), (2316, 0.020887645990921678), (2317, 0.0), (2318, 0.012435270177206742), (2319, 0.01564581394158164), (2320, 0.023492200295741852), (2321, 0.0), (2322, 0.005013846252926358), (2323, 0.0), (2324, 0.01258023668573365), (2325, 0.005343405184523626), (2326, 0.0), (2327, 0.00479891938726828), (2328, 0.0), (2329, 0.014612321505154726), (2330, 0.01030904583768357), (2331, 0.00422316820632164), (2332, 0.010047860563381366), (2333, 0.0061272582052398815), (2334, 0.0), (2335, 0.010385263955913202), (2336, 0.0051182631033629645), (2337, 0.02626824079114492), (2338, 0.0), (2339, 0.005846002827172491), (2340, 0.005159904329492609), (2341, 0.0), (2342, 0.0), (2343, 0.0), (2344, 0.0), (2345, 0.015700607477665808), (2346, 0.0), (2347, 0.027110820574539757), (2348, 0.004848197646773378), (2349, 0.0), (2350, 0.0), (2351, 0.02412059204156517), (2352, 0.00833293260914318), (2353, 0.030844610581640994), (2354, 0.0), (2355, 0.01255611793915754), (2356, 0.05372637748685187), (2357, 0.020674260228120044), (2358, 0.0), (2359, 0.0), (2360, 0.017859284805676195), (2361, 0.0), (2362, 0.0), (2363, 0.006360819685433219), (2364, 0.011977903475798836), (2365, 0.013255686090809349), (2366, 0.017921080927627817), (2367, 0.0049269952880901), (2368, 0.006134738591718193), (2369, 0.012545103720590136), (2370, 0.0), (2371, 0.005575746877537199), (2372, 0.016747105218168978), (2373, 0.015187429935344013), (2374, 0.0), (2375, 0.005654650265964346), (2376, 0.0), (2377, 0.004085903553029989), (2378, 0.0), (2379, 0.007428310414863564), (2380, 0.005383873941591645), (2381, 0.016609739116828316), (2382, 0.04571881590677292), (2383, 0.047908363792975646), (2384, 0.005732575735133699), (2385, 0.005421245944299151), (2386, 0.0), (2387, 0.005135960375800957), (2388, 0.0), (2389, 0.013288564118501), (2390, 0.0), (2391, 0.005497435640515436), (2392, 0.0), (2393, 0.0), (2394, 0.005423571929649464), (2395, 0.007119854126207812), (2396, 0.005193934037249151), (2397, 0.0052348140176184145), (2398, 0.0113708663324403), (2399, 0.004751224444409756), (2400, 0.014776044127058153), (2401, 0.0), (2402, 0.004661376407152856), (2403, 0.023290790308422387), (2404, 0.0070008561715680226), (2405, 0.0), (2406, 0.03309096744466159), (2407, 0.0), (2408, 0.014913519715539848), (2409, 0.004902263146549958), (2410, 0.00564658150569782), (2411, 0.005828314140994854), (2412, 0.013077348439592238), (2413, 0.010227593363033336), (2414, 0.009828514429946535), (2415, 0.0), (2416, 0.0), (2417, 0.0), (2418, 0.0), (2419, 0.04526748801541317), (2420, 0.005765451867458339), (2421, 0.01986894186717621), (2422, 0.004996350983064655), (2423, 0.041989873639903204), (2424, 0.004665394140985899), (2425, 0.0), (2426, 0.01342774422851682), (2427, 0.011325738506804349), (2428, 0.010760370430852482), (2429, 0.0), (2430, 0.03886867645948935), (2431, 0.005297460126814244), (2432, 0.012592319510975192), (2433, 0.01304589204218185), (2434, 0.04216313444045071), (2435, 0.005082665697917979), (2436, 0.038714720733785915), (2437, 0.0), (2438, 0.0), (2439, 0.01495158253671562), (2440, 0.04413383598663344), (2441, 0.004168037039432916), (2442, 0.009068058101495373), (2443, 0.008579680470377998), (2444, 0.015196033060470033), (2445, 0.01859929755209231), (2446, 0.004780653235687431), (2447, 0.0), (2448, 0.0), (2449, 0.005180487741158458), (2450, 0.013848953782811587), (2451, 0.010472053774773608), (2452, 0.005646796842034609), (2453, 0.0), (2454, 0.0), (2455, 0.006533092269433799), (2456, 0.005312453896172247), (2457, 0.0), (2458, 0.022022048239861806), (2459, 0.0), (2460, 0.004485675884815724), (2461, 0.004990602759870716), (2462, 0.0), (2463, 0.0), (2464, 0.005645053450055242), (2465, 0.019476070377382033), (2466, 0.0), (2467, 0.004965982390067143), (2468, 0.006013970974568882), (2469, 0.0), (2470, 0.0), (2471, 0.0), (2472, 0.02472611013569159), (2473, 0.009285949304514853), (2474, 0.03059044864832479), (2475, 0.0), (2476, 0.0), (2477, 0.0), (2478, 0.005908780010539559), (2479, 0.016635648065159055), (2480, 0.012951688608751896), (2481, 0.0), (2482, 0.0), (2483, 0.006788037920385043), (2484, 0.0), (2485, 0.03152818691011066), (2486, 0.0058766874328995645), (2487, 0.005216402287703926), (2488, 0.040719178660565125), (2489, 0.0), (2490, 0.007418664751592006), (2491, 0.04521146907362258), (2492, 0.005179367804782113), (2493, 0.036720856324389275), (2494, 0.02178699498821344), (2495, 0.005146698366974101), (2496, 0.01221709828994155), (2497, 0.016819299157440088), (2498, 0.012868214287036743), (2499, 0.010945204247887086), (2500, 0.007181400983079498), (2501, 0.009797267956938862), (2502, 0.013287999786856138), (2503, 0.05384469549461403), (2504, 0.014545258137393723), (2505, 0.016726054328026166), (2506, 0.009782031934805225), (2507, 0.005591346901901731), (2508, 0.0042604718453153), (2509, 0.0042298111316075295), (2510, 0.038193917617489886), (2511, 0.005335167512699216), (2512, 0.07252135181503074), (2513, 0.0), (2514, 0.004624296504439195), (2515, 0.006390269347604904), (2516, 0.005453731346319574), (2517, 0.0), (2518, 0.005810635775361723), (2519, 0.005309265029074217), (2520, 0.03321043187335411), (2521, 0.019607779147970218), (2522, 0.026443061566764327), (2523, 0.008896230486729413), (2524, 0.0), (2525, 0.0), (2526, 0.0), (2527, 0.0), (2528, 0.0), (2529, 0.007471660876204135), (2530, 0.012392643301771365), (2531, 0.005364259263179036), (2532, 0.011007538997062475), (2533, 0.04373328260252077), (2534, 0.0), (2535, 0.0057048368580808395), (2536, 0.006723724334384871), (2537, 0.007060890023621828), (2538, 0.0), (2539, 0.012932458754597368), (2540, 0.0), (2541, 0.023866752533986922), (2542, 0.030157397043800768), (2543, 0.0064584791639999625), (2544, 0.0), (2545, 0.0), (2546, 0.005358269086685219), (2547, 0.03883598048122), (2548, 0.004755997775023525), (2549, 0.03500476340503379), (2550, 0.011262155818427835), (2551, 0.015136910010419927), (2552, 0.0), (2553, 0.005018004990528466), (2554, 0.0150287404100167), (2555, 0.011087764422991376), (2556, 0.0), (2557, 0.0), (2558, 0.0), (2559, 0.012817522921591875), (2560, 0.0), (2561, 0.005369907462666149), (2562, 0.007341317040668887), (2563, 0.0), (2564, 0.022624297976775582), (2565, 0.0), (2566, 0.010883289207912428), (2567, 0.01157046242622018), (2568, 0.0), (2569, 0.014720535405638606), (2570, 0.057715178643271844), (2571, 0.0), (2572, 0.0), (2573, 0.010708665234716676), (2574, 0.019009151837268784), (2575, 0.03274397148561549), (2576, 0.0), (2577, 0.0), (2578, 0.0), (2579, 0.0), (2580, 0.0), (2581, 0.06076826343735765), (2582, 0.005251016815351891), (2583, 0.0), (2584, 0.027472819521617474), (2585, 0.0), (2586, 0.005215096529419332), (2587, 0.009135453329332207), (2588, 0.021645165785343187), (2589, 0.0), (2590, 0.013868126281088806), (2591, 0.004617787933119817), (2592, 0.03834746607487941), (2593, 0.0), (2594, 0.0048210906928794015), (2595, 0.0), (2596, 0.011871026506472808), (2597, 0.008499531689468782), (2598, 0.0), (2599, 0.014119710235309), (2600, 0.0064938038179964365), (2601, 0.005367954193328074), (2602, 0.035751567528990454), (2603, 0.0043229829997575965), (2604, 0.03625978876978846), (2605, 0.015551414555179666), (2606, 0.0), (2607, 0.0), (2608, 0.03190093301360282), (2609, 0.010399958602121229), (2610, 0.010879222550956328), (2611, 0.0), (2612, 0.0), (2613, 0.017742877379940375), (2614, 0.0), (2615, 0.013838776330882558), (2616, 0.04211095077216268), (2617, 0.011517938402221864), (2618, 0.012442093750355265), (2619, 0.01239691378337088), (2620, 0.004911565337466998), (2621, 0.0), (2622, 0.0), (2623, 0.0), (2624, 0.0), (2625, 0.0), (2626, 0.005649018454512446), (2627, 0.0), (2628, 0.0), (2629, 0.0), (2630, 0.01391393851436147), (2631, 0.03349300342649701), (2632, 0.0), (2633, 0.005403670343419478), (2634, 0.0), (2635, 0.006031045397333507), (2636, 0.0), (2637, 0.015994648724012503), (2638, 0.0), (2639, 0.00505010190810887), (2640, 0.010201918093258417), (2641, 0.0093433483935016), (2642, 0.014353124069012195), (2643, 0.0), (2644, 0.017328224134139404), (2645, 0.0), (2646, 0.01980464208065293), (2647, 0.009875453484374285), (2648, 0.005307452010783924), (2649, 0.0), (2650, 0.0), (2651, 0.0), (2652, 0.0), (2653, 0.004966933779163321), (2654, 0.0), (2655, 0.03733366932507503), (2656, 0.04206805503479972), (2657, 0.0075395081402552236), (2658, 0.0), (2659, 0.0074141938779535566), (2660, 0.018364857190073414), (2661, 0.005525481694607825), (2662, 0.02794516850115538), (2663, 0.01006414408329092), (2664, 0.0), (2665, 0.039717056557097466), (2666, 0.004731626796522303), (2667, 0.0070137220753680235), (2668, 0.0), (2669, 0.007611954804182867), (2670, 0.0), (2671, 0.003780496540798604), (2672, 0.016697750498667528), (2673, 0.0), (2674, 0.0), (2675, 0.005395724616119724), (2676, 0.005902183852612205), (2677, 0.005014993673083642), (2678, 0.05426318779123287), (2679, 0.02665787937532172), (2680, 0.01252256667142388), (2681, 0.0049484557328277915), (2682, 0.01218854593352756), (2683, 0.06333795259902555), (2684, 0.02926447237067175), (2685, 0.018481826171787386), (2686, 0.02430353428348654), (2687, 0.00506398527210047), (2688, 0.01278104567016203), (2689, 0.0), (2690, 0.029698677909700832), (2691, 0.010144123879233686), (2692, 0.0), (2693, 0.004975701605726468), (2694, 0.0), (2695, 0.0), (2696, 0.005983365348417634), (2697, 0.0), (2698, 0.0), (2699, 0.031084253144687067), (2700, 0.0), (2701, 0.008330420942637773), (2702, 0.005882831084379826), (2703, 0.00796790647892286), (2704, 0.03143566510695059), (2705, 0.0), (2706, 0.004893381975990908), (2707, 0.011443602373641091), (2708, 0.0), (2709, 0.020216736875844202), (2710, 0.010963058520225284), (2711, 0.0), (2712, 0.005499475698378132), (2713, 0.009551913298237654), (2714, 0.0), (2715, 0.019612108054989745), (2716, 0.0), (2717, 0.0), (2718, 0.03424545958471429), (2719, 0.0), (2720, 0.023684189903450087), (2721, 0.004472437535722759), (2722, 0.0072257222013158), (2723, 0.0), (2724, 0.0), (2725, 0.010427689191478956), (2726, 0.03971915559279294), (2727, 0.024305459123910723), (2728, 0.004685077247796069), (2729, 0.021384862886271415), (2730, 0.006324144256487791), (2731, 0.006909070524068549), (2732, 0.010498704056194687), (2733, 0.014511891714591125), (2734, 0.004090977262390262), (2735, 0.0), (2736, 0.012439276022026786), (2737, 0.008605925605306127), (2738, 0.006074183288479363), (2739, 0.0), (2740, 0.021956579786003252), (2741, 0.013413563132606597), (2742, 0.0), (2743, 0.0), (2744, 0.05082176197203489), (2745, 0.0), (2746, 0.005233459205975398), (2747, 0.008919921182508582), (2748, 0.005597097583790791), (2749, 0.02258061641148288), (2750, 0.0), (2751, 0.026715034510801688), (2752, 0.04158862493883607), (2753, 0.0), (2754, 0.021186007279798386), (2755, 0.01575283154089348), (2756, 0.006196286835878479), (2757, 0.04610334820486461), (2758, 0.004371433365444441), (2759, 0.012729734095038624), (2760, 0.0), (2761, 0.0), (2762, 0.0), (2763, 0.01454890689555603), (2764, 0.007333101674005422), (2765, 0.0), (2766, 0.0), (2767, 0.0), (2768, 0.0), (2769, 0.006075327925952731), (2770, 0.0042563584765010366), (2771, 0.0), (2772, 0.0), (2773, 0.013042520521722169), (2774, 0.01190432093313104), (2775, 0.04003683353628808), (2776, 0.011087205693967447), (2777, 0.0), (2778, 0.0), (2779, 0.0), (2780, 0.044613357234123546), (2781, 0.006202998940119228), (2782, 0.005729627965103113), (2783, 0.0), (2784, 0.0), (2785, 0.04872393042833972), (2786, 0.021640455504129182), (2787, 0.004894340473355898), (2788, 0.0), (2789, 0.0), (2790, 0.0), (2791, 0.0), (2792, 0.0), (2793, 0.013102562189836084), (2794, 0.0053287173948908225), (2795, 0.0), (2796, 0.005890435045698098), (2797, 0.006300059906532362), (2798, 0.0), (2799, 0.03729177414983415), (2800, 0.0), (2801, 0.035372907983304086), (2802, 0.0), (2803, 0.008873239502286303), (2804, 0.014902082011279363), (2805, 0.029135753343512774), (2806, 0.010798319134935714), (2807, 0.0050495425111259295), (2808, 0.0), (2809, 0.0), (2810, 0.005768637660819191), (2811, 0.02212957978968115), (2812, 0.004850785909696457), (2813, 0.020251045192101483), (2814, 0.003682401299625318), (2815, 0.0), (2816, 0.005325754673274825), (2817, 0.0215478757984139), (2818, 0.007207873578856597), (2819, 0.0), (2820, 0.0045020425759252575), (2821, 0.0), (2822, 0.012856952308109685), (2823, 0.009746447513712604), (2824, 0.012727523498245585), (2825, 0.005084771032574878), (2826, 0.024943652510482056), (2827, 0.012152571087807889), (2828, 0.012627712870562911), (2829, 0.017447711784804133), (2830, 0.027613315637560386), (2831, 0.015078099793380687), (2832, 0.006754868506066054), (2833, 0.004587969188462305), (2834, 0.006385716735282534), (2835, 0.011938566810550284), (2836, 0.005107139275932191), (2837, 0.015738438285985083), (2838, 0.006577944628415943), (2839, 0.012960259442781941), (2840, 0.03289261757806859), (2841, 0.0), (2842, 0.0), (2843, 0.027370631303428282), (2844, 0.0), (2845, 0.0), (2846, 0.07423177006460076), (2847, 0.009626687932965372), (2848, 0.0), (2849, 0.0), (2850, 0.009690750197170452), (2851, 0.0), (2852, 0.01149598116289231), (2853, 0.0), (2854, 0.016726463666148626), (2855, 0.0043649007157161804), (2856, 0.00528678062240344), (2857, 0.006353579550597075), (2858, 0.10226814722081459), (2859, 0.026708687670415527), (2860, 0.01057876433465895), (2861, 0.0), (2862, 0.0), (2863, 0.0), (2864, 0.0), (2865, 0.012460227277238153), (2866, 0.004789622974294023), (2867, 0.03060336377885942), (2868, 0.0), (2869, 0.0), (2870, 0.03819001756117543), (2871, 0.05005685960831379), (2872, 0.005924861686427056), (2873, 0.005846021906559058), (2874, 0.0047771309415400665), (2875, 0.006541898963662753), (2876, 0.004298821013284832), (2877, 0.004321259619547265), (2878, 0.0), (2879, 0.0), (2880, 0.005547509653799807), (2881, 0.0), (2882, 0.005593216362795288), (2883, 0.0), (2884, 0.038462591770596126), (2885, 0.006932452861435622), (2886, 0.0), (2887, 0.009879673222050146), (2888, 0.010561945656324517), (2889, 0.0), (2890, 0.0), (2891, 0.007290877116165514), (2892, 0.0), (2893, 0.01167396005723881), (2894, 0.0), (2895, 0.011670908653199539), (2896, 0.005226907975830206), (2897, 0.004916400957348753), (2898, 0.010625461126801494), (2899, 0.012280660940783316), (2900, 0.0), (2901, 0.0), (2902, 0.0), (2903, 0.0), (2904, 0.015664870987891006), (2905, 0.0), (2906, 0.01150138137138621), (2907, 0.0), (2908, 0.0), (2909, 0.0), (2910, 0.0), (2911, 0.0), (2912, 0.004983949842982019), (2913, 0.004221819704005122), (2914, 0.005821088151482092), (2915, 0.0), (2916, 0.0), (2917, 0.0), (2918, 0.0), (2919, 0.0), (2920, 0.008921224432591737), (2921, 0.014617935788332108), (2922, 0.00700347138594092), (2923, 0.0), (2924, 0.0059693658555775245), (2925, 0.01622488328905211), (2926, 0.0053829697062479165), (2927, 0.04595447712026307), (2928, 0.006646512747047186), (2929, 0.011651455879879683), (2930, 0.005659190461614817), (2931, 0.0), (2932, 0.0), (2933, 0.004371135800756771), (2934, 0.0), (2935, 0.03402441148347934), (2936, 0.0), (2937, 0.03562781060104255), (2938, 0.0), (2939, 0.006410645026864602), (2940, 0.015923073184560304), (2941, 0.006614648523795427), (2942, 0.0), (2943, 0.0), (2944, 0.01009228281860885), (2945, 0.0050384096515099855), (2946, 0.0), (2947, 0.0), (2948, 0.006702915397616792), (2949, 0.030050676484446433), (2950, 0.009265822082131545), (2951, 0.011341050244405522), (2952, 0.01495113910898796), (2953, 0.0), (2954, 0.004699788000656686), (2955, 0.009956849868730359), (2956, 0.02777075336388288), (2957, 0.03608009840128496), (2958, 0.0), (2959, 0.0), (2960, 0.009944688494993718), (2961, 0.0), (2962, 0.004898049216784991), (2963, 0.0), (2964, 0.0), (2965, 0.0), (2966, 0.015881223995290565), (2967, 0.0), (2968, 0.005618230323117474), (2969, 0.012491252493787292), (2970, 0.005486308831727981), (2971, 0.004478588081779596), (2972, 0.00485169630036193), (2973, 0.010096630847512101), (2974, 0.0), (2975, 0.0), (2976, 0.004610846947579936), (2977, 0.0), (2978, 0.0055967424597622205), (2979, 0.019785292819597025), (2980, 0.0), (2981, 0.0), (2982, 0.02072492950138611), (2983, 0.00649609689182793), (2984, 0.011993939754886936), (2985, 0.0), (2986, 0.006088281089992105), (2987, 0.0), (2988, 0.0), (2989, 0.020985910756106122), (2990, 0.006928969231987417), (2991, 0.013237941863261686), (2992, 0.00479924527687885), (2993, 0.018165705612268743), (2994, 0.005180523331914538), (2995, 0.0), (2996, 0.016574339689656242), (2997, 0.0), (2998, 0.014637849661847776), (2999, 0.005117966642142653), (3000, 0.0), (3001, 0.014477170415049107), (3002, 0.01320213858684539), (3003, 0.005717831055768613), (3004, 0.0), (3005, 0.013204009718189288), (3006, 0.0), (3007, 0.0), (3008, 0.0), (3009, 0.04665455117051187), (3010, 0.0), (3011, 0.0), (3012, 0.0), (3013, 0.0), (3014, 0.01421781252467875), (3015, 0.0), (3016, 0.010568051088119418), (3017, 0.006115438439252145), (3018, 0.005375309806178642), (3019, 0.0), (3020, 0.006248593749859639), (3021, 0.026543522667255997), (3022, 0.0), (3023, 0.012360075874750624), (3024, 0.0), (3025, 0.018550972598344397), (3026, 0.06465299869180262), (3027, 0.025350490640848253), (3028, 0.028499250923248783), (3029, 0.0), (3030, 0.0), (3031, 0.0), (3032, 0.0), (3033, 0.005144236404250123), (3034, 0.005180646564562429), (3035, 0.0), (3036, 0.0), (3037, 0.005433107816873859), (3038, 0.0053843040085602605), (3039, 0.0058244835835850085), (3040, 0.028220774790604804), (3041, 0.005432972333040009), (3042, 0.0069740690617230774), (3043, 0.0), (3044, 0.06378743317352129), (3045, 0.0), (3046, 0.0), (3047, 0.0), (3048, 0.013838588838528268), (3049, 0.0), (3050, 0.04455363977147371), (3051, 0.0), (3052, 0.0), (3053, 0.0), (3054, 0.006184802664796292), (3055, 0.0), (3056, 0.012476737278288767), (3057, 0.0), (3058, 0.00966302013013029), (3059, 0.0), (3060, 0.03521021077869932), (3061, 0.005381558107956735), (3062, 0.016516307815847352), (3063, 0.06380636291866962), (3064, 0.0), (3065, 0.008281917885228007), (3066, 0.005028859464810205), (3067, 0.0), (3068, 0.023217136463855936), (3069, 0.029415243611017442), (3070, 0.0045978286430638044), (3071, 0.004821102851856881), (3072, 0.0), (3073, 0.005078357759220744), (3074, 0.006315000049320904), (3075, 0.0), (3076, 0.0), (3077, 0.009721576061362116), (3078, 0.006614099528106148), (3079, 0.0), (3080, 0.005737180532396422), (3081, 0.0), (3082, 0.004577896554646905), (3083, 0.004784796167804134), (3084, 0.051311849694773454), (3085, 0.0), (3086, 0.014112579948718226), (3087, 0.0064936716280009415), (3088, 0.007653924994194913), (3089, 0.006253752900715943), (3090, 0.0050614696785460725), (3091, 0.008161202062423538), (3092, 0.045973832150251574), (3093, 0.0), (3094, 0.0), (3095, 0.0), (3096, 0.008475705619987624), (3097, 0.005675642694786036), (3098, 0.009351797493712188), (3099, 0.008672714680463205), (3100, 0.00910788547922666), (3101, 0.0), (3102, 0.005245924255423995), (3103, 0.0), (3104, 0.005135099000868422), (3105, 0.021785307993736375), (3106, 0.005130854737608173), (3107, 0.0), (3108, 0.004619687457648469), (3109, 0.005481821900020589), (3110, 0.016942513361712593), (3111, 0.0), (3112, 0.016195037589321906), (3113, 0.07359106403049126), (3114, 0.02109084156926065), (3115, 0.0518690354723672), (3116, 0.032407856434291345), (3117, 0.0), (3118, 0.012123240105958801), (3119, 0.0), (3120, 0.013943653492066865), (3121, 0.009105860833946683), (3122, 0.012462633631298408), (3123, 0.0), (3124, 0.01012305133727157), (3125, 0.0), (3126, 0.012510940804740849), (3127, 0.004985752436829223), (3128, 0.0), (3129, 0.008377091594422507), (3130, 0.011918021712565867), (3131, 0.040521405693633675), (3132, 0.010337526611719005), (3133, 0.009164727877286425), (3134, 0.010176591091962811), (3135, 0.009132341345620089), (3136, 0.009093918818906201), (3137, 0.009554514320352595), (3138, 0.0), (3139, 0.007287400052466093), (3140, 0.0), (3141, 0.014352747270899812), (3142, 0.007116425013711188), (3143, 0.0), (3144, 0.0), (3145, 0.0), (3146, 0.005757343957582241), (3147, 0.009583450862714182), (3148, 0.0), (3149, 0.0194918972144472), (3150, 0.0053853118088410335), (3151, 0.0), (3152, 0.007608708464405692), (3153, 0.0), (3154, 0.0), (3155, 0.005182363082921226), (3156, 0.009391077874876998), (3157, 0.031356482973439515), (3158, 0.0), (3159, 0.0), (3160, 0.024704563756111762), (3161, 0.0), (3162, 0.005367240330691746), (3163, 0.010612645786004586), (3164, 0.0043588183042264075), (3165, 0.0), (3166, 0.007139711722251369), (3167, 0.013487734042838427), (3168, 0.005795866940809935), (3169, 0.005276658003831254), (3170, 0.0), (3171, 0.0), (3172, 0.017346718215467523), (3173, 0.0), (3174, 0.0), (3175, 0.005515529339138307), (3176, 0.0), (3177, 0.01919611307373171), (3178, 0.00813792405974251), (3179, 0.059162572892832936), (3180, 0.0), (3181, 0.02202054758048512), (3182, 0.0104866079022585), (3183, 0.00563637522277607), (3184, 0.0), (3185, 0.0), (3186, 0.0), (3187, 0.0054164996799340335), (3188, 0.0051412868337795395), (3189, 0.005407774899356574), (3190, 0.023416145550514578), (3191, 0.013449354861613848), (3192, 0.011372444350799718), (3193, 0.009159256764806152), (3194, 0.004858244929606782), (3195, 0.012856188539308736), (3196, 0.048758840685360544), (3197, 0.004677760893088762), (3198, 0.0053172109081116555), (3199, 0.0), (3200, 0.0), (3201, 0.0), (3202, 0.010601173322381939), (3203, 0.006198904679287894), (3204, 0.00689014817916002), (3205, 0.007252715033380844), (3206, 0.011796958372445298), (3207, 0.005656292725921154), (3208, 0.010249679508853714), (3209, 0.005264104889137939), (3210, 0.0), (3211, 0.0), (3212, 0.004266967115462048), (3213, 0.0), (3214, 0.004913939185369556), (3215, 0.008154378059974966), (3216, 0.0), (3217, 0.006632897948462261), (3218, 0.005487389758483073), (3219, 0.0), (3220, 0.005030493852106364), (3221, 0.02260175119414989), (3222, 0.0), (3223, 0.0), (3224, 0.0346889284988931), (3225, 0.0), (3226, 0.0), (3227, 0.0), (3228, 0.0), (3229, 0.005345693093700207), (3230, 0.0), (3231, 0.013340602179580004), (3232, 0.013025197569885062), (3233, 0.0), (3234, 0.005626127219788212), (3235, 0.013926687140338633), (3236, 0.005474382717811176), (3237, 0.0), (3238, 0.004429551259224126), (3239, 0.048496590059030495), (3240, 0.0), (3241, 0.0), (3242, 0.0), (3243, 0.0), (3244, 0.01668240968772378), (3245, 0.005200522866272643), (3246, 0.004934391487794426), (3247, 0.0), (3248, 0.0), (3249, 0.0064376098176976825), (3250, 0.02933201494697685), (3251, 0.0), (3252, 0.0), (3253, 0.0058532476821993975), (3254, 0.0), (3255, 0.0), (3256, 0.006000032892842368), (3257, 0.006202063975984703), (3258, 0.005596980712255976), (3259, 0.0054282817330546405), (3260, 0.0050500532463573005), (3261, 0.0), (3262, 0.0), (3263, 0.0), (3264, 0.0), (3265, 0.026129563027093558), (3266, 0.007120182938447718), (3267, 0.004670396402770962), (3268, 0.0), (3269, 0.0), (3270, 0.005113685505821862), (3271, 0.01112298922766787), (3272, 0.009923681649127493), (3273, 0.0), (3274, 0.0), (3275, 0.0), (3276, 0.014718577710517856), (3277, 0.005419679843981934), (3278, 0.011878860013832157), (3279, 0.0482396400595131), (3280, 0.03961998717930691), (3281, 0.04575545586800665), (3282, 0.006675115715333409), (3283, 0.02058329199024824), (3284, 0.03508701723145786), (3285, 0.02880065385647154), (3286, 0.014463707844449784), (3287, 0.015400858542231438), (3288, 0.005036105421102832), (3289, 0.005274940609701009), (3290, 0.005296973804319576), (3291, 0.0), (3292, 0.019660637018990342), (3293, 0.0), (3294, 0.0), (3295, 0.004684098097235555), (3296, 0.0), (3297, 0.026941638637984894), (3298, 0.0), (3299, 0.0), (3300, 0.0), (3301, 0.0), (3302, 0.0), (3303, 0.005237937695053893), (3304, 0.00466068124907664), (3305, 0.015870682264090795), (3306, 0.0), (3307, 0.0), (3308, 0.006093634092184054), (3309, 0.009830060986700376), (3310, 0.0053695712446851914), (3311, 0.004656029611913063), (3312, 0.0), (3313, 0.0), (3314, 0.0), (3315, 0.04607738650212605), (3316, 0.0), (3317, 0.0), (3318, 0.026579905360205148), (3319, 0.03596467934224665), (3320, 0.017104260420165582), (3321, 0.004762428741478564), (3322, 0.0), (3323, 0.02995286639749124), (3324, 0.006049098978484757), (3325, 0.0), (3326, 0.0), (3327, 0.00874574570973726), (3328, 0.006408785192777976), (3329, 0.004705559020914909), (3330, 0.013019481063114983), (3331, 0.0), (3332, 0.01842920618966013), (3333, 0.0), (3334, 0.013745113049416285), (3335, 0.0), (3336, 0.0), (3337, 0.005939018750934277), (3338, 0.012171081211549922), (3339, 0.0), (3340, 0.0), (3341, 0.0), (3342, 0.018108059853931647), (3343, 0.005141947276086624), (3344, 0.0), (3345, 0.0), (3346, 0.00972445287180291), (3347, 0.0), (3348, 0.0049812068807863355), (3349, 0.005340073848001168), (3350, 0.005077907590892696), (3351, 0.0053719914292234845), (3352, 0.009899589094478486), (3353, 0.0), (3354, 0.0), (3355, 0.017326945223754487), (3356, 0.0), (3357, 0.00639796226125719), (3358, 0.0), (3359, 0.0), (3360, 0.017321985457752695), (3361, 0.009229912578453375), (3362, 0.0), (3363, 0.0), (3364, 0.005941926041850963), (3365, 0.0), (3366, 0.014387750847841503), (3367, 0.009765708639117172), (3368, 0.0), (3369, 0.0), (3370, 0.014619041567100971), (3371, 0.005701782025147749), (3372, 0.0), (3373, 0.005793228317065484), (3374, 0.0), (3375, 0.004989768366674252), (3376, 0.0), (3377, 0.044375208795008746), (3378, 0.005371027042812763), (3379, 0.0), (3380, 0.0), (3381, 0.04402052848586637), (3382, 0.00537087318769787), (3383, 0.005828177005237831), (3384, 0.051455247886220176), (3385, 0.03305366195185057), (3386, 0.03371258239279465), (3387, 0.010767186175575729), (3388, 0.005423092980645414), (3389, 0.01858540897103102), (3390, 0.0), (3391, 0.04802993555069652), (3392, 0.0), (3393, 0.004426830900620193), (3394, 0.019896375896428543), (3395, 0.013685538047262755), (3396, 0.0), (3397, 0.013369629346119618), (3398, 0.013473449233496344), (3399, 0.0), (3400, 0.005033653156307246), (3401, 0.01384713235956973), (3402, 0.005015793820748616), (3403, 0.0), (3404, 0.009920262764448746), (3405, 0.00828719616852132), (3406, 0.029731019834051388), (3407, 0.0), (3408, 0.023368968036602586), (3409, 0.0), (3410, 0.004141957740015054), (3411, 0.015977522091151407), (3412, 0.0), (3413, 0.006182346598031684), (3414, 0.016858963027267714), (3415, 0.00538684477140429), (3416, 0.015046701707530098), (3417, 0.0), (3418, 0.009342218356113142), (3419, 0.011252239069070103), (3420, 0.0), (3421, 0.0035609744428831145), (3422, 0.021314817203548254), (3423, 0.0), (3424, 0.0056393516195977055), (3425, 0.0), (3426, 0.009070190260706197), (3427, 0.009787201650988592), (3428, 0.005317653702106167), (3429, 0.0), (3430, 0.004284326357079487), (3431, 0.0), (3432, 0.0), (3433, 0.01230094048332195), (3434, 0.0), (3435, 0.014914411827115845), (3436, 0.0), (3437, 0.027352515054655864), (3438, 0.010409116571859221), (3439, 0.9999999999999998), (3440, 0.015178724877583335), (3441, 0.014937095858520471), (3442, 0.005459682584536185), (3443, 0.005076869026180524), (3444, 0.02209522409198872), (3445, 0.013379182122456666), (3446, 0.013416602420649366), (3447, 0.010059179204510485), (3448, 0.011828114489763567), (3449, 0.0360040967778079), (3450, 0.0), (3451, 0.0), (3452, 0.0), (3453, 0.0), (3454, 0.009537749287375615), (3455, 0.0), (3456, 0.008922289771280935), (3457, 0.0), (3458, 0.0), (3459, 0.0), (3460, 0.0), (3461, 0.0158797905786501), (3462, 0.02045887286097466), (3463, 0.010058104011399123), (3464, 0.005455071161153073), (3465, 0.014305345662900768), (3466, 0.0), (3467, 0.009875008770296002), (3468, 0.0), (3469, 0.010919196964887018), (3470, 0.014663631959612958), (3471, 0.01038721180373693), (3472, 0.0), (3473, 0.0), (3474, 0.011870803539740371), (3475, 0.07864231338379962), (3476, 0.0), (3477, 0.00510389954155334), (3478, 0.0), (3479, 0.00687389577757776), (3480, 0.01071180292391708), (3481, 0.00433191972404188), (3482, 0.009810068123999), (3483, 0.0), (3484, 0.010864362654847094), (3485, 0.0307805876069006), (3486, 0.009955405609940222), (3487, 0.012560578445492548), (3488, 0.013619539693172153), (3489, 0.0053056230569979755), (3490, 0.00494284188878464), (3491, 0.0), (3492, 0.00973837442782435), (3493, 0.005387309380436788), (3494, 0.020337654001163163), (3495, 0.011616669732397954), (3496, 0.00552497700870251), (3497, 0.0), (3498, 0.0), (3499, 0.027675427973915735), (3500, 0.004775321367462596), (3501, 0.0), (3502, 0.04991099460238608), (3503, 0.004935613337484757), (3504, 0.0), (3505, 0.0), (3506, 0.0), (3507, 0.0), (3508, 0.005065423604869907), (3509, 0.004465673026113488), (3510, 0.005548944683884498), (3511, 0.0), (3512, 0.007892711558832808), (3513, 0.005392806912113896), (3514, 0.005373453585040067), (3515, 0.0), (3516, 0.014207980288949616), (3517, 0.005329402150560856), (3518, 0.005123269823758309), (3519, 0.005666827616786995), (3520, 0.009870548104395603), (3521, 0.0), (3522, 0.013370424937491875), (3523, 0.0), (3524, 0.0), (3525, 0.01309349327229646), (3526, 0.005267547152273823), (3527, 0.0), (3528, 0.012034213922496444), (3529, 0.02220545451899629), (3530, 0.013392308983045146), (3531, 0.004992367309497396), (3532, 0.011226120251632039), (3533, 0.0), (3534, 0.0), (3535, 0.015469464548737408), (3536, 0.015626961237126605), (3537, 0.00638425938939739), (3538, 0.004104169270828347), (3539, 0.021529207362233894), (3540, 0.0), (3541, 0.005177596796665429), (3542, 0.0), (3543, 0.04520547235986695), (3544, 0.00626540455968425), (3545, 0.005108892307481567), (3546, 0.007274525138341029), (3547, 0.03266480745026695), (3548, 0.0), (3549, 0.005323176482271801), (3550, 0.0121350594576149), (3551, 0.0), (3552, 0.008371317346561708), (3553, 0.0), (3554, 0.006230751257634079), (3555, 0.00945002402361176), (3556, 0.02693264919727931), (3557, 0.0), (3558, 0.0), (3559, 0.0043142501776702175), (3560, 0.010955445701855507), (3561, 0.0), (3562, 0.004957823462713751), (3563, 0.004691164311434043), (3564, 0.028280897466965535), (3565, 0.010187991460436719), (3566, 0.009158850760611433), (3567, 0.009341749131120602), (3568, 0.00935095308882632), (3569, 0.0), (3570, 0.005114950325599614), (3571, 0.015789797526982265), (3572, 0.02237299923161429), (3573, 0.0), (3574, 0.018930205688417044), (3575, 0.004158272720617616), (3576, 0.013268329389770421), (3577, 0.02497368218173567), (3578, 0.07949644382071931), (3579, 0.004393506151274754), (3580, 0.03259789897194633), (3581, 0.005658215169340989), (3582, 0.014351530832226463), (3583, 0.012684979550094868), (3584, 0.01955806845203753), (3585, 0.01003336258175761), (3586, 0.010493321005980187), (3587, 0.010983503117142027), (3588, 0.0), (3589, 0.06653562892108761), (3590, 0.0), (3591, 0.005372027966623709), (3592, 0.0063993788596490965), (3593, 0.0), (3594, 0.0), (3595, 0.004924627738018261), (3596, 0.0), (3597, 0.009978845981500485), (3598, 0.013187650143725475), (3599, 0.005374261818603986), (3600, 0.00879212091998992), (3601, 0.0054893570711427985), (3602, 0.0), (3603, 0.005245387082779181), (3604, 0.0), (3605, 0.0), (3606, 0.005248048587325059), (3607, 0.0), (3608, 0.0), (3609, 0.012283924910454023), (3610, 0.023867123024283864), (3611, 0.0), (3612, 0.0), (3613, 0.0), (3614, 0.0), (3615, 0.0), (3616, 0.006400692031397147), (3617, 0.0), (3618, 0.0), (3619, 0.011461759536125533), (3620, 0.0), (3621, 0.006056697227315047), (3622, 0.009649127968642228), (3623, 0.0), (3624, 0.014921236265298293), (3625, 0.0), (3626, 0.003948935754287133), (3627, 0.013935070280402341), (3628, 0.01629095234770286), (3629, 0.01674750512347625), (3630, 0.025716155577128474), (3631, 0.0), (3632, 0.005261102880038218), (3633, 0.004609823878502971), (3634, 0.0), (3635, 0.013182582631146512), (3636, 0.0), (3637, 0.0), (3638, 0.030933894000373573), (3639, 0.03375240329578571), (3640, 0.0), (3641, 0.014387717849777788), (3642, 0.0), (3643, 0.0), (3644, 0.005057072227401783), (3645, 0.0), (3646, 0.004866971402864931), (3647, 0.0), (3648, 0.005325656841555243), (3649, 0.005839163349782147), (3650, 0.005215412513680232), (3651, 0.017228952903182833), (3652, 0.005687316554781824), (3653, 0.0), (3654, 0.0), (3655, 0.0), (3656, 0.0), (3657, 0.0082281928210119), (3658, 0.004325190602862721), (3659, 0.0), (3660, 0.0), (3661, 0.0), (3662, 0.00514457618249678), (3663, 0.0), (3664, 0.04151052341509932), (3665, 0.0051349041985331405), (3666, 0.013564482681919439), (3667, 0.0), (3668, 0.0), (3669, 0.0), (3670, 0.015189552769319702), (3671, 0.04147439045799114), (3672, 0.0), (3673, 0.005126307703932035), (3674, 0.01705805013020536), (3675, 0.017953118613545177), (3676, 0.005201474840428678), (3677, 0.0), (3678, 0.010951507396201385), (3679, 0.0), (3680, 0.0), (3681, 0.005713928152088183), (3682, 0.0), (3683, 0.005268720388190407), (3684, 0.004467003321079191), (3685, 0.014615048244684509), (3686, 0.00611901530354472), (3687, 0.0), (3688, 0.03465419815994536), (3689, 0.0), (3690, 0.009964398163567409), (3691, 0.0), (3692, 0.0), (3693, 0.008319187917638828), (3694, 0.0), (3695, 0.041478945847765486), (3696, 0.0), (3697, 0.010741671096589602), (3698, 0.007344492313198384), (3699, 0.015383028957909462), (3700, 0.009261436840299732), (3701, 0.0), (3702, 0.01716129803580966), (3703, 0.0), (3704, 0.0), (3705, 0.0), (3706, 0.0), (3707, 0.0), (3708, 0.0), (3709, 0.009503450847843282), (3710, 0.0), (3711, 0.0), (3712, 0.004875624647657887), (3713, 0.0), (3714, 0.0), (3715, 0.006641813937865499), (3716, 0.004626104112362817), (3717, 0.0), (3718, 0.009041304214010327), (3719, 0.0), (3720, 0.012607057614226687), (3721, 0.0), (3722, 0.0052921241575324155), (3723, 0.0), (3724, 0.013852094164846203), (3725, 0.0), (3726, 0.047658975938917575), (3727, 0.0), (3728, 0.005504045641939854), (3729, 0.0), (3730, 0.00562664667601426), (3731, 0.011141007093055802), (3732, 0.004795402038945126), (3733, 0.014706536558253798), (3734, 0.012321598854997224), (3735, 0.016485207750560893), (3736, 0.009667539998769244), (3737, 0.0), (3738, 0.011949210282082937), (3739, 0.0052037406485245215), (3740, 0.06122756075398345), (3741, 0.0), (3742, 0.05765647670931996), (3743, 0.010088736349593563), (3744, 0.011866355867094067), (3745, 0.0), (3746, 0.012860242384051543), (3747, 0.010298203452154845), (3748, 0.004453426705409444), (3749, 0.0), (3750, 0.0), (3751, 0.01237883589847959), (3752, 0.0), (3753, 0.004741652156296842), (3754, 0.005969210389118779), (3755, 0.004549021815208167), (3756, 0.0), (3757, 0.0), (3758, 0.021780773373812207), (3759, 0.023136149032500695), (3760, 0.0), (3761, 0.0), (3762, 0.0), (3763, 0.0060660671364400585), (3764, 0.010172257647389197), (3765, 0.004999859111018027), (3766, 0.0), (3767, 0.004728186707558436), (3768, 0.014037931274757852), (3769, 0.013659386937864677), (3770, 0.0), (3771, 0.0), (3772, 0.022996584679265585), (3773, 0.009536368516073033), (3774, 0.0), (3775, 0.0), (3776, 0.0), (3777, 0.1813199404361903), (3778, 0.0), (3779, 0.03401814587113262), (3780, 0.0), (3781, 0.0), (3782, 0.010444097209130152), (3783, 0.009196197504324464), (3784, 0.0), (3785, 0.008617725770554457), (3786, 0.009355402122217478), (3787, 0.010674589740244014), (3788, 0.01221169497306412), (3789, 0.006078711170170633), (3790, 0.02100352971024018), (3791, 0.005873180018593175), (3792, 0.005234401713745467), (3793, 0.012843031006942307), (3794, 0.0), (3795, 0.008721980924419157), (3796, 0.0071189010301072235), (3797, 0.03263539444709985), (3798, 0.010113790953783475), (3799, 0.0), (3800, 0.006790761028238321), (3801, 0.026986854795612025), (3802, 0.01430479586746623), (3803, 0.01303425142699485), (3804, 0.0), (3805, 0.014854200043305336), (3806, 0.0), (3807, 0.0), (3808, 0.0057148655562236795), (3809, 0.0), (3810, 0.013311976327967481), (3811, 0.004852288247110212), (3812, 0.005238892371956318), (3813, 0.0), (3814, 0.0), (3815, 0.013319104138344173), (3816, 0.016493313227494765), (3817, 0.02169278814576202), (3818, 0.04862993699863633), (3819, 0.0), (3820, 0.005818967405574878), (3821, 0.0), (3822, 0.0057793478336694085), (3823, 0.012283093936554745), (3824, 0.017381422934547155), (3825, 0.0), (3826, 0.009373762132027287), (3827, 0.0), (3828, 0.0), (3829, 0.0), (3830, 0.0), (3831, 0.01432586395812962), (3832, 0.01256719542540503), (3833, 0.013267014656761424), (3834, 0.010432539548893293), (3835, 0.0), (3836, 0.0050198611742071205), (3837, 0.005649880306113413), (3838, 0.0), (3839, 0.004747570256224461), (3840, 0.009995405976976077), (3841, 0.0), (3842, 0.004684839294085578), (3843, 0.013853408153917732), (3844, 0.02282071516187723), (3845, 0.03613003616612003), (3846, 0.010390495192174337), (3847, 0.0), (3848, 0.0), (3849, 0.010127169245291294), (3850, 0.0), (3851, 0.005893196987975787), (3852, 0.011382959545128562), (3853, 0.012335395297965799), (3854, 0.0), (3855, 0.004367423963763299), (3856, 0.004454551037305137), (3857, 0.0), (3858, 0.023172993385949744), (3859, 0.017225157874919052), (3860, 0.0), (3861, 0.004557676082991975), (3862, 0.045412632714485195), (3863, 0.0), (3864, 0.0048573275021165045), (3865, 0.013285763207352471), (3866, 0.05728840600109722), (3867, 0.033502736550108825), (3868, 0.019335577319725177), (3869, 0.010688446526115543), (3870, 0.015574488648944224), (3871, 0.010176740086348), (3872, 0.01258874909375482), (3873, 0.0), (3874, 0.018416899073736726), (3875, 0.004183630450498032), (3876, 0.0), (3877, 0.010855995715319266), (3878, 0.0), (3879, 0.004990165162840566), (3880, 0.0), (3881, 0.012458282226765283), (3882, 0.005417165181639069), (3883, 0.0), (3884, 0.017522964432922256), (3885, 0.004682378532085469), (3886, 0.060276237681524146), (3887, 0.0), (3888, 0.0050928425997788665), (3889, 0.005582169063270055), (3890, 0.009959324807622844), (3891, 0.0), (3892, 0.00669111908340948), (3893, 0.0), (3894, 0.0), (3895, 0.0), (3896, 0.00496322831694945), (3897, 0.0), (3898, 0.0), (3899, 0.0), (3900, 0.0), (3901, 0.015755154784491018), (3902, 0.0), (3903, 0.04494857931594061), (3904, 0.0), (3905, 0.005444563914733055), (3906, 0.0), (3907, 0.010115960232373015), (3908, 0.015258965614984316), (3909, 0.004802256879229606), (3910, 0.0), (3911, 0.0), (3912, 0.005258565811648609), (3913, 0.0), (3914, 0.009011076837317921), (3915, 0.0), (3916, 0.004385890388519394), (3917, 0.00937936827350043), (3918, 0.0), (3919, 0.005380636052525689), (3920, 0.0), (3921, 0.0059310759761769275), (3922, 0.04113112646287026), (3923, 0.013688478285435644), (3924, 0.0), (3925, 0.0), (3926, 0.0051554241371620955), (3927, 0.0), (3928, 0.0), (3929, 0.0), (3930, 0.0053287391740829086), (3931, 0.006021144568740545), (3932, 0.02598354530710115), (3933, 0.004588007107942019), (3934, 0.01093164622074475), (3935, 0.0), (3936, 0.04381990008312793), (3937, 0.00962291147833714), (3938, 0.014164634075766337), (3939, 0.0), (3940, 0.01077086596296123), (3941, 0.004823417100357871), (3942, 0.0343075290630005), (3943, 0.037232695445585856), (3944, 0.010530744211850006), (3945, 0.0), (3946, 0.0), (3947, 0.0), (3948, 0.0), (3949, 0.007075408069663514), (3950, 0.01144329052782262), (3951, 0.0), (3952, 0.0059026744186016855), (3953, 0.0), (3954, 0.0), (3955, 0.0), (3956, 0.0), (3957, 0.0), (3958, 0.025290849783809938), (3959, 0.0), (3960, 0.0), (3961, 0.03255162684482124), (3962, 0.005780779973142431), (3963, 0.009677385627063243), (3964, 0.005748508161085025), (3965, 0.014227770700996163), (3966, 0.0), (3967, 0.011379934785961375), (3968, 0.010239140995487029), (3969, 0.010814529560437623), (3970, 0.012494700744594007), (3971, 0.01468622953065248), (3972, 0.011167783964343578), (3973, 0.010960292284126979), (3974, 0.0), (3975, 0.03665892582460152), (3976, 0.03198021443810291), (3977, 0.010530722264681153), (3978, 0.0), (3979, 0.010352007769313611), (3980, 0.007822016899136686), (3981, 0.0), (3982, 0.00974792749066545), (3983, 0.0), (3984, 0.005413123069287362), (3985, 0.012488646391845246), (3986, 0.0), (3987, 0.0), (3988, 0.006478739651775185), (3989, 0.010524390478853752), (3990, 0.0), (3991, 0.00919514855986204), (3992, 0.005818224314465382), (3993, 0.0), (3994, 0.012695440179697752), (3995, 0.013544299536581138), (3996, 0.006137046372689104), (3997, 0.0), (3998, 0.004958797486989278), (3999, 0.0), (4000, 0.0), (4001, 0.005155818336062975), (4002, 0.0), (4003, 0.02232258854977074), (4004, 0.0), (4005, 0.0), (4006, 0.013056275938316125), (4007, 0.007318843188249095), (4008, 0.020972031929552812), (4009, 0.00900919412420361), (4010, 0.005939093086799978), (4011, 0.0), (4012, 0.009715634013659295), (4013, 0.0), (4014, 0.0), (4015, 0.0), (4016, 0.009723527763251971), (4017, 0.0), (4018, 0.008774088327821557), (4019, 0.0), (4020, 0.0), (4021, 0.0), (4022, 0.014275570812253474), (4023, 0.006078511938270292), (4024, 0.0), (4025, 0.005339889096162263), (4026, 0.011341938034446249), (4027, 0.005435104502116503), (4028, 0.01587840655346473), (4029, 0.0178467724637021), (4030, 0.0), (4031, 0.01741495917672038), (4032, 0.05027666622482054), (4033, 0.0), (4034, 0.010817252586296457), (4035, 0.004478598086467383), (4036, 0.014556223526412629), (4037, 0.004875995909365066), (4038, 0.0), (4039, 0.0), (4040, 0.023499462358948644), (4041, 0.009861968230178425), (4042, 0.0), (4043, 0.0), (4044, 0.01185347619857947), (4045, 0.0), (4046, 0.03233090199601326), (4047, 0.0), (4048, 0.0), (4049, 0.005223804549480662), (4050, 0.0), (4051, 0.005742413897499943), (4052, 0.005439924550222255), (4053, 0.0), (4054, 0.005457785479151431), (4055, 0.008794442436287254), (4056, 0.009697684848587964), (4057, 0.0), (4058, 0.006402217651978998), (4059, 0.0), (4060, 0.014963164290564128), (4061, 0.005622208730579924), (4062, 0.0), (4063, 0.012056335711606534), (4064, 0.005709936753445153), (4065, 0.0), (4066, 0.0045201848400820135), (4067, 0.0), (4068, 0.0), (4069, 0.03700356309935676), (4070, 0.009752166770766374), (4071, 0.00487011485131304), (4072, 0.0), (4073, 0.005016799183361175), (4074, 0.008774650252494682), (4075, 0.0), (4076, 0.010504155677379393), (4077, 0.010743553907787359), (4078, 0.028992213841772932), (4079, 0.0), (4080, 0.0), (4081, 0.015144154930325216), (4082, 0.0), (4083, 0.0), (4084, 0.006618520847325709), (4085, 0.0405034259290871), (4086, 0.01612076789948115), (4087, 0.0), (4088, 0.0), (4089, 0.029332899417180584), (4090, 0.014077268244559724), (4091, 0.010713510025979764), (4092, 0.0), (4093, 0.005265147971735789), (4094, 0.011032433310663618), (4095, 0.0), (4096, 0.0), (4097, 0.005636664885619786), (4098, 0.0), (4099, 0.01489359071363408), (4100, 0.0), (4101, 0.0321886991988438), (4102, 0.006535314353518163), (4103, 0.009803134719201337), (4104, 0.004562379164333348), (4105, 0.0057775657285776315), (4106, 0.011696008128721838), (4107, 0.0), (4108, 0.0518477833943531), (4109, 0.01647792173419528), (4110, 0.0), (4111, 0.005510127121039318), (4112, 0.014541380429452914), (4113, 0.005716988978279782), (4114, 0.013071075502101105), (4115, 0.006945037502147739), (4116, 0.016419689351564806), (4117, 0.005875586759140697), (4118, 0.016065149946023524), (4119, 0.0), (4120, 0.014561978797634099), (4121, 0.005854204156715591), (4122, 0.0), (4123, 0.0), (4124, 0.014250864573979784), (4125, 0.005345947254397377), (4126, 0.0), (4127, 0.006247818722920887), (4128, 0.009714766666926963), (4129, 0.0), (4130, 0.010657095215349853), (4131, 0.005508110338485977), (4132, 0.005540334240551718), (4133, 0.014244807736905295), (4134, 0.017928313926569628), (4135, 0.0052201604553885035), (4136, 0.0), (4137, 0.0), (4138, 0.047759059555794944), (4139, 0.0), (4140, 0.00562386606091449), (4141, 0.0), (4142, 0.012465886159009176), (4143, 0.06887355549284567), (4144, 0.02086166595519154), (4145, 0.0), (4146, 0.0), (4147, 0.006267326410499534), (4148, 0.01500186349693453), (4149, 0.023615191636221333), (4150, 0.014829481301202029), (4151, 0.0), (4152, 0.009302644787427697), (4153, 0.008885328011733456), (4154, 0.0), (4155, 0.0), (4156, 0.004511881841854392), (4157, 0.012802017325699709), (4158, 0.011217109813459475), (4159, 0.012243482198044952), (4160, 0.010932008194396353), (4161, 0.016202438800161166), (4162, 0.0), (4163, 0.04995454857125034), (4164, 0.0), (4165, 0.012047375662133984), (4166, 0.006645038784513775), (4167, 0.014014079858872652), (4168, 0.00997206761397815), (4169, 0.0), (4170, 0.0), (4171, 0.0), (4172, 0.0372433073187397), (4173, 0.005507055911040705), (4174, 0.004737537674456112), (4175, 0.0), (4176, 0.013848604622721004), (4177, 0.0), (4178, 0.0), (4179, 0.0), (4180, 0.01924469294770484), (4181, 0.010747582930262975), (4182, 0.0039050593800068626), (4183, 0.0), (4184, 0.005168157652766491), (4185, 0.0), (4186, 0.004711679244486325), (4187, 0.05055207321328088), (4188, 0.022668265138858355), (4189, 0.03081102185572033), (4190, 0.006138711094569921), (4191, 0.04441831304475934), (4192, 0.004984287261468731), (4193, 0.020747737804115395), (4194, 0.011942379123772282), (4195, 0.014888472698032057), (4196, 0.021233488561082196), (4197, 0.005247239107961321), (4198, 0.006796438216743723), (4199, 0.018481380500518986), (4200, 0.004255609424719398), (4201, 0.0), (4202, 0.0), (4203, 0.023423969768695388), (4204, 0.024051890248478137), (4205, 0.0), (4206, 0.004889201199071857), (4207, 0.005586028560656547), (4208, 0.0), (4209, 0.018455211881748684), (4210, 0.04368523257755844), (4211, 0.009571216569737648), (4212, 0.0), (4213, 0.004894384474080127), (4214, 0.020468918068758567), (4215, 0.01776686704391776), (4216, 0.0), (4217, 0.039035767091561376), (4218, 0.04212854167645498), (4219, 0.0), (4220, 0.0), (4221, 0.0), (4222, 0.006903070831570921), (4223, 0.007889600577397926), (4224, 0.009535692917074673), (4225, 0.0), (4226, 0.06701371283152466), (4227, 0.014421603810513191), (4228, 0.0), (4229, 0.0), (4230, 0.0), (4231, 0.0), (4232, 0.0), (4233, 0.010903294475654317), (4234, 0.0050212121397309704), (4235, 0.0), (4236, 0.009017343787581072), (4237, 0.004582404024587547), (4238, 0.011377879735921049), (4239, 0.025159741312755293), (4240, 0.045015111585694455), (4241, 0.0), (4242, 0.0), (4243, 0.0), (4244, 0.0), (4245, 0.0), (4246, 0.004873480917260285), (4247, 0.0), (4248, 0.0), (4249, 0.0), (4250, 0.0), (4251, 0.02678737071846528), (4252, 0.004952243030587841), (4253, 0.0), (4254, 0.004832936833331574), (4255, 0.0), (4256, 0.005462094497810447), (4257, 0.004848765840407077), (4258, 0.005608185489086016), (4259, 0.005717300088333086), (4260, 0.005440232068396079), (4261, 0.0), (4262, 0.0), (4263, 0.005669124454892462), (4264, 0.0), (4265, 0.0), (4266, 0.0), (4267, 0.0), (4268, 0.0), (4269, 0.010458582292192164), (4270, 0.018192343618199297), (4271, 0.016165084546609056), (4272, 0.014133105076635392), (4273, 0.03920339293310187), (4274, 0.0), (4275, 0.0), (4276, 0.0), (4277, 0.0), (4278, 0.012952579087648705), (4279, 0.0), (4280, 0.01784908958270894), (4281, 0.0), (4282, 0.035264848947871), (4283, 0.009938984147798924), (4284, 0.04266415918603971), (4285, 0.006040284747965028), (4286, 0.0), (4287, 0.0053176511373862236), (4288, 0.05375668183048557), (4289, 0.01037776334707634), (4290, 0.011790917909285645), (4291, 0.005139937662635936), (4292, 0.00918659968525406), (4293, 0.005743595356419041), (4294, 0.009986285613447913), (4295, 0.005876686573464653), (4296, 0.0), (4297, 0.04493629528761819), (4298, 0.0), (4299, 0.014702518084321962), (4300, 0.03019249273853588), (4301, 0.0), (4302, 0.07158051759179848), (4303, 0.014305581931427343), (4304, 0.0046196115322941645), (4305, 0.004781665189989945), (4306, 0.0), (4307, 0.0), (4308, 0.005644582960220482), (4309, 0.0), (4310, 0.0), (4311, 0.00418178430352643), (4312, 0.0), (4313, 0.0), (4314, 0.004963077112769273), (4315, 0.005481330469471546), (4316, 0.015114120348828489), (4317, 0.00583665322983763), (4318, 0.0), (4319, 0.00529043514520696), (4320, 0.0), (4321, 0.004900315784165229), (4322, 0.0), (4323, 0.01569187693937084), (4324, 0.005706042845371299), (4325, 0.004774158045211398), (4326, 0.0), (4327, 0.005016200002023342), (4328, 0.0), (4329, 0.0052850355084120846), (4330, 0.0), (4331, 0.015048295280811405), (4332, 0.005584164502628588), (4333, 0.0), (4334, 0.0), (4335, 0.005862761641124417), (4336, 0.037004372041814636), (4337, 0.014505544374285589), (4338, 0.031949426144374356), (4339, 0.0), (4340, 0.0), (4341, 0.017671675355470786), (4342, 0.0), (4343, 0.0), (4344, 0.0), (4345, 0.05062477472293112), (4346, 0.005971549798159444), (4347, 0.02144975678579333), (4348, 0.0), (4349, 0.0), (4350, 0.0), (4351, 0.015976059595637714), (4352, 0.012765207748155009), (4353, 0.0044699319918987705), (4354, 0.010199929159378798), (4355, 0.0), (4356, 0.004786898112361029), (4357, 0.005486659891030436), (4358, 0.004541234807566097), (4359, 0.0), (4360, 0.013133665573178264), (4361, 0.0), (4362, 0.0), (4363, 0.0), (4364, 0.009759632561893241), (4365, 0.0), (4366, 0.011746442098604292), (4367, 0.004987920610302711), (4368, 0.0), (4369, 0.0), (4370, 0.005497213414020453), (4371, 0.005519566970893927), (4372, 0.0), (4373, 0.0), (4374, 0.014296288357562633), (4375, 0.0), (4376, 0.0), (4377, 0.028863076737098994), (4378, 0.0), (4379, 0.0), (4380, 0.0), (4381, 0.0), (4382, 0.019540374632526038), (4383, 0.0), (4384, 0.0), (4385, 0.011370592483847489), (4386, 0.0), (4387, 0.0), (4388, 0.00529313422455751), (4389, 0.0318658177639462), (4390, 0.0), (4391, 0.0), (4392, 0.029615326130527208), (4393, 0.0), (4394, 0.005107586393928642), (4395, 0.005007379804371995), (4396, 0.0), (4397, 0.0), (4398, 0.0), (4399, 0.0), (4400, 0.0), (4401, 0.010893786215374084), (4402, 0.0), (4403, 0.0), (4404, 0.01860563077718559), (4405, 0.008861442992793584), (4406, 0.0), (4407, 0.0), (4408, 0.006179777967660015), (4409, 0.0), (4410, 0.0), (4411, 0.0), (4412, 0.015303351256435452), (4413, 0.005581002350373274), (4414, 0.009900889594405592), (4415, 0.0), (4416, 0.0), (4417, 0.07857621510063988), (4418, 0.012805724010400218), (4419, 0.010164774491638435), (4420, 0.00542742486348747), (4421, 0.005373022961108783), (4422, 0.005319055536094946), (4423, 0.019529709356427262), (4424, 0.0), (4425, 0.0), (4426, 0.015713340187570743), (4427, 0.0), (4428, 0.009258482390420727), (4429, 0.0), (4430, 0.0), (4431, 0.0), (4432, 0.0), (4433, 0.005370079004778469), (4434, 0.031872663819710656), (4435, 0.015132646661377874), (4436, 0.0), (4437, 0.013889802102949522), (4438, 0.0), (4439, 0.008961452010942415), (4440, 0.006582490230244309), (4441, 0.012409891480807522), (4442, 0.004992527387587481), (4443, 0.0), (4444, 0.0), (4445, 0.044279438299677384), (4446, 0.005646344296298502), (4447, 0.004669755336846491), (4448, 0.06111259392402592), (4449, 0.015328543309547053), (4450, 0.0), (4451, 0.006072928986164715), (4452, 0.005821832246518554), (4453, 0.005747004396120248), (4454, 0.03225867921708843), (4455, 0.011733607727658604), (4456, 0.02555161368676203), (4457, 0.014842614349302476), (4458, 0.0), (4459, 0.012568037339057396), (4460, 0.005834448003594935), (4461, 0.0), (4462, 0.0), (4463, 0.0057133014517248325), (4464, 0.0), (4465, 0.0), (4466, 0.010152969097241253), (4467, 0.010071656490923609), (4468, 0.0), (4469, 0.0), (4470, 0.0), (4471, 0.0), (4472, 0.0), (4473, 0.004482834495364541), (4474, 0.0), (4475, 0.0), (4476, 0.0), (4477, 0.05079967699210292), (4478, 0.010424399075971192), (4479, 0.0), (4480, 0.0072472321661170595), (4481, 0.0), (4482, 0.00967062051425157), (4483, 0.006140053798108871), (4484, 0.006862612603723931), (4485, 0.015245106823106681), (4486, 0.005335103341876935), (4487, 0.014838069591451997), (4488, 0.024383138027938234), (4489, 0.00545903689656539), (4490, 0.0), (4491, 0.010609212401017079), (4492, 0.0160033815515839), (4493, 0.010559543103669734), (4494, 0.0), (4495, 0.0), (4496, 0.00589145816650101), (4497, 0.0), (4498, 0.008436431867808201), (4499, 0.020547340667150343), (4500, 0.0), (4501, 0.009850906810524297), (4502, 0.026935617583190023), (4503, 0.0), (4504, 0.014535930911635655), (4505, 0.0), (4506, 0.006145228278486024), (4507, 0.057085650101336684), (4508, 0.0), (4509, 0.009651513550355128), (4510, 0.01598553210046204), (4511, 0.0), (4512, 0.01687531082707104), (4513, 0.010806695591959294), (4514, 0.0403013681614903), (4515, 0.0), (4516, 0.01118075238011871), (4517, 0.013142992940090945), (4518, 0.03414182548116053), (4519, 0.011951719702157013), (4520, 0.0), (4521, 0.0), (4522, 0.005609238507039047), (4523, 0.009327279395429555), (4524, 0.0), (4525, 0.01196308661651058), (4526, 0.01112110068698843), (4527, 0.015021282190403464), (4528, 0.016356036019057767), (4529, 0.0), (4530, 0.005033880253190259), (4531, 0.03122078820149474), (4532, 0.011435645033117206), (4533, 0.009978971883423168), (4534, 0.041389336286131256), (4535, 0.010913296707150529), (4536, 0.0), (4537, 0.023705615725163998), (4538, 0.015020696495971412), (4539, 0.015669600967948845), (4540, 0.0), (4541, 0.0), (4542, 0.03289522270533445), (4543, 0.0), (4544, 0.0), (4545, 0.01629813464927983), (4546, 0.0), (4547, 0.017374289914810995), (4548, 0.012246223155803287), (4549, 0.031199769341343817), (4550, 0.009452397945338328), (4551, 0.0), (4552, 0.01887636520052046), (4553, 0.0), (4554, 0.017902751315136852), (4555, 0.030456311189008236), (4556, 0.031815091389237965), (4557, 0.015802641665688247), (4558, 0.004509891234789489), (4559, 0.0), (4560, 0.005473789506373811), (4561, 0.0), (4562, 0.02510414787395735), (4563, 0.0), (4564, 0.014344246295429738), (4565, 0.011022716674585504), (4566, 0.04626729664259222), (4567, 0.0), (4568, 0.0), (4569, 0.023290739070347892), (4570, 0.017808378182028985), (4571, 0.03211089342746554), (4572, 0.034574806045279745), (4573, 0.0), (4574, 0.0), (4575, 0.0), (4576, 0.0), (4577, 0.004726012835374315), (4578, 0.0), (4579, 0.0), (4580, 0.0057436990912147256), (4581, 0.02504226809804852), (4582, 0.011652907657687879), (4583, 0.013199325528810521), (4584, 0.017706158095933094), (4585, 0.012224172844037132), (4586, 0.0), (4587, 0.0), (4588, 0.009442912883998155), (4589, 0.011412406386943966), (4590, 0.0), (4591, 0.0), (4592, 0.005131214605034633), (4593, 0.014526726076875376), (4594, 0.0), (4595, 0.014135996789560443), (4596, 0.0045365531621449845), (4597, 0.0), (4598, 0.0), (4599, 0.011808303719002), (4600, 0.004710370896855069), (4601, 0.0), (4602, 0.0), (4603, 0.0048012612926235125), (4604, 0.0), (4605, 0.0), (4606, 0.0), (4607, 0.01897035200960343), (4608, 0.0), (4609, 0.014999933562485331), (4610, 0.004319838258847742), (4611, 0.0), (4612, 0.0), (4613, 0.020643706517446524), (4614, 0.012478414723777378), (4615, 0.012725930374272701), (4616, 0.0), (4617, 0.0), (4618, 0.0182501489478693), (4619, 0.0), (4620, 0.0), (4621, 0.013651437995462062), (4622, 0.005463610929331239), (4623, 0.013016797785152412), (4624, 0.0), (4625, 0.0), (4626, 0.018445209145371032), (4627, 0.004416593383857099), (4628, 0.05661041704144729), (4629, 0.030765489978965), (4630, 0.014650331587708166), (4631, 0.006250499752207637), (4632, 0.0), (4633, 0.006049038091484901), (4634, 0.0), (4635, 0.0), (4636, 0.004340590594797246), (4637, 0.0), (4638, 0.0), (4639, 0.04452974383458317), (4640, 0.0), (4641, 0.01471258765693041), (4642, 0.0), (4643, 0.010029541663648903), (4644, 0.0), (4645, 0.01547819661336282), (4646, 0.016656564554215717), (4647, 0.00465436566306301), (4648, 0.0053231644625955634), (4649, 0.0), (4650, 0.0059317764765542905), (4651, 0.0), (4652, 0.003934241908611995), (4653, 0.0), (4654, 0.019811430794409016), (4655, 0.005448154826357917), (4656, 0.0), (4657, 0.0), (4658, 0.0), (4659, 0.0), (4660, 0.0), (4661, 0.0), (4662, 0.0), (4663, 0.009977142503023772), (4664, 0.0), (4665, 0.012956973392270785), (4666, 0.0), (4667, 0.0048134482402412675), (4668, 0.012872398271807686), (4669, 0.04708586638851399), (4670, 0.0), (4671, 0.0), (4672, 0.01342711822179273), (4673, 0.02856411156137989), (4674, 0.01049257520187239), (4675, 0.005127801412843774), (4676, 0.010583446529646944), (4677, 0.0), (4678, 0.0), (4679, 0.0), (4680, 0.0), (4681, 0.0), (4682, 0.0), (4683, 0.013107967305294193), (4684, 0.0), (4685, 0.0), (4686, 0.0), (4687, 0.0), (4688, 0.005110793439679313), (4689, 0.0), (4690, 0.004827010614890148), (4691, 0.0), (4692, 0.0), (4693, 0.0), (4694, 0.0), (4695, 0.07504923513339688), (4696, 0.01973087991955148), (4697, 0.012143453524583693), (4698, 0.05134344206042118), (4699, 0.014739843566792388), (4700, 0.006969347026178588), (4701, 0.015570104739134918), (4702, 0.005226664782017067), (4703, 0.010450340756825839), (4704, 0.038485856447380756), (4705, 0.0), (4706, 0.005718433794480319), (4707, 0.0), (4708, 0.012964187405738176), (4709, 0.0), (4710, 0.0), (4711, 0.006074945643498525), (4712, 0.02713468981604036), (4713, 0.0), (4714, 0.0), (4715, 0.0), (4716, 0.0135397092166852), (4717, 0.0060776727668033015), (4718, 0.0), (4719, 0.009968894146570803), (4720, 0.02210363114004498), (4721, 0.0064061157442017545), (4722, 0.0), (4723, 0.0), (4724, 0.0), (4725, 0.006283299761255325), (4726, 0.00795229448196464), (4727, 0.0), (4728, 0.0), (4729, 0.0), (4730, 0.0), (4731, 0.0), (4732, 0.0), (4733, 0.0), (4734, 0.00556248525798694), (4735, 0.0), (4736, 0.0), (4737, 0.0058361341725890565), (4738, 0.005144817524664803), (4739, 0.0), (4740, 0.0), (4741, 0.0), (4742, 0.010824650469086624), (4743, 0.0), (4744, 0.004172561651692156), (4745, 0.007628554683487413), (4746, 0.020655369019283294), (4747, 0.0), (4748, 0.0), (4749, 0.0), (4750, 0.015081496488579142), (4751, 0.025384456593149175), (4752, 0.0), (4753, 0.0), (4754, 0.019201796970967713), (4755, 0.013143228139866238), (4756, 0.005342552170750686), (4757, 0.0), (4758, 0.0), (4759, 0.0)]\n"
          ]
        }
      ]
    },
    {
      "cell_type": "code",
      "source": [
        "len(Recommendation_score)"
      ],
      "metadata": {
        "colab": {
          "base_uri": "https://localhost:8080/"
        },
        "id": "QaotV7RnztGL",
        "outputId": "5519963c-6de6-4d5c-ee10-7ffa0119c494"
      },
      "execution_count": 79,
      "outputs": [
        {
          "output_type": "execute_result",
          "data": {
            "text/plain": [
              "4760"
            ]
          },
          "metadata": {},
          "execution_count": 79
        }
      ]
    },
    {
      "cell_type": "markdown",
      "source": [
        "**Get All Movies Sort Based on Recommendation Score wrt Favourite Movie**"
      ],
      "metadata": {
        "id": "6d5rqr3w0eDw"
      }
    },
    {
      "cell_type": "code",
      "source": [
        "#sorting the movie based on their similarity score\n",
        "Sorted_Similar_Movies = sorted(Recommendation_score, key = lambda x:x[1], reverse = True)\n",
        "print(Sorted_Similar_Movies)"
      ],
      "metadata": {
        "colab": {
          "base_uri": "https://localhost:8080/"
        },
        "id": "onL1GUPs2kNp",
        "outputId": "740dc7b7-beb1-4994-d28f-47fc44ed8dbe"
      },
      "execution_count": 82,
      "outputs": [
        {
          "output_type": "stream",
          "name": "stdout",
          "text": [
            "[(3439, 0.9999999999999998), (3777, 0.1813199404361903), (1514, 0.15390704355002538), (2023, 0.1474237752428417), (2858, 0.10226814722081459), (1706, 0.09827707921593413), (2075, 0.09088724047010892), (1744, 0.08388459843962522), (1690, 0.08386034347708772), (1131, 0.08206540628066701), (3578, 0.07949644382071931), (3475, 0.07864231338379962), (4417, 0.07857621510063988), (823, 0.07815199815634619), (1643, 0.07560517146872621), (4695, 0.07504923513339688), (2846, 0.07423177006460076), (1426, 0.07418154689198278), (3113, 0.07359106403049126), (1176, 0.07314195759607568), (2512, 0.07252135181503074), (4302, 0.07158051759179848), (1912, 0.07031273547617882), (385, 0.06953160665784137), (1615, 0.06913420027531618), (4143, 0.06887355549284567), (1942, 0.0681701005168748), (4226, 0.06701371283152466), (1634, 0.06665115587253667), (3589, 0.06653562892108761), (1437, 0.06615218682743068), (531, 0.06585131473407219), (956, 0.0651347968216465), (2218, 0.0649025187321721), (1461, 0.0648151295967035), (3026, 0.06465299869180262), (3063, 0.06380636291866962), (3044, 0.06378743317352129), (2683, 0.06333795259902555), (1391, 0.06264458379792007), (1661, 0.06133156401133968), (3740, 0.06122756075398345), (4448, 0.06111259392402592), (1511, 0.06097359233204064), (2581, 0.06076826343735765), (2095, 0.06044570382243451), (3886, 0.060276237681524146), (793, 0.06021919151076502), (1229, 0.06020021045923002), (990, 0.05947338168765897), (3179, 0.059162572892832936), (2017, 0.05812436066564748), (1636, 0.05785416962984392), (2570, 0.057715178643271844), (3742, 0.05765647670931996), (161, 0.057614601542795574), (3866, 0.05728840600109722), (439, 0.05727741062431959), (4507, 0.057085650101336684), (1169, 0.05691394689909363), (723, 0.05672252545749262), (4628, 0.05661041704144729), (1044, 0.0563291794110066), (462, 0.05616354381038428), (2286, 0.056089569909905844), (2057, 0.05587590830492288), (987, 0.05535716955501592), (1375, 0.055266470058089684), (742, 0.055030299229116245), (665, 0.05496925527798278), (2678, 0.05426318779123287), (1254, 0.0541523966051099), (141, 0.05386163969078889), (2503, 0.05384469549461403), (4288, 0.05375668183048557), (2356, 0.05372637748685187), (899, 0.05315490794133571), (321, 0.05206372990538999), (3115, 0.0518690354723672), (4108, 0.0518477833943531), (337, 0.0516924870496059), (3384, 0.051455247886220176), (4698, 0.05134344206042118), (3084, 0.051311849694773454), (1759, 0.051196531982695026), (1792, 0.051069968077784945), (2744, 0.05082176197203489), (937, 0.050801402824446874), (4477, 0.05079967699210292), (4345, 0.05062477472293112), (4187, 0.05055207321328088), (1570, 0.050543994107249024), (721, 0.050288597365175026), (4032, 0.05027666622482054), (599, 0.05015326925952929), (1184, 0.05007099010117071), (2871, 0.05005685960831379), (4163, 0.04995454857125034), (3502, 0.04991099460238608), (1656, 0.049823463778016004), (1315, 0.049593363917124066), (2074, 0.0495710327423983), (935, 0.04951304415843813), (572, 0.04926937394191911), (1956, 0.049187914722842174), (2176, 0.049182371622157176), (207, 0.04911386971189001), (576, 0.04901686329407331), (1444, 0.048795363898274574), (3196, 0.048758840685360544), (2785, 0.04872393042833972), (3818, 0.04862993699863633), (308, 0.048623224849069946), (3239, 0.048496590059030495), (1074, 0.04838249199597316), (3279, 0.0482396400595131), (1658, 0.04811316719947421), (3391, 0.04802993555069652), (802, 0.04802381290501858), (804, 0.04800305972623721), (323, 0.04798157807581718), (1580, 0.04798098519661848), (2383, 0.047908363792975646), (365, 0.04782781024153851), (4138, 0.047759059555794944), (3726, 0.047658975938917575), (1258, 0.04747249555233653), (4669, 0.04708586638851399), (1997, 0.04681274603540794), (3009, 0.04665455117051187), (2284, 0.04663297938410856), (4566, 0.04626729664259222), (654, 0.04625862278198797), (2757, 0.04610334820486461), (3315, 0.04607738650212605), (3092, 0.045973832150251574), (2927, 0.04595447712026307), (939, 0.04586787594090627), (3281, 0.04575545586800665), (1961, 0.04572906230680743), (2382, 0.04571881590677292), (3862, 0.045412632714485195), (2419, 0.04526748801541317), (1031, 0.04524617013398587), (2491, 0.04521146907362258), (3543, 0.04520547235986695), (4240, 0.045015111585694455), (3903, 0.04494857931594061), (4297, 0.04493629528761819), (454, 0.04476586865187319), (2780, 0.044613357234123546), (3050, 0.04455363977147371), (4639, 0.04452974383458317), (4191, 0.04441831304475934), (3377, 0.044375208795008746), (4445, 0.044279438299677384), (2281, 0.04420360068981742), (2440, 0.04413383598663344), (83, 0.04406287843047917), (1569, 0.044028850554741455), (3381, 0.04402052848586637), (528, 0.04385396930381606), (3936, 0.04381990008312793), (748, 0.04375602756250316), (2533, 0.04373328260252077), (4210, 0.04368523257755844), (41, 0.04366548906053817), (401, 0.04365118161879767), (689, 0.04364925159544405), (1201, 0.04356364565685651), (712, 0.04332398097582371), (1554, 0.04320564726469313), (530, 0.04320432634637515), (2069, 0.043122640894405116), (1159, 0.04303209721303483), (1831, 0.042993057532532), (2134, 0.042851547686826516), (1252, 0.042689187309011625), (4284, 0.04266415918603971), (1150, 0.042326048984839874), (2434, 0.04216313444045071), (870, 0.04213144212293019), (4218, 0.04212854167645498), (2616, 0.04211095077216268), (2656, 0.04206805503479972), (2239, 0.04202940760954141), (2423, 0.041989873639903204), (208, 0.04166187931829547), (2752, 0.04158862493883607), (3664, 0.04151052341509932), (3695, 0.041478945847765486), (3671, 0.04147439045799114), (4534, 0.041389336286131256), (265, 0.04133261814265278), (1915, 0.04132837123891033), (154, 0.04119773309595258), (716, 0.041150707434715245), (3922, 0.04113112646287026), (2093, 0.0410535630699831), (2488, 0.040719178660565125), (384, 0.04065340166310851), (1896, 0.04064158408256964), (276, 0.04062641922354593), (1181, 0.040566044400233106), (3131, 0.040521405693633675), (4085, 0.0405034259290871), (2004, 0.04049641309149492), (4514, 0.0403013681614903), (178, 0.040300870467463765), (1045, 0.04023892683031446), (2083, 0.04009220805281797), (2775, 0.04003683353628808), (2183, 0.03993871990659725), (600, 0.03990303851514273), (2726, 0.03971915559279294), (2665, 0.039717056557097466), (199, 0.03964776167775464), (3280, 0.03961998717930691), (2067, 0.039478029576369894), (1562, 0.03941737016952693), (1633, 0.039401334963130176), (1470, 0.03925216370583735), (1667, 0.03921964304778467), (563, 0.03920883889142934), (4273, 0.03920339293310187), (1154, 0.03912044954311856), (4217, 0.039035767091561376), (610, 0.03901661038573915), (2430, 0.03886867645948935), (2547, 0.03883598048122), (291, 0.03878985793426599), (722, 0.03871558621710759), (2436, 0.038714720733785915), (4704, 0.038485856447380756), (1379, 0.03847458693292983), (2884, 0.038462591770596126), (2592, 0.03834746607487941), (2187, 0.0382396157780737), (1886, 0.038199595035659915), (2510, 0.038193917617489886), (2870, 0.03819001756117543), (1479, 0.03799148575641953), (348, 0.037923871655651205), (1270, 0.03780322814357405), (1118, 0.03770491224690138), (147, 0.03761917090172974), (839, 0.037591105878374664), (1489, 0.037439096827683975), (1273, 0.037347412411180385), (2655, 0.03733366932507503), (2799, 0.03729177414983415), (4172, 0.0372433073187397), (3943, 0.037232695445585856), (4336, 0.037004372041814636), (4069, 0.03700356309935676), (2493, 0.036720856324389275), (3975, 0.03665892582460152), (1365, 0.03638465011806947), (1160, 0.036362733537506076), (2604, 0.03625978876978846), (889, 0.03625592307005256), (452, 0.03619771741594634), (387, 0.03613104777462713), (3845, 0.03613003616612003), (2957, 0.03608009840128496), (1727, 0.03601495559603205), (3449, 0.0360040967778079), (3319, 0.03596467934224665), (2219, 0.03588818627528777), (2602, 0.035751567528990454), (1637, 0.035739737327607365), (372, 0.03569532647465237), (2937, 0.03562781060104255), (1614, 0.03559367460574134), (2801, 0.035372907983304086), (4282, 0.035264848947871), (153, 0.03521051422322631), (3060, 0.03521021077869932), (3284, 0.03508701723145786), (2549, 0.03500476340503379), (1730, 0.034926968333856515), (934, 0.034915133247664015), (302, 0.03481967846386683), (3224, 0.0346889284988931), (3688, 0.03465419815994536), (4572, 0.034574806045279745), (692, 0.034461135693995115), (800, 0.0344344728357515), (1503, 0.0343826222706207), (377, 0.03432971102268101), (3942, 0.0343075290630005), (2718, 0.03424545958471429), (2269, 0.03422851031444762), (815, 0.034226131895898876), (2101, 0.03422477773702594), (4518, 0.03414182548116053), (2935, 0.03402441148347934), (3779, 0.03401814587113262), (1361, 0.03384502721933172), (1999, 0.03384093437965531), (1168, 0.03382927356207169), (3639, 0.03375240329578571), (1473, 0.033748032908060735), (184, 0.03373534552051679), (3386, 0.03371258239279465), (1232, 0.03357577341694422), (3867, 0.033502736550108825), (2631, 0.03349300342649701), (1505, 0.033415197158888334), (943, 0.03339862389561312), (1205, 0.03327723790839232), (1117, 0.03327600489348547), (2520, 0.03321043187335411), (2273, 0.03319555689872282), (2294, 0.03309620098336339), (2406, 0.03309096744466159), (3385, 0.03305366195185057), (1968, 0.03302881984084988), (1929, 0.033022020909123345), (4542, 0.03289522270533445), (2840, 0.03289261757806859), (1215, 0.03279214100683243), (1785, 0.032776868203410046), (2575, 0.03274397148561549), (1330, 0.032707386261275624), (688, 0.032670052752654694), (3547, 0.03266480745026695), (3797, 0.03263539444709985), (3580, 0.03259789897194633), (3961, 0.03255162684482124), (403, 0.03247137791614057), (3116, 0.032407856434291345), (4046, 0.03233090199601326), (4454, 0.03225867921708843), (4101, 0.0321886991988438), (1924, 0.032184431230883145), (855, 0.03211334726932083), (4571, 0.03211089342746554), (1610, 0.03207064739126866), (2056, 0.0320620910215233), (1528, 0.03203397037782137), (3976, 0.03198021443810291), (772, 0.03196401533100506), (4338, 0.031949426144374356), (977, 0.031906607992443804), (2608, 0.03190093301360282), (4434, 0.031872663819710656), (4389, 0.0318658177639462), (4556, 0.031815091389237965), (1401, 0.03163451470632855), (2485, 0.03152818691011066), (1241, 0.031493965549150876), (2704, 0.03143566510695059), (3157, 0.031356482973439515), (311, 0.031229360571459877), (4531, 0.03122078820149474), (4549, 0.031199769341343817), (193, 0.031181325924237727), (702, 0.031172796944948268), (62, 0.031102997446771665), (2699, 0.031084253144687067), (659, 0.03103613676187485), (3638, 0.030933894000373573), (2088, 0.03089867181717894), (2353, 0.030844610581640994), (270, 0.030843588289324684), (4189, 0.03081102185572033), (3485, 0.0307805876069006), (4629, 0.030765489978965), (2085, 0.030726702590010445), (2867, 0.03060336377885942), (1056, 0.030600092834451052), (2474, 0.03059044864832479), (2203, 0.03048803439151675), (4555, 0.030456311189008236), (606, 0.030453845773289447), (2007, 0.03041235518934012), (945, 0.03033466200411547), (527, 0.030328850202737737), (430, 0.030271459946708386), (4300, 0.03019249273853588), (2542, 0.030157397043800768), (2153, 0.030122068499841337), (1719, 0.03007000032588559), (2949, 0.030050676484446433), (3323, 0.02995286639749124), (1980, 0.0298845559731261), (946, 0.02981233584352986), (2019, 0.029752839684824145), (3406, 0.029731019834051388), (1926, 0.029711749601553587), (2690, 0.029698677909700832), (1876, 0.02966114358959348), (4392, 0.029615326130527208), (1191, 0.029608034107392496), (173, 0.029525287917321702), (607, 0.029520474045098163), (1835, 0.029509687038615107), (1271, 0.029508536334477274), (764, 0.029492342873675303), (3069, 0.029415243611017442), (906, 0.029368510402768805), (4089, 0.029332899417180584), (3250, 0.02933201494697685), (2684, 0.02926447237067175), (894, 0.029214680462037554), (790, 0.029194815821923917), (2805, 0.029135753343512774), (4078, 0.028992213841772932), (4377, 0.028863076737098994), (1034, 0.02884611590796514), (3285, 0.02880065385647154), (357, 0.028752002447073204), (1398, 0.028721831509393565), (145, 0.028718942913551593), (1250, 0.028665560164195657), (737, 0.028597858593775696), (4673, 0.02856411156137989), (3028, 0.028499250923248783), (1738, 0.02844022590282471), (1427, 0.02839483066762736), (53, 0.02838821266367727), (1230, 0.028307226172756488), (3564, 0.028280897466965535), (552, 0.028240565741820343), (3040, 0.028220774790604804), (707, 0.028024453213241988), (619, 0.027994418838717013), (2662, 0.02794516850115538), (419, 0.027943906228129912), (834, 0.02789578360393765), (878, 0.027855312271414825), (1295, 0.027849072764996895), (2956, 0.02777075336388288), (3499, 0.027675427973915735), (1622, 0.027646667524965546), (1082, 0.027622020133705773), (2830, 0.027613315637560386), (98, 0.027585414260447118), (2102, 0.027540838612183965), (1975, 0.027520493384737377), (2584, 0.027472819521617474), (2279, 0.02744889666078064), (1982, 0.027440216187934515), (410, 0.02743737358202678), (2843, 0.027370631303428282), (3437, 0.027352515054655864), (329, 0.02732863833246616), (1966, 0.02732853925064889), (4712, 0.02713468981604036), (604, 0.02712327232180363), (2347, 0.027110820574539757), (313, 0.027077697371981534), (1996, 0.027023785115918048), (3801, 0.026986854795612025), (3297, 0.026941638637984894), (4502, 0.026935617583190023), (3556, 0.02693264919727931), (1993, 0.02685285063130264), (4251, 0.02678737071846528), (2751, 0.026715034510801688), (2859, 0.026708687670415527), (497, 0.026659591691189123), (340, 0.026658025061292938), (2679, 0.02665787937532172), (203, 0.026655838276941575), (835, 0.026591935623912683), (3318, 0.026579905360205148), (3021, 0.026543522667255997), (2055, 0.02651104773348741), (2522, 0.026443061566764327), (1930, 0.026412720519433195), (833, 0.026321283013841304), (2337, 0.02626824079114492), (1436, 0.026251936264015903), (301, 0.026245522118307416), (1185, 0.026139748286673294), (3265, 0.026129563027093558), (1448, 0.026030757182158092), (3932, 0.02598354530710115), (1007, 0.025948105217113267), (1081, 0.02587549681409989), (1521, 0.025873977003636663), (354, 0.025737809896068775), (1857, 0.025721944152500908), (1195, 0.02571860337161825), (3630, 0.025716155577128474), (1833, 0.025652948169090174), (4456, 0.02555161368676203), (148, 0.025522219735994778), (351, 0.02542015137266849), (4751, 0.025384456593149175), (1697, 0.025370892373101236), (1813, 0.025366229291556422), (3027, 0.025350490640848253), (3958, 0.025290849783809938), (82, 0.025284045861870982), (1817, 0.02523981862952222), (4239, 0.025159741312755293), (1092, 0.02510644603999291), (4562, 0.02510414787395735), (2130, 0.025080279078138333), (4581, 0.02504226809804852), (3577, 0.02497368218173567), (1508, 0.024970016026006576), (2826, 0.024943652510482056), (1566, 0.024831090165948068), (299, 0.024807164817860633), (2472, 0.02472611013569159), (3160, 0.024704563756111762), (1925, 0.02455184468388981), (376, 0.02443104533377021), (4488, 0.024383138027938234), (2727, 0.024305459123910723), (2686, 0.02430353428348654), (90, 0.024262112583069245), (1296, 0.02423928758854373), (1838, 0.02423749833530889), (239, 0.024199114322937143), (2103, 0.024159302032124713), (251, 0.024145930955904085), (1904, 0.02412718894540891), (2351, 0.02412059204156517), (4204, 0.024051890248478137), (1408, 0.024005312975761767), (2009, 0.02393403914325982), (440, 0.023892950998907446), (3610, 0.023867123024283864), (2541, 0.023866752533986922), (1202, 0.023856063557803404), (431, 0.023831731569084504), (955, 0.02382664826850788), (511, 0.02379570901853981), (4537, 0.023705615725163998), (2720, 0.023684189903450087), (968, 0.02366804069260951), (4149, 0.023615191636221333), (4040, 0.023499462358948644), (2320, 0.023492200295741852), (1700, 0.02349022340458536), (616, 0.023476631423995826), (4203, 0.023423969768695388), (3190, 0.023416145550514578), (3408, 0.023368968036602586), (1095, 0.023349815993292226), (668, 0.02333203531664075), (1153, 0.023328245317599958), (2403, 0.023290790308422387), (4569, 0.023290739070347892), (3068, 0.023217136463855936), (331, 0.0231992963410158), (760, 0.02318216022329225), (1788, 0.023177495644631438), (3858, 0.023172993385949744), (3759, 0.023136149032500695), (2079, 0.023068588676965374), (3772, 0.022996584679265585), (1515, 0.022962999063356727), (1354, 0.02288806735546474), (379, 0.022849269369807017), (3844, 0.02282071516187723), (382, 0.022820483472992016), (4188, 0.022668265138858355), (2564, 0.022624297976775582), (3221, 0.02260175119414989), (2749, 0.02258061641148288), (1272, 0.022478938609474565), (1836, 0.022437039459367293), (687, 0.022419989134845157), (428, 0.02240038056072751), (1387, 0.022398094812753983), (3572, 0.02237299923161429), (1565, 0.02233318274542609), (4003, 0.02232258854977074), (3529, 0.02220545451899629), (1467, 0.022162381899585845), (2811, 0.02212957978968115), (4720, 0.02210363114004498), (3444, 0.02209522409198872), (681, 0.022077783316365215), (1806, 0.022061649853481025), (1011, 0.02202309337167677), (2458, 0.022022048239861806), (3181, 0.02202054758048512), (1287, 0.02198062716921157), (2740, 0.021956579786003252), (1207, 0.021795572791430656), (2494, 0.02178699498821344), (3105, 0.021785307993736375), (853, 0.021781632308341015), (3758, 0.021780773373812207), (1103, 0.021775694681224943), (3817, 0.02169278814576202), (2588, 0.021645165785343187), (2786, 0.021640455504129182), (101, 0.021621927821561374), (2817, 0.0215478757984139), (1772, 0.021530235418500424), (3539, 0.021529207362233894), (4347, 0.02144975678579333), (2139, 0.02141206796514166), (2729, 0.021384862886271415), (776, 0.021319309157725383), (3422, 0.021314817203548254), (1649, 0.021262116159307235), (4196, 0.021233488561082196), (2754, 0.021186007279798386), (1135, 0.02117101756711709), (2217, 0.021155275602443777), (3114, 0.02109084156926065), (1352, 0.021075547731518433), (1600, 0.021042364571026907), (3790, 0.02100352971024018), (1458, 0.02099951707050253), (2989, 0.020985910756106122), (4008, 0.020972031929552812), (925, 0.020939740958461472), (1798, 0.0209347527155489), (961, 0.02090788273309155), (2316, 0.020887645990921678), (4144, 0.02086166595519154), (4193, 0.020747737804115395), (2982, 0.02072492950138611), (2357, 0.020674260228120044), (4746, 0.020655369019283294), (4613, 0.020643706517446524), (3283, 0.02058329199024824), (4499, 0.020547340667150343), (1560, 0.02052171716883463), (4214, 0.020468918068758567), (1599, 0.020460117798024025), (3462, 0.02045887286097466), (3494, 0.020337654001163163), (947, 0.020315967496626872), (2259, 0.02027244578914853), (2813, 0.020251045192101483), (2709, 0.020216736875844202), (1517, 0.020119105814222105), (1196, 0.020076042339044434), (188, 0.020076034920717897), (1867, 0.01995721170637518), (3394, 0.019896375896428543), (1266, 0.019895008996888452), (2421, 0.01986894186717621), (4654, 0.019811430794409016), (2297, 0.019807670324066835), (2646, 0.01980464208065293), (1130, 0.019801625499290473), (1589, 0.01979495559863994), (2979, 0.019785292819597025), (1939, 0.019770720855664118), (4696, 0.01973087991955148), (3292, 0.019660637018990342), (503, 0.019657595810595344), (2715, 0.019612108054989745), (2521, 0.019607779147970218), (1907, 0.01960245357970109), (1261, 0.019565325159984433), (840, 0.019564611896843172), (3584, 0.01955806845203753), (4382, 0.019540374632526038), (2198, 0.019537897950698768), (4423, 0.019529709356427262), (1745, 0.019527301759718417), (1374, 0.019514840339927755), (3149, 0.0194918972144472), (2465, 0.019476070377382033), (1592, 0.0194403605587761), (65, 0.019338083880351364), (3868, 0.019335577319725177), (247, 0.01928136144916845), (4180, 0.01924469294770484), (415, 0.01923518353550361), (4754, 0.019201796970967713), (3177, 0.01919611307373171), (2271, 0.019124312818646166), (1029, 0.019122876836042794), (150, 0.01908924104346928), (2574, 0.019009151837268784), (4607, 0.01897035200960343), (2215, 0.01896778411887877), (3574, 0.018930205688417044), (2170, 0.018897829981214195), (2194, 0.018887683302077227), (4552, 0.01887636520052046), (1469, 0.018852927637940057), (19, 0.018814803418693307), (1642, 0.018702738457316875), (4404, 0.01860563077718559), (2445, 0.01859929755209231), (3389, 0.01858540897103102), (713, 0.018565783942061362), (3025, 0.018550972598344397), (1331, 0.018522170191560997), (14, 0.018491423675792103), (2685, 0.018481826171787386), (4199, 0.018481380500518986), (1038, 0.018455872817297395), (4209, 0.018455211881748684), (4626, 0.018445209145371032), (3332, 0.01842920618966013), (3874, 0.018416899073736726), (630, 0.01840074737141472), (2660, 0.018364857190073414), (661, 0.01829345902693122), (4618, 0.0182501489478693), (1206, 0.018229570548055615), (842, 0.018215948857614978), (4270, 0.018192343618199297), (2993, 0.018165705612268743), (283, 0.018156868669582167), (1420, 0.01813699585031856), (885, 0.018125586114858747), (3342, 0.018108059853931647), (1429, 0.018105727881797037), (777, 0.01810139444923147), (1650, 0.01808267808181657), (751, 0.017977022119584667), (3675, 0.017953118613545177), (4134, 0.017928313926569628), (2366, 0.017921080927627817), (1394, 0.01790380949882854), (4554, 0.017902751315136852), (368, 0.017882086852211213), (2360, 0.017859284805676195), (4280, 0.01784908958270894), (4029, 0.0178467724637021), (36, 0.017820518158770816), (4570, 0.017808378182028985), (1529, 0.017804258071412237), (605, 0.01778133880342368), (4215, 0.01776686704391776), (2613, 0.017742877379940375), (1053, 0.017714424258681208), (4584, 0.017706158095933094), (130, 0.01770352203723916), (4341, 0.017671675355470786), (461, 0.017641882141972345), (339, 0.0176231322353466), (1943, 0.017589108667105842), (2285, 0.01754718285271834), (3884, 0.017522964432922256), (1492, 0.017487766619821134), (860, 0.017450028478871924), (2829, 0.017447711784804133), (4031, 0.01741495917672038), (1934, 0.017412214929512358), (3824, 0.017381422934547155), (4547, 0.017374289914810995), (1143, 0.017350259592084194), (3172, 0.017346718215467523), (2644, 0.017328224134139404), (3355, 0.017326945223754487), (3360, 0.017321985457752695), (380, 0.017301911080907423), (1532, 0.017286479782781684), (1211, 0.01725603025275671), (3651, 0.017228952903182833), (1758, 0.017226840973659632), (3859, 0.017225157874919052), (3702, 0.01716129803580966), (1309, 0.01715528358175332), (1321, 0.01714548606845602), (2204, 0.01713040838112602), (756, 0.017123880759031776), (1824, 0.01711815873289437), (1914, 0.017115239343473355), (3320, 0.017104260420165582), (1887, 0.017067461361523345), (3674, 0.01705805013020536), (1992, 0.017013452993662453), (1899, 0.016977232008565737), (3110, 0.016942513361712593), (1981, 0.016875873168724763), (4512, 0.01687531082707104), (1862, 0.016867477227406804), (3414, 0.016858963027267714), (2255, 0.016854719052415777), (770, 0.016820478266562935), (2497, 0.016819299157440088), (458, 0.01680492319646598), (729, 0.01679448557472052), (3629, 0.01674750512347625), (2372, 0.016747105218168978), (2854, 0.016726463666148626), (2505, 0.016726054328026166), (2672, 0.016697750498667528), (3244, 0.01668240968772378), (2164, 0.016674725342055347), (1794, 0.016663757625157996), (4646, 0.016656564554215717), (2479, 0.016635648065159055), (338, 0.016614918740205785), (2381, 0.016609739116828316), (2996, 0.016574339689656242), (3062, 0.016516307815847352), (3816, 0.016493313227494765), (3735, 0.016485207750560893), (4109, 0.01647792173419528), (362, 0.016448139949656895), (673, 0.016435269579800748), (4116, 0.016419689351564806), (898, 0.01640530758564218), (78, 0.016392035329777305), (4528, 0.016356036019057767), (1844, 0.016355820840931987), (4545, 0.01629813464927983), (3628, 0.01629095234770286), (704, 0.01628491197211589), (363, 0.01627888870272277), (794, 0.016276177400685276), (2287, 0.01626927066627209), (2925, 0.01622488328905211), (4161, 0.016202438800161166), (3112, 0.016195037589321906), (4271, 0.016165084546609056), (1140, 0.01612596311852548), (1575, 0.016125815812230108), (4086, 0.01612076789948115), (992, 0.016112357528201136), (1640, 0.016090303582029727), (1071, 0.01607218895247176), (4118, 0.016065149946023524), (10, 0.01604994177430572), (4492, 0.0160033815515839), (622, 0.01600337646259307), (2044, 0.015997659379307926), (2637, 0.015994648724012503), (4510, 0.01598553210046204), (3411, 0.015977522091151407), (206, 0.01597623380270789), (4351, 0.015976059595637714), (1731, 0.015971872687982624), (872, 0.015948658034124187), (2940, 0.015923073184560304), (1918, 0.015908409689819505), (483, 0.0159016985498526), (1333, 0.015886589615653035), (2059, 0.015882576519594335), (2966, 0.015881223995290565), (3461, 0.0158797905786501), (4028, 0.01587840655346473), (3305, 0.015870682264090795), (1572, 0.01585162910508571), (523, 0.015831914400752746), (830, 0.015831815072409553), (361, 0.015813968609270278), (4557, 0.015802641665688247), (1099, 0.01579696008055816), (3571, 0.015789797526982265), (2208, 0.015789565291619914), (418, 0.01575790803407905), (3901, 0.015755154784491018), (2755, 0.01575283154089348), (1013, 0.015741238978614465), (2837, 0.015738438285985083), (4426, 0.015713340187570743), (2345, 0.015700607477665808), (4323, 0.01569187693937084), (1389, 0.015687548485015877), (4539, 0.015669600967948845), (2904, 0.015664870987891006), (1955, 0.015648362665691626), (2319, 0.01564581394158164), (3536, 0.015626961237126605), (2249, 0.0155795499156397), (3870, 0.015574488648944224), (4701, 0.015570104739134918), (1965, 0.015560747093339995), (477, 0.01555524070191953), (2605, 0.015551414555179666), (837, 0.015533983302774826), (1343, 0.01552998354333594), (586, 0.015518359811738972), (4645, 0.01547819661336282), (743, 0.015476345436483772), (176, 0.015475592090865986), (1911, 0.015470647663590215), (3535, 0.015469464548737408), (2230, 0.01546721680629785), (1165, 0.015431622133154441), (3287, 0.015400858542231438), (970, 0.015386367636612015), (3699, 0.015383028957909462), (1244, 0.01536652109534805), (1704, 0.015352412206856686), (59, 0.015348806052721483), (850, 0.015332432233816421), (4449, 0.015328543309547053), (4412, 0.015303351256435452), (2313, 0.015290790612873743), (1940, 0.015268630926844948), (950, 0.015263210767034073), (3908, 0.015258965614984316), (4485, 0.015245106823106681), (1108, 0.015200514305376316), (2444, 0.015196033060470033), (3670, 0.015189552769319702), (2373, 0.015187429935344013), (1085, 0.015187357156001734), (964, 0.015181628770652152), (3440, 0.015178724877583335), (1587, 0.015164407895151858), (219, 0.01515756566198364), (1495, 0.015156452185008754), (4081, 0.015144154930325216), (2551, 0.015136910010419927), (4435, 0.015132646661377874), (1889, 0.015124660046205059), (4316, 0.015114120348828489), (5, 0.015105607964784707), (4750, 0.015081496488579142), (2831, 0.015078099793380687), (1611, 0.015055339705773533), (4331, 0.015048295280811405), (135, 0.01504784328656276), (3416, 0.015046701707530098), (2554, 0.0150287404100167), (1577, 0.015027575682867732), (4527, 0.015021282190403464), (2195, 0.015021084799182714), (4538, 0.015020696495971412), (182, 0.015016318512370525), (4148, 0.01500186349693453), (4609, 0.014999933562485331), (4060, 0.014963164290564128), (1388, 0.014962393527370495), (2439, 0.01495158253671562), (2952, 0.01495113910898796), (423, 0.014948193958909353), (3441, 0.014937095858520471), (2180, 0.014933364220024616), (3624, 0.014921236265298293), (264, 0.014918029681942183), (3435, 0.014914411827115845), (2408, 0.014913519715539848), (739, 0.014907172884224282), (2804, 0.014902082011279363), (4099, 0.01489359071363408), (4195, 0.014888472698032057), (849, 0.01488769892657683), (2064, 0.014884382484531616), (965, 0.014864947751163553), (133, 0.014863503218195934), (374, 0.014859377048864272), (3805, 0.014854200043305336), (880, 0.014844526672860705), (4457, 0.014842614349302476), (4487, 0.014838069591451997), (4150, 0.014829481301202029), (1022, 0.014829388701616996), (2014, 0.014817033544032064), (1238, 0.014795970944496415), (2400, 0.014776044127058153), (506, 0.014757916175455311), (1198, 0.014746563043561898), (4699, 0.014739843566792388), (2569, 0.014720535405638606), (3276, 0.014718577710517856), (2232, 0.014713914655599764), (4641, 0.01471258765693041), (1126, 0.01471068087157125), (3733, 0.014706536558253798), (1598, 0.014706013964334462), (4299, 0.014702518084321962), (2298, 0.014700827188926468), (1541, 0.0146957802488499), (3971, 0.01468622953065248), (3470, 0.014663631959612958), (741, 0.014662226693418694), (4630, 0.014650331587708166), (2998, 0.014637849661847776), (1035, 0.014631190511791103), (3370, 0.014619041567100971), (2921, 0.014617935788332108), (3685, 0.014615048244684509), (2329, 0.014612321505154726), (2115, 0.014596487633429378), (1158, 0.014595625010427873), (817, 0.014574594375659009), (4120, 0.014561978797634099), (4036, 0.014556223526412629), (1962, 0.014553529140007163), (2763, 0.01454890689555603), (2504, 0.014545258137393723), (4112, 0.014541380429452914), (4504, 0.014535930911635655), (4593, 0.014526726076875376), (1498, 0.01452387057689338), (2733, 0.014511891714591125), (4337, 0.014505544374285589), (3001, 0.014477170415049107), (3286, 0.014463707844449784), (18, 0.01444161559564082), (345, 0.0144385329579263), (1373, 0.014432699817449901), (2150, 0.014426503196568585), (4227, 0.014421603810513191), (487, 0.014417375188819923), (3366, 0.014387750847841503), (3641, 0.014387717849777788), (1113, 0.01438150427965175), (546, 0.01437376123006758), (1368, 0.014373721827954766), (798, 0.014372525981951212), (2314, 0.01437125935774824), (2642, 0.014353124069012195), (3141, 0.014352747270899812), (3582, 0.014351530832226463), (4564, 0.014344246295429738), (450, 0.014334943564365082), (720, 0.014328019263785977), (3831, 0.01432586395812962), (1293, 0.014319097492069154), (1167, 0.014312369629487684), (4303, 0.014305581931427343), (3465, 0.014305345662900768), (3802, 0.01430479586746623), (4374, 0.014296288357562633), (360, 0.014290790442774027), (100, 0.014287984892508982), (2229, 0.014276735540076737), (1231, 0.014275584859566882), (4022, 0.014275570812253474), (4124, 0.014250864573979784), (4133, 0.014244807736905295), (1552, 0.014243525856296926), (1490, 0.014233954668768999), (3965, 0.014227770700996163), (763, 0.014218384436317143), (3014, 0.01421781252467875), (3516, 0.014207980288949616), (2050, 0.014205180971292955), (498, 0.014202501034483643), (1265, 0.01419858143212196), (303, 0.014176219488872066), (1327, 0.014166444622012683), (3938, 0.014164634075766337), (45, 0.01413884025793483), (4595, 0.014135996789560443), (4272, 0.014133105076635392), (952, 0.01412200046587724), (2599, 0.014119710235309), (3086, 0.014112579948718226), (263, 0.014097912251790273), (185, 0.014084119787904916), (4090, 0.014077268244559724), (341, 0.014066424151109607), (1724, 0.014066332611927516), (420, 0.01404772218689423), (229, 0.014041079955072446), (3768, 0.014037931274757852), (1895, 0.01403375168795578), (991, 0.014023213665876085), (1057, 0.014017723993833598), (4167, 0.014014079858872652), (1606, 0.014010529620192847), (1558, 0.014000197575106241), (903, 0.013964464200234318), (2129, 0.01395542763863728), (1119, 0.013947963944535305), (3120, 0.013943653492066865), (1052, 0.013942957942333693), (96, 0.013939138860020194), (3627, 0.013935070280402341), (1823, 0.013934617092152109), (1855, 0.013934267906677948), (1898, 0.01393004048572418), (3235, 0.013926687140338633), (1920, 0.01392541480012009), (335, 0.013923446576174378), (2630, 0.01391393851436147), (4437, 0.013889802102949522), (1407, 0.01388313436390136), (638, 0.01388095572711115), (695, 0.013871963014898502), (2590, 0.013868126281088806), (960, 0.013864787379100905), (1979, 0.013857804558455637), (3843, 0.013853408153917732), (3724, 0.013852094164846203), (2450, 0.013848953782811587), (4176, 0.013848604622721004), (3401, 0.01384713235956973), (1116, 0.013839891815562149), (2615, 0.013838776330882558), (3048, 0.013838588838528268), (417, 0.013837870720774456), (275, 0.013815060602744492), (1452, 0.01380845794684237), (1531, 0.013803318564135542), (1859, 0.013775369467470834), (745, 0.01377393615491424), (1916, 0.01376674760168929), (1449, 0.013753196378169312), (1104, 0.013750440288010644), (3334, 0.013745113049416285), (1189, 0.013732877075454522), (409, 0.013715588589652918), (1079, 0.013699668477609268), (3923, 0.013688478285435644), (1233, 0.013688022923504085), (1192, 0.01368746476003727), (3395, 0.013685538047262755), (920, 0.013676170915686889), (414, 0.013675602017763858), (1987, 0.013674911027512416), (1308, 0.013667892638642421), (3769, 0.013659386937864677), (4621, 0.013651437995462062), (580, 0.013651322774120412), (1588, 0.01365009173395943), (170, 0.013645965231027922), (821, 0.013643705028993458), (1869, 0.013636042625569606), (1242, 0.013628392731479262), (2125, 0.01362508052377379), (3488, 0.013619539693172153), (516, 0.01361740049081431), (1534, 0.013595993569234027), (1536, 0.013584944564372528), (517, 0.013576133707069121), (3666, 0.013564482681919439), (1288, 0.013554698319533869), (3995, 0.013544299536581138), (4716, 0.0135397092166852), (1567, 0.01349492512627929), (3167, 0.013487734042838427), (1173, 0.01348172433274571), (3398, 0.013473449233496344), (3191, 0.013449354861613848), (1310, 0.013445772607240145), (2426, 0.01342774422851682), (4672, 0.01342711822179273), (3446, 0.013416602420649366), (2741, 0.013413563132606597), (509, 0.01339736085344083), (3530, 0.013392308983045146), (3445, 0.013379182122456666), (1431, 0.013377298722890247), (3522, 0.013370424937491875), (3397, 0.013369629346119618), (1003, 0.01335327900886904), (2185, 0.013345967953532635), (3231, 0.013340602179580004), (3815, 0.013319104138344173), (570, 0.013317630864342666), (594, 0.013315663256504434), (2073, 0.01331436152307161), (3810, 0.013311976327967481), (1970, 0.013310444385403002), (2389, 0.013288564118501), (2502, 0.013287999786856138), (3865, 0.013285763207352471), (2295, 0.013271674841012767), (3576, 0.013268329389770421), (3833, 0.013267014656761424), (2365, 0.013255686090809349), (2278, 0.013253389080913095), (811, 0.013244594622805876), (2991, 0.013237941863261686), (1601, 0.013223463585859137), (1998, 0.013221602994450776), (187, 0.013210542919527005), (1468, 0.013204986245150669), (3005, 0.013204009718189288), (627, 0.013202813238118609), (3002, 0.01320213858684539), (1985, 0.013200769328167468), (4583, 0.013199325528810521), (91, 0.013188730041680129), (1510, 0.013188554670617478), (3598, 0.013187650143725475), (3635, 0.013182582631146512), (4755, 0.013143228139866238), (4517, 0.013142992940090945), (4360, 0.013133665573178264), (451, 0.013120401351921135), (1223, 0.013114500705552616), (4683, 0.013107967305294193), (2793, 0.013102562189836084), (3525, 0.01309349327229646), (545, 0.013086941268105858), (2412, 0.013077348439592238), (1873, 0.01307690121190591), (4114, 0.013071075502101105), (1797, 0.013060591125657064), (4006, 0.013056275938316125), (762, 0.013054381531517256), (1378, 0.01305287600714088), (2433, 0.01304589204218185), (2773, 0.013042520521722169), (1163, 0.013040945966571023), (2246, 0.01303942348217359), (3803, 0.01303425142699485), (3232, 0.013025197569885062), (3330, 0.013019481063114983), (4623, 0.013016797785152412), (1194, 0.013015998297462684), (4708, 0.012964187405738176), (2839, 0.012960259442781941), (4665, 0.012956973392270785), (1546, 0.012956466230367693), (4278, 0.012952579087648705), (2480, 0.012951688608751896), (1891, 0.012950619273722987), (1239, 0.012945296975088741), (81, 0.012943739861912365), (2539, 0.012932458754597368), (73, 0.01289758367988343), (1397, 0.012882855442679395), (1852, 0.012882781845205027), (4668, 0.012872398271807686), (1573, 0.012870054122743068), (1927, 0.012869915868720501), (2498, 0.012868214287036743), (3746, 0.012860242384051543), (2822, 0.012856952308109685), (3195, 0.012856188539308736), (1850, 0.012849539008522906), (3793, 0.012843031006942307), (1551, 0.01283978822222859), (177, 0.01283905956786559), (634, 0.012833544210671732), (2559, 0.012817522921591875), (1635, 0.012812012631444158), (1097, 0.012811944116435256), (4418, 0.012805724010400218), (4157, 0.012802017325699709), (1882, 0.012799901438695055), (1773, 0.012799564902061234), (633, 0.012798292530248407), (2688, 0.01278104567016203), (4352, 0.012765207748155009), (626, 0.012763343030017273), (746, 0.012757325515132324), (1933, 0.012734232427499369), (557, 0.012730513864315255), (2759, 0.012729734095038624), (2824, 0.012727523498245585), (4615, 0.012725930374272701), (2178, 0.012707044601499354), (2006, 0.01270489740881199), (3994, 0.012695440179697752), (1953, 0.012693415602100336), (3583, 0.012684979550094868), (273, 0.012677394818747514), (2062, 0.01264967971669082), (1146, 0.012631571203063052), (556, 0.01262831663306868), (2828, 0.012627712870562911), (1347, 0.012618482815517541), (2245, 0.012618065528582707), (3720, 0.012607057614226687), (1493, 0.012594849666500891), (2432, 0.012592319510975192), (3872, 0.01258874909375482), (2324, 0.01258023668573365), (951, 0.01257631235679855), (4459, 0.012568037339057396), (3832, 0.01256719542540503), (1864, 0.012565178288357431), (3487, 0.012560578445492548), (2355, 0.01255611793915754), (2369, 0.012545103720590136), (1632, 0.012525565358597801), (2680, 0.01252256667142388), (2221, 0.012520635544342072), (2296, 0.01251440936379819), (3126, 0.012510940804740849), (1825, 0.012496625482318708), (3970, 0.012494700744594007), (2969, 0.012491252493787292), (3985, 0.012488646391845246), (4614, 0.012478414723777378), (3056, 0.012476737278288767), (4142, 0.012465886159009176), (1218, 0.01246276630117401), (3122, 0.012462633631298408), (2865, 0.012460227277238153), (3881, 0.012458282226765283), (726, 0.012456639040386349), (2618, 0.012442093750355265), (2736, 0.012439276022026786), (2318, 0.012435270177206742), (4441, 0.012409891480807522), (1274, 0.012406643691104335), (2619, 0.01239691378337088), (1630, 0.01239574437181377), (1631, 0.01239450264974971), (2530, 0.012392643301771365), (1428, 0.012383837290670809), (3751, 0.01237883589847959), (2094, 0.012362411869744662), (3023, 0.012360075874750624), (1647, 0.012349104520289167), (3853, 0.012335395297965799), (3734, 0.012321598854997224), (433, 0.01231963969609296), (1756, 0.012319400864781142), (1177, 0.012306298709656336), (3433, 0.01230094048332195), (3609, 0.012283924910454023), (3823, 0.012283093936554745), (1883, 0.012282181331027008), (2899, 0.012280660940783316), (1451, 0.012271162749787783), (1723, 0.012263896229077394), (1041, 0.012262820527570674), (4548, 0.012246223155803287), (4159, 0.012243482198044952), (1556, 0.012235980680189624), (1341, 0.012227065114153505), (4585, 0.012224172844037132), (2496, 0.01221709828994155), (3788, 0.01221169497306412), (963, 0.012211628437697668), (810, 0.012205538469766132), (2682, 0.01218854593352756), (1662, 0.012175845217223397), (3338, 0.012171081211549922), (1819, 0.0121709123326964), (1555, 0.012161601383145584), (1326, 0.012161339433981233), (2827, 0.012152571087807889), (1430, 0.012147408514242104), (4697, 0.012143453524583693), (1480, 0.012142696104733503), (3550, 0.0121350594576149), (3118, 0.012123240105958801), (1623, 0.012097259684247918), (240, 0.01209203769076931), (248, 0.012085629557929953), (407, 0.01208427866162167), (744, 0.012081373688580834), (914, 0.012072542226255369), (2032, 0.012063221484285387), (4063, 0.012056335711606534), (4165, 0.012047375662133984), (558, 0.012046522258331258), (3528, 0.012034213922496444), (1197, 0.012011557172085307), (2984, 0.011993939754886936), (411, 0.011990999814264491), (359, 0.011988881415834927), (2110, 0.011986361861028054), (2364, 0.011977903475798836), (160, 0.011974373423597766), (1115, 0.01197045825055823), (4525, 0.01196308661651058), (4519, 0.011951719702157013), (3738, 0.011949210282082937), (4194, 0.011942379123772282), (2835, 0.011938566810550284), (124, 0.011928880667049424), (1051, 0.011924630017649752), (1568, 0.01192164411215757), (3130, 0.011918021712565867), (2774, 0.01190432093313104), (1990, 0.011902022166756279), (1701, 0.01189269178690145), (1840, 0.01188630782560711), (3278, 0.011878860013832157), (352, 0.011873588474324142), (2596, 0.011871026506472808), (3474, 0.011870803539740371), (3744, 0.011866355867094067), (4044, 0.01185347619857947), (225, 0.011839185193794326), (3448, 0.011828114489763567), (1595, 0.011822503998861514), (1795, 0.011812542267923488), (4599, 0.011808303719002), (3206, 0.011796958372445298), (1220, 0.01179109448816766), (4290, 0.011790917909285645), (2031, 0.011788688683195336), (893, 0.011780116175029854), (334, 0.011755267425317588), (4366, 0.011746442098604292), (4455, 0.011733607727658604), (4106, 0.011696008128721838), (932, 0.011678230111983403), (2893, 0.01167396005723881), (2895, 0.011670908653199539), (191, 0.011655989661166604), (4582, 0.011652907657687879), (2929, 0.011651455879879683), (559, 0.011638742216688102), (926, 0.011619382958847806), (3495, 0.011616669732397954), (2567, 0.01157046242622018), (979, 0.011551927875185514), (421, 0.0115215680598958), (2617, 0.011517938402221864), (2304, 0.01150195061005912), (2906, 0.01150138137138621), (222, 0.011498388846918041), (2852, 0.01149598116289231), (3619, 0.011461759536125533), (2707, 0.011443602373641091), (3950, 0.01144329052782262), (4532, 0.011435645033117206), (1109, 0.011414878702781276), (4589, 0.011412406386943966), (228, 0.011406350045584384), (491, 0.011398806226261155), (1590, 0.011390147185957988), (3852, 0.011382959545128562), (3967, 0.011379934785961375), (4238, 0.011377879735921049), (3192, 0.011372444350799718), (2398, 0.0113708663324403), (4385, 0.011370592483847489), (1466, 0.011366650331352786), (1547, 0.011356173950142557), (4026, 0.011341938034446249), (2951, 0.011341050244405522), (2427, 0.011325738506804349), (1559, 0.01130634159606559), (1699, 0.01130286168818372), (99, 0.011298343651338305), (1863, 0.011282604602380376), (2550, 0.011262155818427835), (3419, 0.011252239069070103), (1803, 0.011242334086728681), (1753, 0.011229376085862252), (3532, 0.011226120251632039), (4158, 0.011217109813459475), (1381, 0.011189120697244797), (1563, 0.011184049870554456), (4516, 0.01118075238011871), (3972, 0.011167783964343578), (1627, 0.011167185540349808), (3731, 0.011141007093055802), (3271, 0.01112298922766787), (4526, 0.01112110068698843), (2152, 0.011109240983721392), (537, 0.011098723578093498), (2555, 0.011087764422991376), (2776, 0.011087205693967447), (1713, 0.011071820260367553), (424, 0.011070900845362563), (1359, 0.011061759306341405), (425, 0.011061295607563856), (4094, 0.011032433310663618), (617, 0.011029783960771634), (4565, 0.011022716674585504), (2532, 0.011007538997062475), (1279, 0.01099905201547823), (413, 0.010992524945475392), (1535, 0.010985249098682297), (3587, 0.010983503117142027), (2151, 0.010975659389243917), (666, 0.01097191566065037), (2066, 0.010968690956602281), (2710, 0.010963058520225284), (3973, 0.010960292284126979), (3560, 0.010955445701855507), (3678, 0.010951507396201385), (246, 0.01094773049048902), (2499, 0.010945204247887086), (4160, 0.010932008194396353), (3934, 0.01093164622074475), (1951, 0.010922016239080398), (3469, 0.010919196964887018), (4535, 0.010913296707150529), (1069, 0.010909110174592168), (1342, 0.010909078015276304), (456, 0.010906675754475091), (4233, 0.010903294475654317), (4401, 0.010893786215374084), (2566, 0.010883289207912428), (2610, 0.010879222550956328), (1474, 0.010873729202128198), (3484, 0.010864362654847094), (1893, 0.0108576890520883), (3877, 0.010855995715319266), (344, 0.010826990176924792), (4742, 0.010824650469086624), (4034, 0.010817252586296457), (3969, 0.010814529560437623), (4513, 0.010806695591959294), (1240, 0.010806089308918057), (2806, 0.010798319134935714), (1460, 0.010794179295157564), (1725, 0.010779305399867462), (686, 0.010776206325952524), (752, 0.010772560673175438), (3940, 0.01077086596296123), (550, 0.010769759145634753), (3387, 0.010767186175575729), (2428, 0.010760370430852482), (211, 0.010760124731778713), (715, 0.010759456539868824), (4181, 0.010747582930262975), (4077, 0.010743553907787359), (3697, 0.010741671096589602), (4091, 0.010713510025979764), (3480, 0.01071180292391708), (2573, 0.010708665234716676), (591, 0.010707796316491453), (69, 0.010705935088768463), (875, 0.010701491364689421), (2233, 0.010700101699948273), (700, 0.01069754248434888), (3869, 0.010688446526115543), (677, 0.010685622260578523), (336, 0.010684313137937993), (3787, 0.010674589740244014), (1091, 0.010674471579289071), (2148, 0.010669987365805468), (4130, 0.010657095215349853), (635, 0.010645240327217793), (2106, 0.010641888852704432), (2898, 0.010625461126801494), (3163, 0.010612645786004586), (4491, 0.010609212401017079), (163, 0.010604058047806472), (3202, 0.010601173322381939), (778, 0.010594088666095883), (4676, 0.010583446529646944), (2860, 0.01057876433465895), (2234, 0.01057291906422824), (3016, 0.010568051088119418), (2136, 0.010567324902621177), (1894, 0.01056586697541534), (2888, 0.010561945656324517), (4493, 0.010559543103669734), (1585, 0.010534205644594799), (2171, 0.010533452932333749), (3944, 0.010530744211850006), (3977, 0.010530722264681153), (3989, 0.010524390478853752), (953, 0.01051853199806987), (1395, 0.010515763997382042), (4076, 0.010504155677379393), (768, 0.010501719776755793), (2732, 0.010498704056194687), (232, 0.010497984340036893), (3586, 0.010493321005980187), (4674, 0.01049257520187239), (6, 0.01049067715449321), (3182, 0.0104866079022585), (2451, 0.010472053774773608), (1228, 0.010463169045035907), (4269, 0.010458582292192164), (4703, 0.010450340756825839), (3782, 0.010444097209130152), (1705, 0.010441037626495689), (3834, 0.010432539548893293), (2725, 0.010427689191478956), (4478, 0.010424399075971192), (1812, 0.010415747064386076), (3438, 0.010409116571859221), (1324, 0.010400774474199598), (2609, 0.010399958602121229), (826, 0.010398686572270733), (2283, 0.01039072829930493), (3846, 0.010390495192174337), (3471, 0.01038721180373693), (2335, 0.010385263955913202), (1280, 0.01038264384422155), (4289, 0.01037776334707634), (603, 0.01037071104214771), (17, 0.010357461991128317), (3979, 0.010352007769313611), (3132, 0.010337526611719005), (1488, 0.01032018929091093), (297, 0.010315410024779242), (2330, 0.01030904583768357), (1297, 0.010302927821981169), (3747, 0.010298203452154845), (1225, 0.010286084647434163), (1380, 0.010283064145777532), (1328, 0.010282134718838558), (3208, 0.010249679508853714), (3968, 0.010239140995487029), (1603, 0.010232267342083089), (2413, 0.010227593363033336), (231, 0.010224489652081612), (320, 0.0102218462007388), (2640, 0.010201918093258417), (4354, 0.010199929159378798), (1396, 0.01019673102838102), (55, 0.010188103135301036), (3565, 0.010187991460436719), (298, 0.010185331146966292), (2015, 0.010181280736362246), (3871, 0.010176740086348), (3134, 0.010176591091962811), (201, 0.010172867909246873), (3764, 0.010172257647389197), (4419, 0.010164774491638435), (1475, 0.010164586909383332), (1329, 0.010158567607404077), (4466, 0.010152969097241253), (2691, 0.010144123879233686), (1841, 0.010141129696509947), (27, 0.010128434115017813), (3849, 0.010127169245291294), (1932, 0.010124584129918611), (3124, 0.01012305133727157), (2016, 0.01012211018463646), (3907, 0.010115960232373015), (3798, 0.010113790953783475), (1888, 0.010112417794097932), (615, 0.010100249176920232), (189, 0.010096912297968136), (2973, 0.010096630847512101), (2944, 0.01009228281860885), (918, 0.010090388948006483), (3743, 0.010088736349593563), (2111, 0.010083698214710226), (151, 0.010072123426732804), (4467, 0.010071656490923609), (2663, 0.01006414408329092), (3447, 0.010059179204510485), (3463, 0.010058104011399123), (2332, 0.010047860563381366), (472, 0.010038037274892168), (2048, 0.010035620403431686), (3585, 0.01003336258175761), (95, 0.010029816236636355), (4643, 0.010029541663648903), (631, 0.010025223881870271), (1422, 0.010023094095408691), (871, 0.010018326063868974), (118, 0.01000451270835826), (902, 0.010001961337266824), (3840, 0.009995405976976077), (1901, 0.009992778813150211), (453, 0.009989590781889227), (4294, 0.009986285613447913), (2172, 0.009985101978465976), (4533, 0.009978971883423168), (3597, 0.009978845981500485), (4663, 0.009977142503023772), (4168, 0.00997206761397815), (4719, 0.009968894146570803), (1686, 0.009968287510960521), (1936, 0.0099652988979265), (3690, 0.009964398163567409), (1111, 0.009963760230736661), (1931, 0.009962123872131105), (3890, 0.009959324807622844), (2955, 0.009956849868730359), (3486, 0.009955405609940222), (2960, 0.009944688494993718), (4283, 0.009938984147798924), (56, 0.009927256515099077), (3272, 0.009923681649127493), (3404, 0.009920262764448746), (1386, 0.009912800846039547), (1087, 0.009912736178909299), (2045, 0.00990909819662731), (919, 0.009908640241984668), (592, 0.009903148161156386), (54, 0.009901955547138354), (1440, 0.009900895235288299), (4414, 0.009900889594405592), (3352, 0.009899589094478486), (2277, 0.009883830853744145), (2887, 0.009879673222050146), (2647, 0.009875453484374285), (3467, 0.009875008770296002), (3520, 0.009870548104395603), (714, 0.00986570771252123), (4041, 0.009861968230178425), (909, 0.009854763201918772), (4501, 0.009850906810524297), (1522, 0.009846020862490795), (77, 0.00984594302335506), (1175, 0.009840073857688808), (3309, 0.009830060986700376), (2414, 0.009828514429946535), (1945, 0.009824387405650817), (258, 0.009816900118523356), (3482, 0.009810068123999), (1002, 0.009808370776207465), (1346, 0.009806075225557749), (4103, 0.009803134719201337), (1908, 0.009802190524397314), (2501, 0.009797267956938862), (39, 0.00979039328762783), (3427, 0.009787201650988592), (2506, 0.009782031934805225), (315, 0.009780360195288978), (1151, 0.009776872062624248), (3367, 0.009765708639117172), (1385, 0.009762634803414596), (4364, 0.009759632561893241), (4070, 0.009752166770766374), (1179, 0.009749019954000128), (3982, 0.00974792749066545), (2823, 0.009746447513712604), (305, 0.009740909350977841), (3492, 0.00973837442782435), (1269, 0.009734648289674576), (241, 0.00972641910335015), (1106, 0.009725077351289038), (3346, 0.00972445287180291), (1262, 0.009724382788671614), (4016, 0.009723527763251971), (3077, 0.009721576061362116), (79, 0.009719968903669125), (4012, 0.009715634013659295), (4128, 0.009714766666926963), (2202, 0.009698096495864141), (4056, 0.009697684848587964), (2850, 0.009690750197170452), (724, 0.00968313664887954), (3963, 0.009677385627063243), (4482, 0.00967062051425157), (3736, 0.009667539998769244), (1604, 0.009667248923398455), (674, 0.009665319347862486), (3058, 0.00966302013013029), (1012, 0.009659050538384836), (4509, 0.009651513550355128), (3622, 0.009649127968642228), (1868, 0.009641073292630888), (1351, 0.00963431371201248), (2847, 0.009626687932965372), (3937, 0.00962291147833714), (1263, 0.009615180562378303), (467, 0.009611491080198568), (613, 0.009610699316916778), (1358, 0.00960954933778821), (322, 0.009601316533176203), (1459, 0.0095975091144832), (1180, 0.00958866158379223), (3147, 0.009583450862714182), (4211, 0.009571216569737648), (119, 0.009565998906658475), (3137, 0.009554514320352595), (2713, 0.009551913298237654), (539, 0.009541231013422871), (3454, 0.009537749287375615), (3773, 0.009536368516073033), (4224, 0.009535692917074673), (978, 0.009521730249921697), (567, 0.009508175700927254), (3709, 0.009503450847843282), (1846, 0.009498361643851084), (1350, 0.009497713473551259), (1607, 0.009495235984358358), (152, 0.009468795726783205), (292, 0.009459961661882338), (4550, 0.009452397945338328), (3555, 0.00945002402361176), (4588, 0.009442912883998155), (416, 0.009433425910710202), (1063, 0.009420815365733247), (1645, 0.009419438142538235), (261, 0.00940724168621458), (3156, 0.009391077874876998), (390, 0.009384469292720963), (915, 0.009382349269216852), (3917, 0.00937936827350043), (2100, 0.009375799709985951), (3826, 0.009373762132027287), (179, 0.00937207378275699), (310, 0.009367978537632743), (3786, 0.009355402122217478), (2117, 0.009352687049183805), (3098, 0.009351797493712188), (3568, 0.00935095308882632), (1935, 0.009344170117016147), (2641, 0.0093433483935016), (3418, 0.009342218356113142), (3567, 0.009341749131120602), (93, 0.009338804151055584), (583, 0.009332353437364608), (4523, 0.009327279395429555), (852, 0.009326968135911627), (1810, 0.009321876646368667), (4152, 0.009302644787427697), (1067, 0.00929953935333199), (284, 0.009298730831728167), (1001, 0.009292854007105117), (300, 0.009289204237179105), (2473, 0.009285949304514853), (1412, 0.009280565915670629), (1816, 0.009279601043983437), (1755, 0.009278321681055359), (2950, 0.009265822082131545), (3700, 0.009261436840299732), (4428, 0.009258482390420727), (171, 0.009255393955418925), (260, 0.009248140746884336), (911, 0.009237343015239222), (1664, 0.009234511462704762), (3361, 0.009229912578453375), (1715, 0.009219759437350141), (966, 0.009206075160628187), (3783, 0.009196197504324464), (3991, 0.00919514855986204), (4292, 0.00918659968525406), (1539, 0.009179310391787867), (1307, 0.00917569500633467), (1579, 0.009165046542305311), (3133, 0.009164727877286425), (3193, 0.009159256764806152), (3566, 0.009158850760611433), (1392, 0.009152661615096964), (548, 0.009143356386793318), (2145, 0.009142603446433526), (2587, 0.009135453329332207), (3135, 0.009132341345620089), (650, 0.009129099522490294), (468, 0.009124043589327242), (426, 0.009119902584532233), (3100, 0.00910788547922666), (565, 0.009106915544568156), (3121, 0.009105860833946683), (3136, 0.009093918818906201), (921, 0.009074512640981827), (3426, 0.009070190260706197), (2442, 0.009068058101495373), (46, 0.009062450270740633), (568, 0.00904318139863551), (3718, 0.009041304214010327), (316, 0.009036599248069911), (9, 0.009023037578824796), (4236, 0.009017343787581072), (3914, 0.009011076837317921), (4009, 0.00900919412420361), (1789, 0.009003625802347865), (540, 0.00899894995763962), (35, 0.008996927920832445), (306, 0.008983569745557703), (1114, 0.008980706461554883), (4439, 0.008961452010942415), (94, 0.008953998438018229), (457, 0.008948990085921931), (80, 0.00893397065313385), (569, 0.008933955864015016), (3456, 0.008922289771280935), (2920, 0.008921224432591737), (2747, 0.008919921182508582), (397, 0.00891499252724114), (218, 0.008901639000655638), (37, 0.008900960561434211), (2523, 0.008896230486729413), (4153, 0.008885328011733456), (1675, 0.008882559912928537), (2803, 0.008873239502286303), (4405, 0.008861442992793584), (67, 0.008841562462359377), (608, 0.008838438757390018), (1809, 0.008811882197787654), (1366, 0.008795263614306234), (4055, 0.008794442436287254), (3600, 0.00879212091998992), (1134, 0.00878891516094497), (4074, 0.008774650252494682), (4018, 0.008774088327821557), (936, 0.008773080987938874), (699, 0.008768365916254408), (2065, 0.008759934319971066), (1016, 0.008758189972023817), (501, 0.008755583615710482), (1219, 0.008747100697193878), (327, 0.008746642964767603), (3327, 0.00874574570973726), (3795, 0.008721980924419157), (954, 0.008714313591593999), (1, 0.008709009259655363), (856, 0.00870333354201399), (3099, 0.008672714680463205), (882, 0.008643069924345898), (252, 0.00863672186625588), (3785, 0.008617725770554457), (519, 0.008609062398336304), (2737, 0.008605925605306127), (2443, 0.008579680470377998), (1283, 0.008574615770709972), (277, 0.008570750405692192), (2237, 0.008555797294178939), (1090, 0.008554076193875236), (32, 0.008550492284905857), (1301, 0.008518404350649482), (257, 0.008512960083704729), (2597, 0.008499531689468782), (3096, 0.008475705619987624), (113, 0.008465303992177865), (1764, 0.008451737714750293), (242, 0.00844190966946715), (4498, 0.008436431867808201), (165, 0.008428820426098688), (234, 0.008391647741227607), (364, 0.008388295919634484), (2177, 0.008382428153277362), (3129, 0.008377091594422507), (3552, 0.008371317346561708), (286, 0.008366978872528623), (2352, 0.00833293260914318), (2701, 0.008330420942637773), (496, 0.008324377685440948), (3693, 0.008319187917638828), (601, 0.008317861726213585), (1050, 0.00830658384209221), (1802, 0.008304716128848812), (725, 0.008294439180056484), (3405, 0.00828719616852132), (3065, 0.008281917885228007), (288, 0.008280397779660564), (639, 0.00823339001712666), (3657, 0.0082281928210119), (75, 0.008189464308600866), (2127, 0.008185377401915332), (58, 0.008175566356440874), (314, 0.008173469716713875), (807, 0.008173390189654609), (640, 0.008162567445720836), (3091, 0.008161202062423538), (3215, 0.008154378059974966), (3178, 0.00813792405974251), (1221, 0.008106227096104793), (469, 0.008057839458494092), (57, 0.008041416093810493), (2034, 0.00803306916758495), (1530, 0.007985003560921725), (2703, 0.00796790647892286), (381, 0.007963664109140579), (602, 0.007960846899957531), (290, 0.007956464368396756), (4726, 0.00795229448196464), (295, 0.007951558194819968), (2028, 0.007919643633918519), (237, 0.007910267260690135), (3512, 0.007892711558832808), (4223, 0.007889600577397926), (1989, 0.007831370101721528), (289, 0.007825646880140256), (3980, 0.007822016899136686), (1861, 0.0078029923560147575), (2013, 0.007768568522016619), (294, 0.007763461012460074), (63, 0.007759996264131135), (2010, 0.007700009768511171), (3088, 0.007653924994194913), (4745, 0.007628554683487413), (2669, 0.007611954804182867), (3152, 0.007608708464405692), (2657, 0.0075395081402552236), (1418, 0.00749474699361807), (2529, 0.007471660876204135), (775, 0.0074593734844037455), (2379, 0.007428310414863564), (2490, 0.007418664751592006), (2659, 0.0074141938779535566), (2312, 0.007410359418284043), (1581, 0.007373321382359663), (3698, 0.007344492313198384), (2562, 0.007341317040668887), (2764, 0.007333101674005422), (4007, 0.007318843188249095), (2137, 0.007295188011597155), (2891, 0.007290877116165514), (3139, 0.007287400052466093), (3546, 0.007274525138341029), (996, 0.007263119155329328), (3205, 0.007252715033380844), (4480, 0.0072472321661170595), (2722, 0.0072257222013158), (2818, 0.007207873578856597), (2500, 0.007181400983079498), (3166, 0.007139711722251369), (3266, 0.007120182938447718), (2395, 0.007119854126207812), (3796, 0.0071189010301072235), (3142, 0.007116425013711188), (1210, 0.007090070061600053), (3949, 0.007075408069663514), (2537, 0.007060890023621828), (735, 0.007028446259436655), (2667, 0.0070137220753680235), (2922, 0.00700347138594092), (2404, 0.0070008561715680226), (641, 0.006982223335855904), (3042, 0.0069740690617230774), (4700, 0.006969347026178588), (4115, 0.006945037502147739), (553, 0.0069340050167932075), (2885, 0.006932452861435622), (2990, 0.006928969231987417), (2731, 0.006909070524068549), (4222, 0.006903070831570921), (3204, 0.00689014817916002), (3479, 0.00687389577757776), (4484, 0.006862612603723931), (4198, 0.006796438216743723), (3800, 0.006790761028238321), (2483, 0.006788037920385043), (2832, 0.006754868506066054), (2536, 0.006723724334384871), (2948, 0.006702915397616792), (2199, 0.00670014892519034), (3892, 0.00669111908340948), (1948, 0.00668113941769436), (3282, 0.006675115715333409), (2228, 0.006661756242813651), (2928, 0.006646512747047186), (4166, 0.006645038784513775), (3715, 0.006641813937865499), (3217, 0.006632897948462261), (4084, 0.006618520847325709), (2941, 0.006614648523795427), (3078, 0.006614099528106148), (2282, 0.00661309468726839), (391, 0.006592159999754849), (4440, 0.006582490230244309), (2838, 0.006577944628415943), (1208, 0.006562156643030542), (2875, 0.006541898963662753), (4102, 0.006535314353518163), (2455, 0.006533092269433799), (2983, 0.00649609689182793), (2600, 0.0064938038179964365), (3087, 0.0064936716280009415), (948, 0.006480894017281308), (3988, 0.006478739651775185), (2543, 0.0064584791639999625), (2308, 0.006441501371805832), (3249, 0.0064376098176976825), (2939, 0.006410645026864602), (3328, 0.006408785192777976), (4721, 0.0064061157442017545), (4058, 0.006402217651978998), (3616, 0.006400692031397147), (3592, 0.0063993788596490965), (3357, 0.00639796226125719), (2515, 0.006390269347604904), (2834, 0.006385716735282534), (3537, 0.00638425938939739), (2363, 0.006360819685433219), (2857, 0.006353579550597075), (2730, 0.006324144256487791), (3074, 0.006315000049320904), (2797, 0.006300059906532362), (4725, 0.006283299761255325), (2077, 0.0062772617464306535), (4147, 0.006267326410499534), (3544, 0.00626540455968425), (3089, 0.006253752900715943), (4631, 0.006250499752207637), (3020, 0.006248593749859639), (4127, 0.006247818722920887), (3554, 0.006230751257634079), (2781, 0.006202998940119228), (3257, 0.006202063975984703), (3203, 0.006198904679287894), (2756, 0.006196286835878479), (3054, 0.006184802664796292), (3413, 0.006182346598031684), (4408, 0.006179777967660015), (1941, 0.006160519883254607), (4506, 0.006145228278486024), (4483, 0.006140053798108871), (4190, 0.006138711094569921), (3996, 0.006137046372689104), (1790, 0.006135884318866469), (2368, 0.006134738591718193), (2333, 0.0061272582052398815), (3686, 0.00611901530354472), (3017, 0.006115438439252145), (1049, 0.006103341951692286), (3308, 0.006093634092184054), (2986, 0.006088281089992105), (795, 0.006083618451120444), (3789, 0.006078711170170633), (4023, 0.006078511938270292), (4717, 0.0060776727668033015), (2769, 0.006075327925952731), (4711, 0.006074945643498525), (2738, 0.006074183288479363), (4451, 0.006072928986164715), (3763, 0.0060660671364400585), (582, 0.00606376529454706), (904, 0.006058975844089493), (3621, 0.006056697227315047), (3324, 0.006049098978484757), (4633, 0.006049038091484901), (1187, 0.0060474134557562025), (711, 0.0060459437359831674), (4285, 0.006040284747965028), (2635, 0.006031045397333507), (3931, 0.006021144568740545), (2468, 0.006013970974568882), (2158, 0.0060013373922825665), (3256, 0.006000032892842368), (2696, 0.005983365348417634), (1947, 0.0059751588672107515), (4346, 0.005971549798159444), (2924, 0.0059693658555775245), (3754, 0.005969210389118779), (2261, 0.0059662166896324855), (905, 0.005954149279217471), (3364, 0.005941926041850963), (4010, 0.005939093086799978), (3337, 0.005939018750934277), (679, 0.005931975842282448), (4650, 0.0059317764765542905), (3921, 0.0059310759761769275), (2872, 0.005924861686427056), (2012, 0.0059193374068147375), (508, 0.0059183474456674014), (2478, 0.005908780010539559), (3952, 0.0059026744186016855), (847, 0.005902408195925547), (2676, 0.005902183852612205), (1507, 0.005894269724752253), (3851, 0.005893196987975787), (4496, 0.00589145816650101), (2796, 0.005890435045698098), (985, 0.005887962039715485), (2305, 0.005886879424189098), (2702, 0.005882831084379826), (38, 0.005882205333485617), (2486, 0.0058766874328995645), (4295, 0.005876686573464653), (1424, 0.0058763797571263435), (4117, 0.005875586759140697), (3791, 0.005873180018593175), (4335, 0.005862761641124417), (4121, 0.005854204156715591), (3253, 0.0058532476821993975), (2223, 0.005852353224529129), (2302, 0.005846261400109632), (2873, 0.005846021906559058), (2339, 0.005846002827172491), (3649, 0.005839163349782147), (4317, 0.00583665322983763), (4737, 0.0058361341725890565), (998, 0.0058349785025378735), (4460, 0.005834448003594935), (2186, 0.005834153114302459), (2138, 0.005833742374035702), (999, 0.005830202979309097), (2411, 0.005828314140994854), (3383, 0.005828177005237831), (3039, 0.0058244835835850085), (4452, 0.005821832246518554), (2914, 0.005821088151482092), (1928, 0.005819052930595732), (3820, 0.005818967405574878), (3992, 0.005818224314465382), (2518, 0.005810635775361723), (3168, 0.005795866940809935), (3373, 0.005793228317065484), (3962, 0.005780779973142431), (3822, 0.0057793478336694085), (4105, 0.0057775657285776315), (139, 0.005774989100717497), (1311, 0.005774353886382986), (40, 0.005773832702930319), (2810, 0.005768637660819191), (2420, 0.005765451867458339), (1594, 0.005762873730234188), (3146, 0.005757343957582241), (3964, 0.005748508161085025), (4453, 0.005747004396120248), (4580, 0.0057436990912147256), (4293, 0.005743595356419041), (4051, 0.005742413897499943), (1260, 0.005741612367367162), (3080, 0.005737180532396422), (2384, 0.005732575735133699), (2209, 0.00573029218338378), (2782, 0.005729627965103113), (4706, 0.005718433794480319), (3003, 0.005717831055768613), (1371, 0.0057176000708742845), (4259, 0.005717300088333086), (4113, 0.005716988978279782), (1923, 0.005716400020287443), (3808, 0.0057148655562236795), (3681, 0.005713928152088183), (4463, 0.0057133014517248325), (2108, 0.005712948447665326), (4064, 0.005709936753445153), (4324, 0.005706042845371299), (2535, 0.0057048368580808395), (3371, 0.005701782025147749), (3652, 0.005687316554781824), (1766, 0.005679913096273508), (3097, 0.005675642694786036), (2049, 0.0056744541962155965), (4263, 0.005669124454892462), (1486, 0.005668493689037321), (3519, 0.005666827616786995), (982, 0.005662081423448207), (1786, 0.005661001513362756), (2930, 0.005659190461614817), (1089, 0.0056589410049244435), (3581, 0.005658215169340989), (3207, 0.005656292725921154), (2375, 0.005654650265964346), (841, 0.005651742669056372), (3837, 0.005649880306113413), (2626, 0.005649018454512446), (2452, 0.005646796842034609), (2410, 0.00564658150569782), (4446, 0.005646344296298502), (2464, 0.005645053450055242), (4308, 0.005644582960220482), (1733, 0.005643644459444529), (3424, 0.0056393516195977055), (1583, 0.005639061253644461), (4097, 0.005636664885619786), (3183, 0.00563637522277607), (253, 0.005627494238362209), (3730, 0.00562664667601426), (3234, 0.005626127219788212), (318, 0.005624976643553537), (4140, 0.00562386606091449), (4061, 0.005622208730579924), (2968, 0.005618230323117474), (1243, 0.00561412326650506), (1905, 0.005611584730331778), (678, 0.005611260010872945), (4522, 0.005609238507039047), (1491, 0.005609155710699831), (4258, 0.005608185489086016), (350, 0.005603502109497539), (2748, 0.005597097583790791), (3258, 0.005596980712255976), (2978, 0.0055967424597622205), (2882, 0.005593216362795288), (2507, 0.005591346901901731), (4207, 0.005586028560656547), (4332, 0.005584164502628588), (2082, 0.005583918240098878), (3889, 0.005582169063270055), (2258, 0.005581389777789991), (4413, 0.005581002350373274), (1679, 0.005576975591619881), (2371, 0.005575746877537199), (2021, 0.005571458801524163), (4734, 0.00556248525798694), (1246, 0.005560478845870051), (2116, 0.00555523370098678), (146, 0.00555207701635232), (3510, 0.005548944683884498), (1441, 0.005548721880628214), (2880, 0.005547509653799807), (771, 0.005545288701395301), (1518, 0.005543491332120012), (1848, 0.005540861899939165), (4132, 0.005540334240551718), (1390, 0.005537635230193572), (2661, 0.005525481694607825), (1520, 0.005525370862480464), (3496, 0.00552497700870251), (4371, 0.005519566970893927), (405, 0.005517992454127397), (2124, 0.005516154169434699), (3175, 0.005515529339138307), (754, 0.005514395807591672), (873, 0.0055117849232267915), (1537, 0.005510701484643767), (4111, 0.005510127121039318), (4131, 0.005508110338485977), (1683, 0.005507921710116233), (4173, 0.005507055911040705), (1409, 0.0055065412374254484), (2260, 0.005506131306740229), (3728, 0.005504045641939854), (1282, 0.005502714865528931), (1732, 0.0055012307347700835), (2712, 0.005499475698378132), (2391, 0.005497435640515436), (4370, 0.005497213414020453), (1609, 0.005492672817616414), (1737, 0.005490493755721696), (3601, 0.0054893570711427985), (3218, 0.005487389758483073), (4357, 0.005486659891030436), (2970, 0.005486308831727981), (2086, 0.005482005143740398), (3109, 0.005481821900020589), (4315, 0.005481330469471546), (1791, 0.005479635167064348), (536, 0.00547775204125583), (3236, 0.005474382717811176), (1856, 0.005473837128942445), (4560, 0.005473789506373811), (1596, 0.00546752307929594), (392, 0.005467504662343634), (4622, 0.005463610929331239), (2147, 0.005463363136774799), (4256, 0.005462094497810447), (3442, 0.005459682584536185), (4489, 0.00545903689656539), (4054, 0.005457785479151431), (3464, 0.005455071161153073), (2516, 0.005453731346319574), (1234, 0.005450486453478303), (205, 0.005450284560150629), (4655, 0.005448154826357917), (3905, 0.005444563914733055), (4260, 0.005440232068396079), (4052, 0.005439924550222255), (4027, 0.005435104502116503), (1822, 0.005433444559740389), (3037, 0.005433107816873859), (3041, 0.005432972333040009), (3259, 0.0054282817330546405), (4420, 0.00542742486348747), (2394, 0.005423571929649464), (3388, 0.005423092980645414), (2385, 0.005421245944299151), (1578, 0.0054211078845208885), (781, 0.005420628868061703), (3277, 0.005419679843981934), (3882, 0.005417165181639069), (3187, 0.0054164996799340335), (3984, 0.005413123069287362), (667, 0.005411486295557271), (1902, 0.005410192178908439), (474, 0.0054083693220512786), (3189, 0.005407774899356574), (1336, 0.005404506646037639), (2633, 0.005403670343419478), (1299, 0.005403198364692068), (1821, 0.005401254622790743), (1689, 0.005400249762082773), (2675, 0.005395724616119724), (1718, 0.005395173352360374), (1193, 0.005393559474739296), (1734, 0.005393255346379957), (3513, 0.005392806912113896), (1142, 0.005392267107965092), (3493, 0.005387309380436788), (2002, 0.005387195651200283), (3415, 0.00538684477140429), (3150, 0.0053853118088410335), (3038, 0.0053843040085602605), (2380, 0.005383873941591645), (1881, 0.0053836062831301825), (2926, 0.0053829697062479165), (3061, 0.005381558107956735), (3919, 0.005380636052525689), (1445, 0.005377915823608727), (1660, 0.005377908215852653), (1006, 0.005377461163658), (204, 0.0053773676104615295), (3018, 0.005375309806178642), (3599, 0.005374261818603986), (3514, 0.005373453585040067), (4421, 0.005373022961108783), (1224, 0.005372952720178889), (3591, 0.005372027966623709), (3351, 0.0053719914292234845), (2090, 0.00537193008186417), (797, 0.005371787074465296), (3378, 0.005371027042812763), (2042, 0.0053710060147938036), (3382, 0.00537087318769787), (4433, 0.005370079004778469), (879, 0.005369943298163402), (2561, 0.005369907462666149), (3310, 0.0053695712446851914), (890, 0.005368143906202896), (2601, 0.005367954193328074), (3162, 0.005367240330691746), (2531, 0.005364259263179036), (1047, 0.005362741787053615), (1513, 0.005361803874381217), (1432, 0.005361537527396932), (1024, 0.005360925610068532), (1851, 0.0053586223011092915), (2546, 0.005358269086685219), (884, 0.005355131845710677), (1613, 0.005353842919895136), (2241, 0.005352388526243403), (1702, 0.005349746903257736), (4125, 0.005345947254397377), (3229, 0.005345693093700207), (1364, 0.005344584506317332), (2325, 0.005343405184523626), (4756, 0.005342552170750686), (1602, 0.0053403461663367275), (3349, 0.005340073848001168), (4025, 0.005339889096162263), (1155, 0.0053384153913852055), (784, 0.005336927165491113), (1124, 0.005336297178694701), (1949, 0.00533615939689135), (2511, 0.005335167512699216), (4486, 0.005335103341876935), (3517, 0.005329402150560856), (1542, 0.0053291043898261664), (3930, 0.0053287391740829086), (2794, 0.0053287173948908225), (2816, 0.005325754673274825), (3648, 0.005325656841555243), (1765, 0.00532351367385778), (3549, 0.005323176482271801), (4648, 0.0053231644625955634), (4422, 0.005319055536094946), (3428, 0.005317653702106167), (4287, 0.0053176511373862236), (3198, 0.0053172109081116555), (2222, 0.005316524481177576), (671, 0.005314870602202972), (1847, 0.005314264680593463), (1382, 0.005312811436577364), (2456, 0.005312453896172247), (708, 0.005310483386034659), (2519, 0.005309265029074217), (1735, 0.0053080857514788025), (2648, 0.005307452010783924), (3489, 0.0053056230569979755), (1494, 0.005302550160705572), (1516, 0.005300858057137384), (730, 0.005299883218005308), (971, 0.005298007546790314), (2431, 0.005297460126814244), (3290, 0.005296973804319576), (4388, 0.00529313422455751), (3722, 0.0052921241575324155), (4319, 0.00529043514520696), (1557, 0.005289009776410523), (1777, 0.005287954323390926), (2092, 0.0052875107463239085), (814, 0.005287367162290259), (2856, 0.00528678062240344), (4329, 0.0052850355084120846), (1917, 0.005283572417018186), (1726, 0.005281827789597293), (245, 0.005279639015568728), (2307, 0.005279597326441196), (1525, 0.005277380866123784), (869, 0.005277347774439252), (3169, 0.005276658003831254), (3289, 0.005274940609701009), (1564, 0.005271547197635801), (846, 0.0052704600866996945), (3683, 0.005268720388190407), (3526, 0.005267547152273823), (4093, 0.005265147971735789), (42, 0.005264840743775824), (3209, 0.005264104889137939), (115, 0.00526307563582195), (3632, 0.005261102880038218), (110, 0.005260511015871546), (2200, 0.005259867054605641), (3912, 0.005258565811648609), (908, 0.005258280522618759), (134, 0.0052580304858106065), (933, 0.0052566669525821366), (969, 0.005253609380905384), (1337, 0.005252701252506866), (2290, 0.005252469005128028), (2582, 0.005251016815351891), (238, 0.005249732950943174), (1688, 0.005248607951027319), (3606, 0.005248048587325059), (4197, 0.005247239107961321), (1166, 0.005246738423343213), (3102, 0.005245924255423995), (3603, 0.005245387082779181), (2292, 0.005242338933800612), (1322, 0.0052396541070623935), (3812, 0.005238892371956318), (3303, 0.005237937695053893), (1425, 0.005236152535961825), (2397, 0.0052348140176184145), (3792, 0.005234401713745467), (2746, 0.005233459205975398), (2896, 0.005226907975830206), (4702, 0.005226664782017067), (28, 0.005225947413630885), (4049, 0.005223804549480662), (1105, 0.005223579335591651), (1204, 0.005222295851475488), (1533, 0.00522118162217341), (1302, 0.005220447267933454), (4135, 0.0052201604553885035), (2041, 0.005220031774506301), (579, 0.005217670334390188), (2487, 0.005216402287703926), (3650, 0.005215412513680232), (2586, 0.005215096529419332), (1476, 0.005214758422225886), (1751, 0.005207645655110616), (1879, 0.005207266448002889), (3739, 0.0052037406485245215), (1410, 0.005202160836985907), (3676, 0.005201474840428678), (1769, 0.005201392863896947), (3245, 0.005200522866272643), (1722, 0.005197715650962627), (2122, 0.005196181061525214), (2193, 0.005193975204391665), (2396, 0.005193934037249151), (1741, 0.005188798578978986), (758, 0.005187080556900418), (2192, 0.00518346141453132), (398, 0.0051829455324567415), (312, 0.005182768295731883), (3155, 0.005182363082921226), (736, 0.005181665726869832), (3034, 0.005180646564562429), (2994, 0.005180523331914538), (2449, 0.005180487741158458), (2492, 0.005179367804782113), (529, 0.005178966433358487), (504, 0.005178259644492729), (3541, 0.005177596796665429), (494, 0.005170780997581956), (822, 0.005168931714963446), (697, 0.005168670091166134), (4184, 0.005168157652766491), (1906, 0.005164614971902097), (1804, 0.0051627758903927045), (2340, 0.005159904329492609), (938, 0.00515935536434279), (4001, 0.005155818336062975), (3926, 0.0051554241371620955), (1170, 0.005152936450103766), (2081, 0.005152597928536814), (114, 0.0051520488222600285), (785, 0.0051502033890177545), (1304, 0.00514886367257469), (2495, 0.005146698366974101), (4738, 0.005144817524664803), (3662, 0.00514457618249678), (3033, 0.005144236404250123), (931, 0.005143599864713937), (2026, 0.005143061725106893), (3343, 0.005141947276086624), (1227, 0.0051419305552869565), (1644, 0.005141334774498873), (3188, 0.0051412868337795395), (479, 0.00514107562549898), (2046, 0.005140736966134101), (1501, 0.005140637634496914), (4291, 0.005139937662635936), (1133, 0.005136085073623236), (2387, 0.005135960375800957), (1345, 0.005135743134422586), (3104, 0.005135099000868422), (3665, 0.0051349041985331405), (4592, 0.005131214605034633), (3106, 0.005130854737608173), (4675, 0.005127801412843774), (1638, 0.005127190117045945), (1021, 0.005126993628656031), (1112, 0.005126572809016074), (3673, 0.005126307703932035), (3518, 0.005123269823758309), (525, 0.0051195962256619975), (1298, 0.005118637641248654), (2336, 0.0051182631033629645), (2999, 0.005117966642142653), (3570, 0.005114950325599614), (346, 0.005114546435244999), (3270, 0.005113685505821862), (4688, 0.005110793439679313), (22, 0.005110712532964869), (3545, 0.005108892307481567), (4394, 0.005107586393928642), (2836, 0.005107139275932191), (3477, 0.00510389954155334), (1834, 0.005102721386678923), (2280, 0.00509877230893861), (1837, 0.005096634615198187), (2060, 0.0050948881667942526), (3888, 0.0050928425997788665), (1986, 0.005090401444064459), (1411, 0.0050862515895370875), (2825, 0.005084771032574878), (174, 0.0050840990025557324), (50, 0.005083085792191176), (2435, 0.005082665697917979), (1028, 0.005079966887831466), (1913, 0.00507943412551175), (535, 0.005078720754802223), (3073, 0.005078357759220744), (3350, 0.005077907590892696), (1549, 0.005077241489115474), (3443, 0.005076869026180524), (1447, 0.005076855198446243), (867, 0.005072752255321759), (1313, 0.005072039716404127), (973, 0.005071050965849132), (1757, 0.005070486220513057), (1849, 0.005067126396033941), (3508, 0.005065423604869907), (2687, 0.00506398527210047), (1100, 0.005061967913479019), (1292, 0.005061575441382123), (2128, 0.0050615017087949), (3090, 0.0050614696785460725), (3644, 0.005057072227401783), (169, 0.005057049061938951), (215, 0.005056697454546461), (983, 0.0050553055778497094), (2639, 0.00505010190810887), (3260, 0.0050500532463573005), (2807, 0.0050495425111259295), (1286, 0.005046010014987564), (1084, 0.005043539270807747), (459, 0.005042606147019006), (995, 0.005042339959710499), (2945, 0.0050384096515099855), (1094, 0.0050371886931301095), (3288, 0.005036105421102832), (1842, 0.005036095855145376), (2087, 0.0050342782870019705), (4530, 0.005033880253190259), (3400, 0.005033653156307246), (3220, 0.005030493852106364), (3066, 0.005028859464810205), (4234, 0.0050212121397309704), (3836, 0.0050198611742071205), (1880, 0.005018366122595404), (1771, 0.005018148826975552), (2553, 0.005018004990528466), (217, 0.00501685477830756), (4073, 0.005016799183361175), (4327, 0.005016200002023342), (3402, 0.005015793820748616), (2677, 0.005014993673083642), (2322, 0.005013846252926358), (1284, 0.005010503705718587), (4395, 0.005007379804371995), (755, 0.005002147290588067), (3765, 0.004999859111018027), (1235, 0.004998918379127606), (2422, 0.004996350983064655), (404, 0.004995058337301945), (4442, 0.004992527387587481), (3531, 0.004992367309497396), (2461, 0.004990602759870716), (662, 0.004990506797260907), (3879, 0.004990165162840566), (3375, 0.004989768366674252), (49, 0.004989082589516706), (4367, 0.004987920610302711), (3127, 0.004985752436829223), (4192, 0.004984287261468731), (2912, 0.004983949842982019), (1618, 0.0049839231600043955), (3348, 0.0049812068807863355), (773, 0.004979243408015885), (1267, 0.004975750761213471), (2693, 0.004975701605726468), (2003, 0.004972643864529019), (2653, 0.004966933779163321), (2467, 0.004965982390067143), (3896, 0.00496322831694945), (4314, 0.004963077112769273), (3998, 0.004958797486989278), (1597, 0.00495819994746036), (3562, 0.004957823462713751), (923, 0.004956823438660223), (1668, 0.004955803301402924), (521, 0.004955682147095308), (1900, 0.004955499790022132), (4252, 0.004952243030587841), (585, 0.004951502119075721), (2681, 0.0049484557328277915), (1561, 0.004947386318994572), (1125, 0.004946148496814612), (2167, 0.004946033033980764), (2131, 0.004944560348367211), (1767, 0.00494448029352542), (3490, 0.00494284188878464), (1582, 0.0049414816089593545), (1544, 0.004940976863971209), (427, 0.00493706001223788), (1545, 0.004935786996233727), (3503, 0.004935613337484757), (3246, 0.004934391487794426), (1446, 0.004932510996182665), (367, 0.004930853637119812), (2367, 0.0049269952880901), (3595, 0.004924627738018261), (2143, 0.004921160654393498), (1526, 0.004918657138934347), (2309, 0.004916841351057845), (883, 0.004916822191091133), (2897, 0.004916400957348753), (1839, 0.004915376480975817), (3214, 0.004913939185369556), (1654, 0.004913141425523405), (1877, 0.004911629552890222), (2620, 0.004911565337466998), (2107, 0.004902822249608121), (2409, 0.004902263146549958), (157, 0.004902109175946963), (4321, 0.004900315784165229), (2962, 0.004898049216784991), (780, 0.004897128720992057), (984, 0.0048960024524851), (4213, 0.004894384474080127), (2787, 0.004894340473355898), (2140, 0.004894154585909258), (1190, 0.004893583251153912), (1073, 0.004893485188416509), (2706, 0.004893381975990908), (2242, 0.004892353879539586), (2068, 0.004890999992299623), (505, 0.0048896962430961645), (4206, 0.004889201199071857), (1376, 0.004887506447204668), (1878, 0.004887177410910328), (1363, 0.004884864924232649), (1487, 0.0048800943009561105), (649, 0.004878116417373761), (1818, 0.004877566234537008), (4037, 0.004875995909365066), (3712, 0.004875624647657887), (1787, 0.004875042773049418), (4246, 0.004873480917260285), (4071, 0.00487011485131304), (3646, 0.004866971402864931), (859, 0.004865403476836466), (325, 0.004863889120275546), (422, 0.004863216847760499), (197, 0.004859994462040668), (1256, 0.0048598590943534), (3194, 0.004858244929606782), (3864, 0.0048573275021165045), (2303, 0.004854456981696593), (3811, 0.004852288247110212), (2972, 0.00485169630036193), (2812, 0.004850785909696457), (1663, 0.004848993154484956), (4257, 0.004848765840407077), (2348, 0.004848197646773378), (2166, 0.004847499845463508), (2160, 0.00484340716618702), (1783, 0.004843031838177659), (1973, 0.00484200294653603), (2311, 0.004841840641514552), (1139, 0.004841319165916752), (1496, 0.004836745426528589), (2179, 0.004835345908621601), (507, 0.004833033013232242), (4254, 0.004832936833331574), (1203, 0.004832742818291556), (1693, 0.004832738740819383), (1372, 0.004828342911185097), (4690, 0.004827010614890148), (886, 0.0048254884973584706), (1709, 0.004825265391430088), (3941, 0.004823417100357871), (3071, 0.004821102851856881), (2594, 0.0048210906928794015), (941, 0.004820820709300301), (279, 0.0048185526674340675), (212, 0.00481694466230272), (1721, 0.00481643543368339), (1903, 0.004814902914768396), (4667, 0.0048134482402412675), (2099, 0.00481093512572674), (648, 0.004810307567072912), (471, 0.0048066981959629905), (1746, 0.004803769962868032), (3909, 0.004802256879229606), (4603, 0.0048012612926235125), (2052, 0.004800221668269318), (2992, 0.00479924527687885), (2327, 0.00479891938726828), (3732, 0.004795402038945126), (1778, 0.004794243944420391), (1457, 0.004793417775976283), (1673, 0.004791784599430281), (2866, 0.004789622974294023), (690, 0.004788944512139254), (2071, 0.00478843663347955), (2201, 0.004788119555879011), (4356, 0.004786898112361029), (1353, 0.004785819617150731), (3083, 0.004784796167804134), (710, 0.004781716419699752), (4305, 0.004781665189989945), (2272, 0.004780930621397335), (2446, 0.004780653235687431), (532, 0.0047795584329670725), (2874, 0.0047771309415400665), (3500, 0.004775321367462596), (4325, 0.004774158045211398), (1152, 0.0047719283843158855), (589, 0.004770233197743542), (916, 0.004769337595942848), (1291, 0.004767801785633302), (3321, 0.004762428741478564), (2548, 0.004755997775023525), (2399, 0.004751224444409756), (3839, 0.004747570256224461), (1477, 0.004747523608766712), (1149, 0.004745033828079706), (2315, 0.004744244070513748), (1543, 0.004742147323467328), (3753, 0.004741652156296842), (4174, 0.004737537674456112), (2274, 0.004736001109628919), (907, 0.004733379679590866), (2666, 0.004731626796522303), (1984, 0.004730794067102254), (3767, 0.004728186707558436), (4577, 0.004726012835374315), (788, 0.004725929584474333), (1157, 0.004722678595190111), (2225, 0.004714435624644133), (1524, 0.004714041244937335), (2207, 0.004712267482099), (4186, 0.004711679244486325), (4600, 0.004710370896855069), (1714, 0.00470592229399116), (3329, 0.004705559020914909), (958, 0.004704592036022541), (1974, 0.004703873067871195), (957, 0.004699961719623564), (2954, 0.004699788000656686), (3563, 0.004691164311434043), (1729, 0.00468801017917112), (759, 0.00468633064272354), (2036, 0.004685491874016183), (2728, 0.004685077247796069), (3842, 0.004684839294085578), (3295, 0.004684098097235555), (3885, 0.004682378532085469), (2033, 0.004681898161208259), (1200, 0.004678440350198833), (3197, 0.004677760893088762), (1784, 0.004673856948267377), (2265, 0.004672690702547267), (2236, 0.004670678530340217), (3267, 0.004670396402770962), (4447, 0.004669755336846491), (1216, 0.004667433779183147), (2063, 0.00466636393438858), (2424, 0.004665394140985899), (1626, 0.004663851818055202), (2402, 0.004661376407152856), (2043, 0.004661015053348124), (3304, 0.00466068124907664), (473, 0.004656671647709393), (3311, 0.004656029611913063), (1827, 0.004654477050143334), (4647, 0.00465436566306301), (1093, 0.004652130604840585), (632, 0.004651941055457604), (2058, 0.004644882159698228), (1485, 0.004643818819265722), (214, 0.0046413650439465345), (515, 0.004639579064260427), (2262, 0.004637121348608769), (1061, 0.004633816457346966), (2005, 0.004628262179925103), (3716, 0.004626104112362817), (2514, 0.004624296504439195), (3108, 0.004619687457648469), (4304, 0.0046196115322941645), (2591, 0.004617787933119817), (664, 0.0046138607314570555), (2976, 0.004610846947579936), (577, 0.0046098879509242924), (3633, 0.004609823878502971), (1870, 0.0046004191537986705), (1750, 0.004599968745328035), (3070, 0.0045978286430638044), (1318, 0.004590441320497523), (672, 0.004589722087459838), (3933, 0.004588007107942019), (2833, 0.004587969188462305), (1978, 0.004587565285721305), (383, 0.004587331410281228), (1025, 0.004586791222427042), (2156, 0.004583277425407684), (2161, 0.004583118721298955), (4237, 0.004582404024587547), (1994, 0.004579726202316217), (3082, 0.004577896554646905), (2264, 0.0045727849598068485), (703, 0.004572096058434367), (1694, 0.004569966638602611), (1652, 0.00456554194293871), (4104, 0.004562379164333348), (1830, 0.004560705936155359), (1954, 0.004559487046106132), (393, 0.004558132157197264), (3861, 0.004557676082991975), (1251, 0.004554691588037968), (3755, 0.004549021815208167), (820, 0.004546679416780844), (4358, 0.004541234807566097), (1199, 0.0045405351560178315), (836, 0.004537608353284827), (4596, 0.0045365531621449845), (912, 0.004526071153209945), (1405, 0.00452511510638704), (3, 0.004524905752087829), (1616, 0.004523270360332347), (1213, 0.004521457448294085), (4066, 0.0045201848400820135), (2240, 0.004516883973038392), (4156, 0.004511881841854392), (4558, 0.004509891234789489), (851, 0.004509092979546904), (1684, 0.004508678163802754), (2820, 0.0045020425759252575), (1482, 0.0044990436379515365), (520, 0.004497323819902458), (2460, 0.004485675884815724), (862, 0.004484095988803238), (1348, 0.004483420593949132), (4473, 0.004482834495364541), (4035, 0.004478598086467383), (2971, 0.004478588081779596), (2721, 0.004472437535722759), (4353, 0.0044699319918987705), (1217, 0.0044685668264209805), (3684, 0.004467003321079191), (3509, 0.004465673026113488), (1465, 0.004462477971966488), (1249, 0.004462388608327534), (892, 0.004459083366474163), (103, 0.004458173435392245), (3856, 0.004454551037305137), (3748, 0.004453426705409444), (2270, 0.004447232454250586), (1698, 0.004445953715197563), (629, 0.00444464040657567), (1212, 0.004440393624688764), (1370, 0.0044381151916832225), (278, 0.004433055123585261), (2001, 0.004432187611581668), (3238, 0.004429551259224126), (3393, 0.004426830900620193), (86, 0.004426591837916272), (1323, 0.0044223869871939), (4627, 0.004416593383857099), (1008, 0.004410531939979184), (2168, 0.004404565905957941), (60, 0.004403015036383648), (2098, 0.004402806896018511), (1088, 0.004399990956654492), (1070, 0.004399267099530646), (2146, 0.004398727365143088), (1523, 0.004397351123349375), (3579, 0.004393506151274754), (3916, 0.004385890388519394), (1781, 0.004379528701328805), (1178, 0.004372487300336651), (2758, 0.004371433365444441), (1340, 0.004371185874817362), (2933, 0.004371135800756771), (3855, 0.004367423963763299), (2855, 0.0043649007157161804), (3164, 0.0043588183042264075), (1639, 0.004357395193306787), (1010, 0.004353413645761742), (1300, 0.004352297006323289), (175, 0.004346278823308487), (1312, 0.00434367088355418), (2076, 0.004341104740539048), (4636, 0.004340590594797246), (3481, 0.00433191972404188), (2157, 0.0043280456298599185), (195, 0.004326348665406914), (3658, 0.004325190602862721), (1957, 0.004324198776928895), (2603, 0.0043229829997575965), (2877, 0.004321259619547265), (4610, 0.004319838258847742), (1214, 0.0043159841884790025), (1222, 0.004314882365459255), (3559, 0.0043142501776702175), (2211, 0.0043128744521415815), (786, 0.004311018443481914), (709, 0.004310077681924659), (1062, 0.004303753836993575), (2876, 0.004298821013284832), (1367, 0.004298343201669986), (1938, 0.0042914394266985725), (1078, 0.0042864608128473), (3430, 0.004284326357079487), (2227, 0.004277019422584502), (1944, 0.004274968095821221), (3212, 0.004266967115462048), (2508, 0.0042604718453153), (25, 0.00425772010017354), (2770, 0.0042563584765010366), (4200, 0.004255609424719398), (1752, 0.004255586515958536), (1571, 0.004255476875446192), (2025, 0.004245959913651522), (538, 0.004245856631435488), (2509, 0.0042298111316075295), (1289, 0.004228752139074705), (1156, 0.004225385451244617), (2331, 0.00422316820632164), (2913, 0.004221819704005122), (319, 0.004217412942521518), (2018, 0.004198318453907194), (366, 0.0041975342222250545), (3875, 0.004183630450498032), (4311, 0.00418178430352643), (156, 0.004181325837182226), (4744, 0.004172561651692156), (1317, 0.0041703577959437), (2441, 0.004168037039432916), (1695, 0.004166104982750795), (1963, 0.004164436455137413), (1344, 0.004162096312322824), (691, 0.00416003767574533), (3575, 0.004158272720617616), (3410, 0.004141957740015054), (1646, 0.004141441457793648), (1453, 0.004141401423597391), (1268, 0.004120646806922238), (510, 0.004114318117749668), (1586, 0.00411214300426617), (757, 0.004111469496596885), (1676, 0.004109760744239156), (3538, 0.004104169270828347), (1871, 0.004096700311861916), (2734, 0.004090977262390262), (2377, 0.004085903553029989), (609, 0.004083931049908858), (1677, 0.004049464669264652), (1320, 0.004040523940310635), (2113, 0.004027820717802703), (1040, 0.004020147779265749), (1403, 0.003954631466927771), (3626, 0.003948935754287133), (972, 0.003942533845265962), (369, 0.003939244381929782), (4652, 0.003934241908611995), (4182, 0.0039050593800068626), (1277, 0.003849067341568629), (1278, 0.003836924309230499), (1362, 0.0038249676823225087), (2671, 0.003780496540798604), (0, 0.0036989697472991443), (2814, 0.003682401299625318), (940, 0.0036022694894815533), (1919, 0.0035975488853226567), (129, 0.00359425557607651), (824, 0.003584309252064814), (3421, 0.0035609744428831145), (1506, 0.003524837728351066), (740, 0.0034529204333802895), (202, 0.0033774204205169207), (787, 0.003148363958695179), (2, 0.0), (4, 0.0), (7, 0.0), (8, 0.0), (11, 0.0), (12, 0.0), (13, 0.0), (15, 0.0), (16, 0.0), (20, 0.0), (21, 0.0), (23, 0.0), (24, 0.0), (26, 0.0), (29, 0.0), (30, 0.0), (31, 0.0), (33, 0.0), (34, 0.0), (43, 0.0), (44, 0.0), (47, 0.0), (48, 0.0), (51, 0.0), (52, 0.0), (61, 0.0), (64, 0.0), (66, 0.0), (68, 0.0), (70, 0.0), (71, 0.0), (72, 0.0), (74, 0.0), (76, 0.0), (84, 0.0), (85, 0.0), (87, 0.0), (88, 0.0), (89, 0.0), (92, 0.0), (97, 0.0), (102, 0.0), (104, 0.0), (105, 0.0), (106, 0.0), (107, 0.0), (108, 0.0), (109, 0.0), (111, 0.0), (112, 0.0), (116, 0.0), (117, 0.0), (120, 0.0), (121, 0.0), (122, 0.0), (123, 0.0), (125, 0.0), (126, 0.0), (127, 0.0), (128, 0.0), (131, 0.0), (132, 0.0), (136, 0.0), (137, 0.0), (138, 0.0), (140, 0.0), (142, 0.0), (143, 0.0), (144, 0.0), (149, 0.0), (155, 0.0), (158, 0.0), (159, 0.0), (162, 0.0), (164, 0.0), (166, 0.0), (167, 0.0), (168, 0.0), (172, 0.0), (180, 0.0), (181, 0.0), (183, 0.0), (186, 0.0), (190, 0.0), (192, 0.0), (194, 0.0), (196, 0.0), (198, 0.0), (200, 0.0), (209, 0.0), (210, 0.0), (213, 0.0), (216, 0.0), (220, 0.0), (221, 0.0), (223, 0.0), (224, 0.0), (226, 0.0), (227, 0.0), (230, 0.0), (233, 0.0), (235, 0.0), (236, 0.0), (243, 0.0), (244, 0.0), (249, 0.0), (250, 0.0), (254, 0.0), (255, 0.0), (256, 0.0), (259, 0.0), (262, 0.0), (266, 0.0), (267, 0.0), (268, 0.0), (269, 0.0), (271, 0.0), (272, 0.0), (274, 0.0), (280, 0.0), (281, 0.0), (282, 0.0), (285, 0.0), (287, 0.0), (293, 0.0), (296, 0.0), (304, 0.0), (307, 0.0), (309, 0.0), (317, 0.0), (324, 0.0), (326, 0.0), (328, 0.0), (330, 0.0), (332, 0.0), (333, 0.0), (342, 0.0), (343, 0.0), (347, 0.0), (349, 0.0), (353, 0.0), (355, 0.0), (356, 0.0), (358, 0.0), (370, 0.0), (371, 0.0), (373, 0.0), (375, 0.0), (378, 0.0), (386, 0.0), (388, 0.0), (389, 0.0), (394, 0.0), (395, 0.0), (396, 0.0), (399, 0.0), (400, 0.0), (402, 0.0), (406, 0.0), (408, 0.0), (412, 0.0), (429, 0.0), (432, 0.0), (434, 0.0), (435, 0.0), (436, 0.0), (437, 0.0), (438, 0.0), (441, 0.0), (442, 0.0), (443, 0.0), (444, 0.0), (445, 0.0), (446, 0.0), (447, 0.0), (448, 0.0), (449, 0.0), (455, 0.0), (460, 0.0), (463, 0.0), (464, 0.0), (465, 0.0), (466, 0.0), (470, 0.0), (475, 0.0), (476, 0.0), (478, 0.0), (480, 0.0), (481, 0.0), (482, 0.0), (484, 0.0), (485, 0.0), (486, 0.0), (488, 0.0), (489, 0.0), (490, 0.0), (492, 0.0), (493, 0.0), (495, 0.0), (499, 0.0), (500, 0.0), (502, 0.0), (512, 0.0), (513, 0.0), (514, 0.0), (518, 0.0), (522, 0.0), (524, 0.0), (526, 0.0), (533, 0.0), (534, 0.0), (541, 0.0), (542, 0.0), (543, 0.0), (544, 0.0), (547, 0.0), (549, 0.0), (551, 0.0), (554, 0.0), (555, 0.0), (560, 0.0), (561, 0.0), (562, 0.0), (564, 0.0), (566, 0.0), (571, 0.0), (573, 0.0), (574, 0.0), (575, 0.0), (578, 0.0), (581, 0.0), (584, 0.0), (587, 0.0), (588, 0.0), (590, 0.0), (593, 0.0), (595, 0.0), (596, 0.0), (597, 0.0), (598, 0.0), (611, 0.0), (612, 0.0), (614, 0.0), (618, 0.0), (620, 0.0), (621, 0.0), (623, 0.0), (624, 0.0), (625, 0.0), (628, 0.0), (636, 0.0), (637, 0.0), (642, 0.0), (643, 0.0), (644, 0.0), (645, 0.0), (646, 0.0), (647, 0.0), (651, 0.0), (652, 0.0), (653, 0.0), (655, 0.0), (656, 0.0), (657, 0.0), (658, 0.0), (660, 0.0), (663, 0.0), (669, 0.0), (670, 0.0), (675, 0.0), (676, 0.0), (680, 0.0), (682, 0.0), (683, 0.0), (684, 0.0), (685, 0.0), (693, 0.0), (694, 0.0), (696, 0.0), (698, 0.0), (701, 0.0), (705, 0.0), (706, 0.0), (717, 0.0), (718, 0.0), (719, 0.0), (727, 0.0), (728, 0.0), (731, 0.0), (732, 0.0), (733, 0.0), (734, 0.0), (738, 0.0), (747, 0.0), (749, 0.0), (750, 0.0), (753, 0.0), (761, 0.0), (765, 0.0), (766, 0.0), (767, 0.0), (769, 0.0), (774, 0.0), (779, 0.0), (782, 0.0), (783, 0.0), (789, 0.0), (791, 0.0), (792, 0.0), (796, 0.0), (799, 0.0), (801, 0.0), (803, 0.0), (805, 0.0), (806, 0.0), (808, 0.0), (809, 0.0), (812, 0.0), (813, 0.0), (816, 0.0), (818, 0.0), (819, 0.0), (825, 0.0), (827, 0.0), (828, 0.0), (829, 0.0), (831, 0.0), (832, 0.0), (838, 0.0), (843, 0.0), (844, 0.0), (845, 0.0), (848, 0.0), (854, 0.0), (857, 0.0), (858, 0.0), (861, 0.0), (863, 0.0), (864, 0.0), (865, 0.0), (866, 0.0), (868, 0.0), (874, 0.0), (876, 0.0), (877, 0.0), (881, 0.0), (887, 0.0), (888, 0.0), (891, 0.0), (895, 0.0), (896, 0.0), (897, 0.0), (900, 0.0), (901, 0.0), (910, 0.0), (913, 0.0), (917, 0.0), (922, 0.0), (924, 0.0), (927, 0.0), (928, 0.0), (929, 0.0), (930, 0.0), (942, 0.0), (944, 0.0), (949, 0.0), (959, 0.0), (962, 0.0), (967, 0.0), (974, 0.0), (975, 0.0), (976, 0.0), (980, 0.0), (981, 0.0), (986, 0.0), (988, 0.0), (989, 0.0), (993, 0.0), (994, 0.0), (997, 0.0), (1000, 0.0), (1004, 0.0), (1005, 0.0), (1009, 0.0), (1014, 0.0), (1015, 0.0), (1017, 0.0), (1018, 0.0), (1019, 0.0), (1020, 0.0), (1023, 0.0), (1026, 0.0), (1027, 0.0), (1030, 0.0), (1032, 0.0), (1033, 0.0), (1036, 0.0), (1037, 0.0), (1039, 0.0), (1042, 0.0), (1043, 0.0), (1046, 0.0), (1048, 0.0), (1054, 0.0), (1055, 0.0), (1058, 0.0), (1059, 0.0), (1060, 0.0), (1064, 0.0), (1065, 0.0), (1066, 0.0), (1068, 0.0), (1072, 0.0), (1075, 0.0), (1076, 0.0), (1077, 0.0), (1080, 0.0), (1083, 0.0), (1086, 0.0), (1096, 0.0), (1098, 0.0), (1101, 0.0), (1102, 0.0), (1107, 0.0), (1110, 0.0), (1120, 0.0), (1121, 0.0), (1122, 0.0), (1123, 0.0), (1127, 0.0), (1128, 0.0), (1129, 0.0), (1132, 0.0), (1136, 0.0), (1137, 0.0), (1138, 0.0), (1141, 0.0), (1144, 0.0), (1145, 0.0), (1147, 0.0), (1148, 0.0), (1161, 0.0), (1162, 0.0), (1164, 0.0), (1171, 0.0), (1172, 0.0), (1174, 0.0), (1182, 0.0), (1183, 0.0), (1186, 0.0), (1188, 0.0), (1209, 0.0), (1226, 0.0), (1236, 0.0), (1237, 0.0), (1245, 0.0), (1247, 0.0), (1248, 0.0), (1253, 0.0), (1255, 0.0), (1257, 0.0), (1259, 0.0), (1264, 0.0), (1275, 0.0), (1276, 0.0), (1281, 0.0), (1285, 0.0), (1290, 0.0), (1294, 0.0), (1303, 0.0), (1305, 0.0), (1306, 0.0), (1314, 0.0), (1316, 0.0), (1319, 0.0), (1325, 0.0), (1332, 0.0), (1334, 0.0), (1335, 0.0), (1338, 0.0), (1339, 0.0), (1349, 0.0), (1355, 0.0), (1356, 0.0), (1357, 0.0), (1360, 0.0), (1369, 0.0), (1377, 0.0), (1383, 0.0), (1384, 0.0), (1393, 0.0), (1399, 0.0), (1400, 0.0), (1402, 0.0), (1404, 0.0), (1406, 0.0), (1413, 0.0), (1414, 0.0), (1415, 0.0), (1416, 0.0), (1417, 0.0), (1419, 0.0), (1421, 0.0), (1423, 0.0), (1433, 0.0), (1434, 0.0), (1435, 0.0), (1438, 0.0), (1439, 0.0), (1442, 0.0), (1443, 0.0), (1450, 0.0), (1454, 0.0), (1455, 0.0), (1456, 0.0), (1462, 0.0), (1463, 0.0), (1464, 0.0), (1471, 0.0), (1472, 0.0), (1478, 0.0), (1481, 0.0), (1483, 0.0), (1484, 0.0), (1497, 0.0), (1499, 0.0), (1500, 0.0), (1502, 0.0), (1504, 0.0), (1509, 0.0), (1512, 0.0), (1519, 0.0), (1527, 0.0), (1538, 0.0), (1540, 0.0), (1548, 0.0), (1550, 0.0), (1553, 0.0), (1574, 0.0), (1576, 0.0), (1584, 0.0), (1591, 0.0), (1593, 0.0), (1605, 0.0), (1608, 0.0), (1612, 0.0), (1617, 0.0), (1619, 0.0), (1620, 0.0), (1621, 0.0), (1624, 0.0), (1625, 0.0), (1628, 0.0), (1629, 0.0), (1641, 0.0), (1648, 0.0), (1651, 0.0), (1653, 0.0), (1655, 0.0), (1657, 0.0), (1659, 0.0), (1665, 0.0), (1666, 0.0), (1669, 0.0), (1670, 0.0), (1671, 0.0), (1672, 0.0), (1674, 0.0), (1678, 0.0), (1680, 0.0), (1681, 0.0), (1682, 0.0), (1685, 0.0), (1687, 0.0), (1691, 0.0), (1692, 0.0), (1696, 0.0), (1703, 0.0), (1707, 0.0), (1708, 0.0), (1710, 0.0), (1711, 0.0), (1712, 0.0), (1716, 0.0), (1717, 0.0), (1720, 0.0), (1728, 0.0), (1736, 0.0), (1739, 0.0), (1740, 0.0), (1742, 0.0), (1743, 0.0), (1747, 0.0), (1748, 0.0), (1749, 0.0), (1754, 0.0), (1760, 0.0), (1761, 0.0), (1762, 0.0), (1763, 0.0), (1768, 0.0), (1770, 0.0), (1774, 0.0), (1775, 0.0), (1776, 0.0), (1779, 0.0), (1780, 0.0), (1782, 0.0), (1793, 0.0), (1796, 0.0), (1799, 0.0), (1800, 0.0), (1801, 0.0), (1805, 0.0), (1807, 0.0), (1808, 0.0), (1811, 0.0), (1814, 0.0), (1815, 0.0), (1820, 0.0), (1826, 0.0), (1828, 0.0), (1829, 0.0), (1832, 0.0), (1843, 0.0), (1845, 0.0), (1853, 0.0), (1854, 0.0), (1858, 0.0), (1860, 0.0), (1865, 0.0), (1866, 0.0), (1872, 0.0), (1874, 0.0), (1875, 0.0), (1884, 0.0), (1885, 0.0), (1890, 0.0), (1892, 0.0), (1897, 0.0), (1909, 0.0), (1910, 0.0), (1921, 0.0), (1922, 0.0), (1937, 0.0), (1946, 0.0), (1950, 0.0), (1952, 0.0), (1958, 0.0), (1959, 0.0), (1960, 0.0), (1964, 0.0), (1967, 0.0), (1969, 0.0), (1971, 0.0), (1972, 0.0), (1976, 0.0), (1977, 0.0), (1983, 0.0), (1988, 0.0), (1991, 0.0), (1995, 0.0), (2000, 0.0), (2008, 0.0), (2011, 0.0), (2020, 0.0), (2022, 0.0), (2024, 0.0), (2027, 0.0), (2029, 0.0), (2030, 0.0), (2035, 0.0), (2037, 0.0), (2038, 0.0), (2039, 0.0), (2040, 0.0), (2047, 0.0), (2051, 0.0), (2053, 0.0), (2054, 0.0), (2061, 0.0), (2070, 0.0), (2072, 0.0), (2078, 0.0), (2080, 0.0), (2084, 0.0), (2089, 0.0), (2091, 0.0), (2096, 0.0), (2097, 0.0), (2104, 0.0), (2105, 0.0), (2109, 0.0), (2112, 0.0), (2114, 0.0), (2118, 0.0), (2119, 0.0), (2120, 0.0), (2121, 0.0), (2123, 0.0), (2126, 0.0), (2132, 0.0), (2133, 0.0), (2135, 0.0), (2141, 0.0), (2142, 0.0), (2144, 0.0), (2149, 0.0), (2154, 0.0), (2155, 0.0), (2159, 0.0), (2162, 0.0), (2163, 0.0), (2165, 0.0), (2169, 0.0), (2173, 0.0), (2174, 0.0), (2175, 0.0), (2181, 0.0), (2182, 0.0), (2184, 0.0), (2188, 0.0), (2189, 0.0), (2190, 0.0), (2191, 0.0), (2196, 0.0), (2197, 0.0), (2205, 0.0), (2206, 0.0), (2210, 0.0), (2212, 0.0), (2213, 0.0), (2214, 0.0), (2216, 0.0), (2220, 0.0), (2224, 0.0), (2226, 0.0), (2231, 0.0), (2235, 0.0), (2238, 0.0), (2243, 0.0), (2244, 0.0), (2247, 0.0), (2248, 0.0), (2250, 0.0), (2251, 0.0), (2252, 0.0), (2253, 0.0), (2254, 0.0), (2256, 0.0), (2257, 0.0), (2263, 0.0), (2266, 0.0), (2267, 0.0), (2268, 0.0), (2275, 0.0), (2276, 0.0), (2288, 0.0), (2289, 0.0), (2291, 0.0), (2293, 0.0), (2299, 0.0), (2300, 0.0), (2301, 0.0), (2306, 0.0), (2310, 0.0), (2317, 0.0), (2321, 0.0), (2323, 0.0), (2326, 0.0), (2328, 0.0), (2334, 0.0), (2338, 0.0), (2341, 0.0), (2342, 0.0), (2343, 0.0), (2344, 0.0), (2346, 0.0), (2349, 0.0), (2350, 0.0), (2354, 0.0), (2358, 0.0), (2359, 0.0), (2361, 0.0), (2362, 0.0), (2370, 0.0), (2374, 0.0), (2376, 0.0), (2378, 0.0), (2386, 0.0), (2388, 0.0), (2390, 0.0), (2392, 0.0), (2393, 0.0), (2401, 0.0), (2405, 0.0), (2407, 0.0), (2415, 0.0), (2416, 0.0), (2417, 0.0), (2418, 0.0), (2425, 0.0), (2429, 0.0), (2437, 0.0), (2438, 0.0), (2447, 0.0), (2448, 0.0), (2453, 0.0), (2454, 0.0), (2457, 0.0), (2459, 0.0), (2462, 0.0), (2463, 0.0), (2466, 0.0), (2469, 0.0), (2470, 0.0), (2471, 0.0), (2475, 0.0), (2476, 0.0), (2477, 0.0), (2481, 0.0), (2482, 0.0), (2484, 0.0), (2489, 0.0), (2513, 0.0), (2517, 0.0), (2524, 0.0), (2525, 0.0), (2526, 0.0), (2527, 0.0), (2528, 0.0), (2534, 0.0), (2538, 0.0), (2540, 0.0), (2544, 0.0), (2545, 0.0), (2552, 0.0), (2556, 0.0), (2557, 0.0), (2558, 0.0), (2560, 0.0), (2563, 0.0), (2565, 0.0), (2568, 0.0), (2571, 0.0), (2572, 0.0), (2576, 0.0), (2577, 0.0), (2578, 0.0), (2579, 0.0), (2580, 0.0), (2583, 0.0), (2585, 0.0), (2589, 0.0), (2593, 0.0), (2595, 0.0), (2598, 0.0), (2606, 0.0), (2607, 0.0), (2611, 0.0), (2612, 0.0), (2614, 0.0), (2621, 0.0), (2622, 0.0), (2623, 0.0), (2624, 0.0), (2625, 0.0), (2627, 0.0), (2628, 0.0), (2629, 0.0), (2632, 0.0), (2634, 0.0), (2636, 0.0), (2638, 0.0), (2643, 0.0), (2645, 0.0), (2649, 0.0), (2650, 0.0), (2651, 0.0), (2652, 0.0), (2654, 0.0), (2658, 0.0), (2664, 0.0), (2668, 0.0), (2670, 0.0), (2673, 0.0), (2674, 0.0), (2689, 0.0), (2692, 0.0), (2694, 0.0), (2695, 0.0), (2697, 0.0), (2698, 0.0), (2700, 0.0), (2705, 0.0), (2708, 0.0), (2711, 0.0), (2714, 0.0), (2716, 0.0), (2717, 0.0), (2719, 0.0), (2723, 0.0), (2724, 0.0), (2735, 0.0), (2739, 0.0), (2742, 0.0), (2743, 0.0), (2745, 0.0), (2750, 0.0), (2753, 0.0), (2760, 0.0), (2761, 0.0), (2762, 0.0), (2765, 0.0), (2766, 0.0), (2767, 0.0), (2768, 0.0), (2771, 0.0), (2772, 0.0), (2777, 0.0), (2778, 0.0), (2779, 0.0), (2783, 0.0), (2784, 0.0), (2788, 0.0), (2789, 0.0), (2790, 0.0), (2791, 0.0), (2792, 0.0), (2795, 0.0), (2798, 0.0), (2800, 0.0), (2802, 0.0), (2808, 0.0), (2809, 0.0), (2815, 0.0), (2819, 0.0), (2821, 0.0), (2841, 0.0), (2842, 0.0), (2844, 0.0), (2845, 0.0), (2848, 0.0), (2849, 0.0), (2851, 0.0), (2853, 0.0), (2861, 0.0), (2862, 0.0), (2863, 0.0), (2864, 0.0), (2868, 0.0), (2869, 0.0), (2878, 0.0), (2879, 0.0), (2881, 0.0), (2883, 0.0), (2886, 0.0), (2889, 0.0), (2890, 0.0), (2892, 0.0), (2894, 0.0), (2900, 0.0), (2901, 0.0), (2902, 0.0), (2903, 0.0), (2905, 0.0), (2907, 0.0), (2908, 0.0), (2909, 0.0), (2910, 0.0), (2911, 0.0), (2915, 0.0), (2916, 0.0), (2917, 0.0), (2918, 0.0), (2919, 0.0), (2923, 0.0), (2931, 0.0), (2932, 0.0), (2934, 0.0), (2936, 0.0), (2938, 0.0), (2942, 0.0), (2943, 0.0), (2946, 0.0), (2947, 0.0), (2953, 0.0), (2958, 0.0), (2959, 0.0), (2961, 0.0), (2963, 0.0), (2964, 0.0), (2965, 0.0), (2967, 0.0), (2974, 0.0), (2975, 0.0), (2977, 0.0), (2980, 0.0), (2981, 0.0), (2985, 0.0), (2987, 0.0), (2988, 0.0), (2995, 0.0), (2997, 0.0), (3000, 0.0), (3004, 0.0), (3006, 0.0), (3007, 0.0), (3008, 0.0), (3010, 0.0), (3011, 0.0), (3012, 0.0), (3013, 0.0), (3015, 0.0), (3019, 0.0), (3022, 0.0), (3024, 0.0), (3029, 0.0), (3030, 0.0), (3031, 0.0), (3032, 0.0), (3035, 0.0), (3036, 0.0), (3043, 0.0), (3045, 0.0), (3046, 0.0), (3047, 0.0), (3049, 0.0), (3051, 0.0), (3052, 0.0), (3053, 0.0), (3055, 0.0), (3057, 0.0), (3059, 0.0), (3064, 0.0), (3067, 0.0), (3072, 0.0), (3075, 0.0), (3076, 0.0), (3079, 0.0), (3081, 0.0), (3085, 0.0), (3093, 0.0), (3094, 0.0), (3095, 0.0), (3101, 0.0), (3103, 0.0), (3107, 0.0), (3111, 0.0), (3117, 0.0), (3119, 0.0), (3123, 0.0), (3125, 0.0), (3128, 0.0), (3138, 0.0), (3140, 0.0), (3143, 0.0), (3144, 0.0), (3145, 0.0), (3148, 0.0), (3151, 0.0), (3153, 0.0), (3154, 0.0), (3158, 0.0), (3159, 0.0), (3161, 0.0), (3165, 0.0), (3170, 0.0), (3171, 0.0), (3173, 0.0), (3174, 0.0), (3176, 0.0), (3180, 0.0), (3184, 0.0), (3185, 0.0), (3186, 0.0), (3199, 0.0), (3200, 0.0), (3201, 0.0), (3210, 0.0), (3211, 0.0), (3213, 0.0), (3216, 0.0), (3219, 0.0), (3222, 0.0), (3223, 0.0), (3225, 0.0), (3226, 0.0), (3227, 0.0), (3228, 0.0), (3230, 0.0), (3233, 0.0), (3237, 0.0), (3240, 0.0), (3241, 0.0), (3242, 0.0), (3243, 0.0), (3247, 0.0), (3248, 0.0), (3251, 0.0), (3252, 0.0), (3254, 0.0), (3255, 0.0), (3261, 0.0), (3262, 0.0), (3263, 0.0), (3264, 0.0), (3268, 0.0), (3269, 0.0), (3273, 0.0), (3274, 0.0), (3275, 0.0), (3291, 0.0), (3293, 0.0), (3294, 0.0), (3296, 0.0), (3298, 0.0), (3299, 0.0), (3300, 0.0), (3301, 0.0), (3302, 0.0), (3306, 0.0), (3307, 0.0), (3312, 0.0), (3313, 0.0), (3314, 0.0), (3316, 0.0), (3317, 0.0), (3322, 0.0), (3325, 0.0), (3326, 0.0), (3331, 0.0), (3333, 0.0), (3335, 0.0), (3336, 0.0), (3339, 0.0), (3340, 0.0), (3341, 0.0), (3344, 0.0), (3345, 0.0), (3347, 0.0), (3353, 0.0), (3354, 0.0), (3356, 0.0), (3358, 0.0), (3359, 0.0), (3362, 0.0), (3363, 0.0), (3365, 0.0), (3368, 0.0), (3369, 0.0), (3372, 0.0), (3374, 0.0), (3376, 0.0), (3379, 0.0), (3380, 0.0), (3390, 0.0), (3392, 0.0), (3396, 0.0), (3399, 0.0), (3403, 0.0), (3407, 0.0), (3409, 0.0), (3412, 0.0), (3417, 0.0), (3420, 0.0), (3423, 0.0), (3425, 0.0), (3429, 0.0), (3431, 0.0), (3432, 0.0), (3434, 0.0), (3436, 0.0), (3450, 0.0), (3451, 0.0), (3452, 0.0), (3453, 0.0), (3455, 0.0), (3457, 0.0), (3458, 0.0), (3459, 0.0), (3460, 0.0), (3466, 0.0), (3468, 0.0), (3472, 0.0), (3473, 0.0), (3476, 0.0), (3478, 0.0), (3483, 0.0), (3491, 0.0), (3497, 0.0), (3498, 0.0), (3501, 0.0), (3504, 0.0), (3505, 0.0), (3506, 0.0), (3507, 0.0), (3511, 0.0), (3515, 0.0), (3521, 0.0), (3523, 0.0), (3524, 0.0), (3527, 0.0), (3533, 0.0), (3534, 0.0), (3540, 0.0), (3542, 0.0), (3548, 0.0), (3551, 0.0), (3553, 0.0), (3557, 0.0), (3558, 0.0), (3561, 0.0), (3569, 0.0), (3573, 0.0), (3588, 0.0), (3590, 0.0), (3593, 0.0), (3594, 0.0), (3596, 0.0), (3602, 0.0), (3604, 0.0), (3605, 0.0), (3607, 0.0), (3608, 0.0), (3611, 0.0), (3612, 0.0), (3613, 0.0), (3614, 0.0), (3615, 0.0), (3617, 0.0), (3618, 0.0), (3620, 0.0), (3623, 0.0), (3625, 0.0), (3631, 0.0), (3634, 0.0), (3636, 0.0), (3637, 0.0), (3640, 0.0), (3642, 0.0), (3643, 0.0), (3645, 0.0), (3647, 0.0), (3653, 0.0), (3654, 0.0), (3655, 0.0), (3656, 0.0), (3659, 0.0), (3660, 0.0), (3661, 0.0), (3663, 0.0), (3667, 0.0), (3668, 0.0), (3669, 0.0), (3672, 0.0), (3677, 0.0), (3679, 0.0), (3680, 0.0), (3682, 0.0), (3687, 0.0), (3689, 0.0), (3691, 0.0), (3692, 0.0), (3694, 0.0), (3696, 0.0), (3701, 0.0), (3703, 0.0), (3704, 0.0), (3705, 0.0), (3706, 0.0), (3707, 0.0), (3708, 0.0), (3710, 0.0), (3711, 0.0), (3713, 0.0), (3714, 0.0), (3717, 0.0), (3719, 0.0), (3721, 0.0), (3723, 0.0), (3725, 0.0), (3727, 0.0), (3729, 0.0), (3737, 0.0), (3741, 0.0), (3745, 0.0), (3749, 0.0), (3750, 0.0), (3752, 0.0), (3756, 0.0), (3757, 0.0), (3760, 0.0), (3761, 0.0), (3762, 0.0), (3766, 0.0), (3770, 0.0), (3771, 0.0), (3774, 0.0), (3775, 0.0), (3776, 0.0), (3778, 0.0), (3780, 0.0), (3781, 0.0), (3784, 0.0), (3794, 0.0), (3799, 0.0), (3804, 0.0), (3806, 0.0), (3807, 0.0), (3809, 0.0), (3813, 0.0), (3814, 0.0), (3819, 0.0), (3821, 0.0), (3825, 0.0), (3827, 0.0), (3828, 0.0), (3829, 0.0), (3830, 0.0), (3835, 0.0), (3838, 0.0), (3841, 0.0), (3847, 0.0), (3848, 0.0), (3850, 0.0), (3854, 0.0), (3857, 0.0), (3860, 0.0), (3863, 0.0), (3873, 0.0), (3876, 0.0), (3878, 0.0), (3880, 0.0), (3883, 0.0), (3887, 0.0), (3891, 0.0), (3893, 0.0), (3894, 0.0), (3895, 0.0), (3897, 0.0), (3898, 0.0), (3899, 0.0), (3900, 0.0), (3902, 0.0), (3904, 0.0), (3906, 0.0), (3910, 0.0), (3911, 0.0), (3913, 0.0), (3915, 0.0), (3918, 0.0), (3920, 0.0), (3924, 0.0), (3925, 0.0), (3927, 0.0), (3928, 0.0), (3929, 0.0), (3935, 0.0), (3939, 0.0), (3945, 0.0), (3946, 0.0), (3947, 0.0), (3948, 0.0), (3951, 0.0), (3953, 0.0), (3954, 0.0), (3955, 0.0), (3956, 0.0), (3957, 0.0), (3959, 0.0), (3960, 0.0), (3966, 0.0), (3974, 0.0), (3978, 0.0), (3981, 0.0), (3983, 0.0), (3986, 0.0), (3987, 0.0), (3990, 0.0), (3993, 0.0), (3997, 0.0), (3999, 0.0), (4000, 0.0), (4002, 0.0), (4004, 0.0), (4005, 0.0), (4011, 0.0), (4013, 0.0), (4014, 0.0), (4015, 0.0), (4017, 0.0), (4019, 0.0), (4020, 0.0), (4021, 0.0), (4024, 0.0), (4030, 0.0), (4033, 0.0), (4038, 0.0), (4039, 0.0), (4042, 0.0), (4043, 0.0), (4045, 0.0), (4047, 0.0), (4048, 0.0), (4050, 0.0), (4053, 0.0), (4057, 0.0), (4059, 0.0), (4062, 0.0), (4065, 0.0), (4067, 0.0), (4068, 0.0), (4072, 0.0), (4075, 0.0), (4079, 0.0), (4080, 0.0), (4082, 0.0), (4083, 0.0), (4087, 0.0), (4088, 0.0), (4092, 0.0), (4095, 0.0), (4096, 0.0), (4098, 0.0), (4100, 0.0), (4107, 0.0), (4110, 0.0), (4119, 0.0), (4122, 0.0), (4123, 0.0), (4126, 0.0), (4129, 0.0), (4136, 0.0), (4137, 0.0), (4139, 0.0), (4141, 0.0), (4145, 0.0), (4146, 0.0), (4151, 0.0), (4154, 0.0), (4155, 0.0), (4162, 0.0), (4164, 0.0), (4169, 0.0), (4170, 0.0), (4171, 0.0), (4175, 0.0), (4177, 0.0), (4178, 0.0), (4179, 0.0), (4183, 0.0), (4185, 0.0), (4201, 0.0), (4202, 0.0), (4205, 0.0), (4208, 0.0), (4212, 0.0), (4216, 0.0), (4219, 0.0), (4220, 0.0), (4221, 0.0), (4225, 0.0), (4228, 0.0), (4229, 0.0), (4230, 0.0), (4231, 0.0), (4232, 0.0), (4235, 0.0), (4241, 0.0), (4242, 0.0), (4243, 0.0), (4244, 0.0), (4245, 0.0), (4247, 0.0), (4248, 0.0), (4249, 0.0), (4250, 0.0), (4253, 0.0), (4255, 0.0), (4261, 0.0), (4262, 0.0), (4264, 0.0), (4265, 0.0), (4266, 0.0), (4267, 0.0), (4268, 0.0), (4274, 0.0), (4275, 0.0), (4276, 0.0), (4277, 0.0), (4279, 0.0), (4281, 0.0), (4286, 0.0), (4296, 0.0), (4298, 0.0), (4301, 0.0), (4306, 0.0), (4307, 0.0), (4309, 0.0), (4310, 0.0), (4312, 0.0), (4313, 0.0), (4318, 0.0), (4320, 0.0), (4322, 0.0), (4326, 0.0), (4328, 0.0), (4330, 0.0), (4333, 0.0), (4334, 0.0), (4339, 0.0), (4340, 0.0), (4342, 0.0), (4343, 0.0), (4344, 0.0), (4348, 0.0), (4349, 0.0), (4350, 0.0), (4355, 0.0), (4359, 0.0), (4361, 0.0), (4362, 0.0), (4363, 0.0), (4365, 0.0), (4368, 0.0), (4369, 0.0), (4372, 0.0), (4373, 0.0), (4375, 0.0), (4376, 0.0), (4378, 0.0), (4379, 0.0), (4380, 0.0), (4381, 0.0), (4383, 0.0), (4384, 0.0), (4386, 0.0), (4387, 0.0), (4390, 0.0), (4391, 0.0), (4393, 0.0), (4396, 0.0), (4397, 0.0), (4398, 0.0), (4399, 0.0), (4400, 0.0), (4402, 0.0), (4403, 0.0), (4406, 0.0), (4407, 0.0), (4409, 0.0), (4410, 0.0), (4411, 0.0), (4415, 0.0), (4416, 0.0), (4424, 0.0), (4425, 0.0), (4427, 0.0), (4429, 0.0), (4430, 0.0), (4431, 0.0), (4432, 0.0), (4436, 0.0), (4438, 0.0), (4443, 0.0), (4444, 0.0), (4450, 0.0), (4458, 0.0), (4461, 0.0), (4462, 0.0), (4464, 0.0), (4465, 0.0), (4468, 0.0), (4469, 0.0), (4470, 0.0), (4471, 0.0), (4472, 0.0), (4474, 0.0), (4475, 0.0), (4476, 0.0), (4479, 0.0), (4481, 0.0), (4490, 0.0), (4494, 0.0), (4495, 0.0), (4497, 0.0), (4500, 0.0), (4503, 0.0), (4505, 0.0), (4508, 0.0), (4511, 0.0), (4515, 0.0), (4520, 0.0), (4521, 0.0), (4524, 0.0), (4529, 0.0), (4536, 0.0), (4540, 0.0), (4541, 0.0), (4543, 0.0), (4544, 0.0), (4546, 0.0), (4551, 0.0), (4553, 0.0), (4559, 0.0), (4561, 0.0), (4563, 0.0), (4567, 0.0), (4568, 0.0), (4573, 0.0), (4574, 0.0), (4575, 0.0), (4576, 0.0), (4578, 0.0), (4579, 0.0), (4586, 0.0), (4587, 0.0), (4590, 0.0), (4591, 0.0), (4594, 0.0), (4597, 0.0), (4598, 0.0), (4601, 0.0), (4602, 0.0), (4604, 0.0), (4605, 0.0), (4606, 0.0), (4608, 0.0), (4611, 0.0), (4612, 0.0), (4616, 0.0), (4617, 0.0), (4619, 0.0), (4620, 0.0), (4624, 0.0), (4625, 0.0), (4632, 0.0), (4634, 0.0), (4635, 0.0), (4637, 0.0), (4638, 0.0), (4640, 0.0), (4642, 0.0), (4644, 0.0), (4649, 0.0), (4651, 0.0), (4653, 0.0), (4656, 0.0), (4657, 0.0), (4658, 0.0), (4659, 0.0), (4660, 0.0), (4661, 0.0), (4662, 0.0), (4664, 0.0), (4666, 0.0), (4670, 0.0), (4671, 0.0), (4677, 0.0), (4678, 0.0), (4679, 0.0), (4680, 0.0), (4681, 0.0), (4682, 0.0), (4684, 0.0), (4685, 0.0), (4686, 0.0), (4687, 0.0), (4689, 0.0), (4691, 0.0), (4692, 0.0), (4693, 0.0), (4694, 0.0), (4705, 0.0), (4707, 0.0), (4709, 0.0), (4710, 0.0), (4713, 0.0), (4714, 0.0), (4715, 0.0), (4718, 0.0), (4722, 0.0), (4723, 0.0), (4724, 0.0), (4727, 0.0), (4728, 0.0), (4729, 0.0), (4730, 0.0), (4731, 0.0), (4732, 0.0), (4733, 0.0), (4735, 0.0), (4736, 0.0), (4739, 0.0), (4740, 0.0), (4741, 0.0), (4743, 0.0), (4747, 0.0), (4748, 0.0), (4749, 0.0), (4752, 0.0), (4753, 0.0), (4757, 0.0), (4758, 0.0), (4759, 0.0)]\n"
          ]
        }
      ]
    },
    {
      "cell_type": "code",
      "source": [
        "#print the name of similar movie based on the index\n",
        "print('Top 30 Movies Suggested for You : \\n')\n",
        "i = 1\n",
        "\n",
        "for movie in Sorted_Similar_Movies:\n",
        "  index = movie[0]\n",
        "  title_from_index = df[df.index==index]['Movie_Title'].values[0]\n",
        "  if(i<31):\n",
        "    print(i,',',title_from_index)\n",
        "    i+=1"
      ],
      "metadata": {
        "colab": {
          "base_uri": "https://localhost:8080/"
        },
        "id": "wIf550LQ0usk",
        "outputId": "9587f4dc-51a7-4aa2-f37b-74ecdc91c476"
      },
      "execution_count": 83,
      "outputs": [
        {
          "output_type": "stream",
          "name": "stdout",
          "text": [
            "Top 30 Movies Suggested for You : \n",
            "\n",
            "1 , Incident at Loch Ness\n",
            "2 , Jack Reacher\n",
            "3 , Rescue Dawn\n",
            "4 , The Bad Lieutenant: Port of Call - New Orleans\n",
            "5 , Bamboozled\n",
            "6 , Pocahontas\n",
            "7 , Proof of Life\n",
            "8 , Loser\n",
            "9 , Down to You\n",
            "10 , The Thin Red Line\n",
            "11 , Shanghai Surprise\n",
            "12 , Certifiably Jonathan\n",
            "13 , A LEGO Brickumentary\n",
            "14 , The Believer\n",
            "15 , The Ring Two\n",
            "16 , Lights Out\n",
            "17 , House of D\n",
            "18 , Friday the 13th Part 2\n",
            "19 , Juwanna Mann\n",
            "20 , The Tree of Life\n",
            "21 , Grand Theft Parsons\n",
            "22 , Vessel\n",
            "23 , Harold & Kumar Go to White Castle\n",
            "24 , The Mask\n",
            "25 , Son of the Mask\n",
            "26 , The Monuments Men\n",
            "27 , The Crying Game\n",
            "28 , A Haunted House 2\n",
            "29 , Fido\n",
            "30 , Woo\n"
          ]
        }
      ]
    },
    {
      "cell_type": "markdown",
      "source": [
        "**Top 10 Movie Recommendation System**"
      ],
      "metadata": {
        "id": "epW6vN8a3yM0"
      }
    },
    {
      "cell_type": "code",
      "source": [
        "Movie_Name = input('Enter your favourite movie name :')\n",
        "list_of_all_titles = df['Movie_Title'].tolist()\n",
        "Find_Close_Match = difflib.get_close_matches(Movie_Name, list_of_all_titles)\n",
        "Close_Match = Find_Close_Match[0]\n",
        "Index_of_Movie = df[df.Movie_Title == Close_Match]['Movie_ID'].values[0]\n",
        "Recommendation_score = list(enumerate(Similarity_Score[Index_of_Movie]))\n",
        "sorted_similar_movies = sorted(Recommendation_score, key = lambda x:x[1], reverse = True)\n",
        "print('Top 10 Movies suggested for you :\\n')\n",
        "i=1\n",
        "for movie in sorted_similar_movies:\n",
        "  index = movie[0]\n",
        "  title_from_index = df[df.Movie_ID==index]['Movie_Title'].values\n",
        "  if(i<11):\n",
        "    print(i, '.',title_from_index)\n",
        "    i+=1"
      ],
      "metadata": {
        "colab": {
          "base_uri": "https://localhost:8080/"
        },
        "id": "yY8Xc5ED3oAr",
        "outputId": "c2391489-157f-4325-cb3c-37867c3e16ff"
      },
      "execution_count": 85,
      "outputs": [
        {
          "output_type": "stream",
          "name": "stdout",
          "text": [
            "Enter your favourite movie name :krishna\n",
            "Top 10 Movies suggested for you :\n",
            "\n",
            "1 . ['Prison']\n",
            "2 . ['Red Lights']\n",
            "3 . ['Find Me Guilty']\n",
            "4 . ['The Man Who Shot Liberty Valance']\n",
            "5 . ['The Open Road']\n",
            "6 . ['Sherlock Holmes']\n",
            "7 . ['The Prophecy']\n",
            "8 . ['Autumn in New York']\n",
            "9 . ['Next Friday']\n",
            "10 . ['Anchorman: The Legend of Ron Burgundy']\n"
          ]
        }
      ]
    }
  ]
}